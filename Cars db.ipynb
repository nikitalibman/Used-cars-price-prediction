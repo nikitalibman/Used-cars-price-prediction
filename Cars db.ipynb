{
 "cells": [
  {
   "cell_type": "markdown",
   "id": "929c58c9",
   "metadata": {},
   "source": [
    "# Scope of work\n",
    "\n",
    "1) Import all necessary libraries and modules.  \n",
    "2) First we need to obtain inforamtion about all available cars from the first main pages.  \n",
    "3) Create a SQL database and export there gathered info about cars from the main pages.  \n",
    "4) Then we will call module dealers_cars to acquire links to every dealer's list of cars from all main pages.  \n",
    "5) Now we will repeat the same procedure as in the 1st step but to the every dealer's cars list.  \n",
    "6) Add extracted data to a created SQL database"
   ]
  },
  {
   "cell_type": "markdown",
   "id": "ecd9134c",
   "metadata": {},
   "source": [
    "## 1. Imort of libraries and modules"
   ]
  },
  {
   "cell_type": "code",
   "execution_count": 1,
   "id": "8c68fa33",
   "metadata": {},
   "outputs": [],
   "source": [
    "import main_pages\n",
    "import parsing\n",
    "import marks\n",
    "import dataframe\n",
    "import sql_db\n",
    "import dealers_cars\n",
    "import cars_scraper\n",
    "from datetime import datetime"
   ]
  },
  {
   "cell_type": "markdown",
   "id": "19db7745",
   "metadata": {},
   "source": [
    "## 2. Acquring cars' information from the first main pages"
   ]
  },
  {
   "cell_type": "markdown",
   "id": "c7d7fa0a",
   "metadata": {},
   "source": [
    "Here we call the 1st module 'parsing' to scrap data from the main pages of the website. Then we store all gathered information about cars into corresponding lists."
   ]
  },
  {
   "cell_type": "code",
   "execution_count": 2,
   "id": "d9f04787",
   "metadata": {},
   "outputs": [],
   "source": [
    "# Link to the main webpage\n",
    "url = 'https://www.autoscout24.com/lst?atype=C&desc=0&sort=standard&source=homepage_search-mask&ustate=N%2CU'"
   ]
  },
  {
   "cell_type": "markdown",
   "id": "a18fcd0a",
   "metadata": {},
   "source": [
    "The module **main_pages** collects all URLs of the main pages from the website autoscout24.com"
   ]
  },
  {
   "cell_type": "code",
   "execution_count": 3,
   "id": "31011ed9",
   "metadata": {},
   "outputs": [],
   "source": [
    "all_pages = main_pages.pages_urls(url)"
   ]
  },
  {
   "cell_type": "markdown",
   "id": "1249f800",
   "metadata": {},
   "source": [
    "With a help of **parsing** module we scrap info about cars from main pages (20)."
   ]
  },
  {
   "cell_type": "code",
   "execution_count": 4,
   "id": "91e8cbd4",
   "metadata": {},
   "outputs": [
    {
     "name": "stdout",
     "output_type": "stream",
     "text": [
      "Total time : 0:00:21.820893\n"
     ]
    }
   ],
   "source": [
    "start = datetime.now()\n",
    "cars, characteristics, prices, locations = parsing.cars_info(all_pages)\n",
    "end = datetime.now()\n",
    "print('Total time :', end-start)"
   ]
  },
  {
   "cell_type": "markdown",
   "id": "69d04635",
   "metadata": {},
   "source": [
    "Here we call the module **marks** in order to extract all existing car marks from the website. Afterwards we will replace\n",
    "spaces in marks' names into dashes '-'"
   ]
  },
  {
   "cell_type": "code",
   "execution_count": 5,
   "id": "4f173641",
   "metadata": {},
   "outputs": [],
   "source": [
    "marks_menu = marks.all_marks(url)"
   ]
  },
  {
   "cell_type": "markdown",
   "id": "b63ba5e0",
   "metadata": {},
   "source": [
    "Here we call the module **dataframe** in order to gather all info about cars into one dataframe"
   ]
  },
  {
   "cell_type": "code",
   "execution_count": 6,
   "id": "f2251b83",
   "metadata": {},
   "outputs": [],
   "source": [
    "df = dataframe.df_construct(marks_menu, cars, characteristics, prices, locations)"
   ]
  },
  {
   "cell_type": "code",
   "execution_count": 7,
   "id": "d62d4761",
   "metadata": {
    "scrolled": true
   },
   "outputs": [
    {
     "data": {
      "text/html": [
       "<div>\n",
       "<style scoped>\n",
       "    .dataframe tbody tr th:only-of-type {\n",
       "        vertical-align: middle;\n",
       "    }\n",
       "\n",
       "    .dataframe tbody tr th {\n",
       "        vertical-align: top;\n",
       "    }\n",
       "\n",
       "    .dataframe thead th {\n",
       "        text-align: right;\n",
       "    }\n",
       "</style>\n",
       "<table border=\"1\" class=\"dataframe\">\n",
       "  <thead>\n",
       "    <tr style=\"text-align: right;\">\n",
       "      <th></th>\n",
       "      <th>mark</th>\n",
       "      <th>model</th>\n",
       "      <th>mileage</th>\n",
       "      <th>transmission</th>\n",
       "      <th>registration</th>\n",
       "      <th>fuel</th>\n",
       "      <th>power</th>\n",
       "      <th>location</th>\n",
       "      <th>price</th>\n",
       "    </tr>\n",
       "  </thead>\n",
       "  <tbody>\n",
       "    <tr>\n",
       "      <th>0</th>\n",
       "      <td>Cupra</td>\n",
       "      <td>Born</td>\n",
       "      <td>6000</td>\n",
       "      <td>Automatic</td>\n",
       "      <td>01/2023</td>\n",
       "      <td>Electric</td>\n",
       "      <td>204</td>\n",
       "      <td>AT</td>\n",
       "      <td>29990</td>\n",
       "    </tr>\n",
       "    <tr>\n",
       "      <th>1</th>\n",
       "      <td>Mercedes-Benz</td>\n",
       "      <td>S 580</td>\n",
       "      <td>3084</td>\n",
       "      <td>Automatic</td>\n",
       "      <td>05/2022</td>\n",
       "      <td>Gasoline</td>\n",
       "      <td>503</td>\n",
       "      <td>DE</td>\n",
       "      <td>195890</td>\n",
       "    </tr>\n",
       "    <tr>\n",
       "      <th>2</th>\n",
       "      <td>Volkswagen</td>\n",
       "      <td>Golf</td>\n",
       "      <td>146000</td>\n",
       "      <td>Manual</td>\n",
       "      <td>12/2011</td>\n",
       "      <td>Diesel</td>\n",
       "      <td>105</td>\n",
       "      <td>BE</td>\n",
       "      <td>6450</td>\n",
       "    </tr>\n",
       "    <tr>\n",
       "      <th>3</th>\n",
       "      <td>Volkswagen</td>\n",
       "      <td>Touareg</td>\n",
       "      <td>170000</td>\n",
       "      <td>Manual</td>\n",
       "      <td>06/2006</td>\n",
       "      <td>Diesel</td>\n",
       "      <td>163</td>\n",
       "      <td>BE</td>\n",
       "      <td>5500</td>\n",
       "    </tr>\n",
       "    <tr>\n",
       "      <th>4</th>\n",
       "      <td>Ferrari</td>\n",
       "      <td>812</td>\n",
       "      <td>11177</td>\n",
       "      <td>Automatic</td>\n",
       "      <td>06/2020</td>\n",
       "      <td>Gasoline</td>\n",
       "      <td>795</td>\n",
       "      <td>DE</td>\n",
       "      <td>359780</td>\n",
       "    </tr>\n",
       "    <tr>\n",
       "      <th>...</th>\n",
       "      <td>...</td>\n",
       "      <td>...</td>\n",
       "      <td>...</td>\n",
       "      <td>...</td>\n",
       "      <td>...</td>\n",
       "      <td>...</td>\n",
       "      <td>...</td>\n",
       "      <td>...</td>\n",
       "      <td>...</td>\n",
       "    </tr>\n",
       "    <tr>\n",
       "      <th>395</th>\n",
       "      <td>Mercedes-Benz</td>\n",
       "      <td>C 300</td>\n",
       "      <td>12000</td>\n",
       "      <td>Automatic</td>\n",
       "      <td>10/2022</td>\n",
       "      <td>Gasoline</td>\n",
       "      <td>258</td>\n",
       "      <td>DE</td>\n",
       "      <td>49890</td>\n",
       "    </tr>\n",
       "    <tr>\n",
       "      <th>396</th>\n",
       "      <td>Kia</td>\n",
       "      <td>Sorento</td>\n",
       "      <td>174440</td>\n",
       "      <td>Automatic</td>\n",
       "      <td>05/2014</td>\n",
       "      <td>Diesel</td>\n",
       "      <td>197</td>\n",
       "      <td>DE</td>\n",
       "      <td>14499</td>\n",
       "    </tr>\n",
       "    <tr>\n",
       "      <th>397</th>\n",
       "      <td>Cupra</td>\n",
       "      <td>Leon</td>\n",
       "      <td>8220</td>\n",
       "      <td>Automatic</td>\n",
       "      <td>11/2022</td>\n",
       "      <td>Gasoline</td>\n",
       "      <td>300</td>\n",
       "      <td>DE</td>\n",
       "      <td>33633</td>\n",
       "    </tr>\n",
       "    <tr>\n",
       "      <th>398</th>\n",
       "      <td>Mercedes-Benz</td>\n",
       "      <td>C 180</td>\n",
       "      <td>11828</td>\n",
       "      <td>Automatic</td>\n",
       "      <td>07/2022</td>\n",
       "      <td>Gasoline</td>\n",
       "      <td>170</td>\n",
       "      <td>DE</td>\n",
       "      <td>35370</td>\n",
       "    </tr>\n",
       "    <tr>\n",
       "      <th>399</th>\n",
       "      <td>Audi</td>\n",
       "      <td>SQ5</td>\n",
       "      <td>27583</td>\n",
       "      <td>Automatic</td>\n",
       "      <td>05/2020</td>\n",
       "      <td>Diesel</td>\n",
       "      <td>347</td>\n",
       "      <td>DE</td>\n",
       "      <td>54850</td>\n",
       "    </tr>\n",
       "  </tbody>\n",
       "</table>\n",
       "<p>400 rows × 9 columns</p>\n",
       "</div>"
      ],
      "text/plain": [
       "              mark    model mileage transmission registration      fuel power  \\\n",
       "0            Cupra     Born    6000    Automatic      01/2023  Electric   204   \n",
       "1    Mercedes-Benz    S 580    3084    Automatic      05/2022  Gasoline   503   \n",
       "2       Volkswagen     Golf  146000       Manual      12/2011    Diesel   105   \n",
       "3       Volkswagen  Touareg  170000       Manual      06/2006    Diesel   163   \n",
       "4          Ferrari      812   11177    Automatic      06/2020  Gasoline   795   \n",
       "..             ...      ...     ...          ...          ...       ...   ...   \n",
       "395  Mercedes-Benz    C 300   12000    Automatic      10/2022  Gasoline   258   \n",
       "396            Kia  Sorento  174440    Automatic      05/2014    Diesel   197   \n",
       "397          Cupra     Leon    8220    Automatic      11/2022  Gasoline   300   \n",
       "398  Mercedes-Benz    C 180   11828    Automatic      07/2022  Gasoline   170   \n",
       "399           Audi      SQ5   27583    Automatic      05/2020    Diesel   347   \n",
       "\n",
       "    location   price  \n",
       "0         AT   29990  \n",
       "1         DE  195890  \n",
       "2         BE    6450  \n",
       "3         BE    5500  \n",
       "4         DE  359780  \n",
       "..       ...     ...  \n",
       "395       DE   49890  \n",
       "396       DE   14499  \n",
       "397       DE   33633  \n",
       "398       DE   35370  \n",
       "399       DE   54850  \n",
       "\n",
       "[400 rows x 9 columns]"
      ]
     },
     "execution_count": 7,
     "metadata": {},
     "output_type": "execute_result"
    }
   ],
   "source": [
    "df"
   ]
  },
  {
   "cell_type": "markdown",
   "id": "38625587",
   "metadata": {},
   "source": [
    "## 3. Creating a SQL database and exporting parsed data there from the main pages"
   ]
  },
  {
   "cell_type": "markdown",
   "id": "a03db935",
   "metadata": {},
   "source": [
    "Here we connect to another module **sql_db**. This module connects to a PostgreSQL database *autoscout*. In this database there is a schema *autoscout* which contains the main table *cars*."
   ]
  },
  {
   "cell_type": "code",
   "execution_count": 8,
   "id": "ead021e3",
   "metadata": {},
   "outputs": [],
   "source": [
    "sql_db.connect(df,'replace')"
   ]
  },
  {
   "cell_type": "markdown",
   "id": "2b54d2b1",
   "metadata": {},
   "source": [
    "## 4. Acquiring links to every dealer's list of cars from all main pages."
   ]
  },
  {
   "cell_type": "markdown",
   "id": "7cada113",
   "metadata": {},
   "source": [
    "The module **dealers_cars.sel_pars(all_pages)** retruns a list. We want to collect all href links to dealers' cars from all main pages (20). To do so we will create a dictionary. Each key is a link to one of the main pages and each value is a list of all href links to each car dealer from this page."
   ]
  },
  {
   "cell_type": "code",
   "execution_count": null,
   "id": "275437c4",
   "metadata": {},
   "outputs": [],
   "source": [
    "#This loop below takes around 40 minutes to generate an entire dictionary"
   ]
  },
  {
   "cell_type": "code",
   "execution_count": null,
   "id": "dabbe276",
   "metadata": {},
   "outputs": [],
   "source": [
    "start = datetime.now()\n",
    "\n",
    "dealers_cars_dict = {}\n",
    "for page in all_pages:\n",
    "    dealers_cars_dict[page] = (dealers_cars.sel_pars(page))\n",
    "    \n",
    "end = datetime.now()\n",
    "print('Total time :', end-start)"
   ]
  },
  {
   "cell_type": "markdown",
   "id": "84d70f73",
   "metadata": {},
   "source": [
    "The generated dictionary can contain the same URL links (refernce to the same car dealer). We want to keep only unique links. So we transform lists in the **dealers_cars_dict** into sets and then back to lists for a convenient work. "
   ]
  },
  {
   "cell_type": "code",
   "execution_count": null,
   "id": "3816994f",
   "metadata": {},
   "outputs": [],
   "source": [
    "for key, value in dealers_cars_dict.items():\n",
    "    dealers_cars_dict[key] = list(set(value))"
   ]
  },
  {
   "cell_type": "markdown",
   "id": "bc10d8fd",
   "metadata": {},
   "source": [
    "## 5. Acquring cars' information from the all the car dealers and storing into a SQL database"
   ]
  },
  {
   "cell_type": "code",
   "execution_count": null,
   "id": "00f97f0c",
   "metadata": {},
   "outputs": [],
   "source": [
    "#import ast"
   ]
  },
  {
   "cell_type": "code",
   "execution_count": null,
   "id": "783a4b70",
   "metadata": {},
   "outputs": [],
   "source": [
    "#with open('dict.txt', 'r') as file:\n",
    "#    file_content = file.read()\n",
    "#dealers_cars_dict = ast.literal_eval(file_content)"
   ]
  },
  {
   "cell_type": "code",
   "execution_count": null,
   "id": "d063154b",
   "metadata": {},
   "outputs": [],
   "source": [
    "#dealers_cars_dict"
   ]
  },
  {
   "cell_type": "code",
   "execution_count": null,
   "id": "8cbdc6da",
   "metadata": {},
   "outputs": [],
   "source": [
    "#The code below runs about 40 minutes"
   ]
  },
  {
   "cell_type": "code",
   "execution_count": null,
   "id": "434642f6",
   "metadata": {},
   "outputs": [],
   "source": [
    "#This loop iterates over each href link in the dictionary dealers_cars_dict. Then it scraps information about every car\n",
    "#from each cars dealer and forms it into a dataframe. Afterwards it uploads each dataframe to a SQL database. The entire \n",
    "#dataset is saved into a new table in a database with a current date in the name. \n",
    "start = datetime.now()\n",
    "\n",
    "for key, value_list in dealers_cars_dict.items():\n",
    "    for value in value_list:\n",
    "        all_pgs = main_pages.pages_urls(value)\n",
    "        cars0, characteristics0, prices0, locations0 = parsing.cars_info(all_pgs)\n",
    "        df0 = dataframe.df_construct(marks_menu, cars0, characteristics0, prices0, locations0)\n",
    "        sql_db.connect(df0,'append') #here we append freshly formed dataframe to the SQL database\n",
    "        \n",
    "end = datetime.now()\n",
    "print('Total time :', end-start)"
   ]
  },
  {
   "cell_type": "markdown",
   "id": "1429f023",
   "metadata": {},
   "source": [
    "Total time : 0:37:47.408648"
   ]
  },
  {
   "cell_type": "code",
   "execution_count": 9,
   "id": "c73b0c93",
   "metadata": {},
   "outputs": [
    {
     "name": "stdout",
     "output_type": "stream",
     "text": [
      "Total time : 1:26:10.966574\n"
     ]
    }
   ],
   "source": [
    "start = datetime.now()\n",
    "\n",
    "for page in all_pages:\n",
    "    cars_scraper.parser(page, marks_menu)\n",
    "\n",
    "end = datetime.now()\n",
    "print('Total time :', end-start)"
   ]
  },
  {
   "cell_type": "markdown",
   "id": "d790a091",
   "metadata": {},
   "source": [
    "Total time : 1:28:46.690304"
   ]
  }
 ],
 "metadata": {
  "hide_input": false,
  "kernelspec": {
   "display_name": "Python 3",
   "language": "python",
   "name": "python3"
  },
  "language_info": {
   "codemirror_mode": {
    "name": "ipython",
    "version": 3
   },
   "file_extension": ".py",
   "mimetype": "text/x-python",
   "name": "python",
   "nbconvert_exporter": "python",
   "pygments_lexer": "ipython3",
   "version": "3.8.8"
  }
 },
 "nbformat": 4,
 "nbformat_minor": 5
}

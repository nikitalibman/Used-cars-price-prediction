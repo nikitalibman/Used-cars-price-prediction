{
 "cells": [
  {
   "cell_type": "markdown",
   "id": "929c58c9",
   "metadata": {},
   "source": [
    "# Scope of work\n",
    "\n",
    "1) Import all necessary libraries and modules.  \n",
    "2) First we need to obtain inforamtion about all available cars from the first main pages.  \n",
    "3) Create a SQL database and export there gathered info about cars from the main pages.  \n",
    "4) Then we will call module dealers_cars to acquire links to every dealer's list of cars from all main pages.  \n",
    "5) Now we will repeat the same procedure as in the 1st step but to the every dealer's cars list.  \n",
    "6) Add extracted data to a created SQL database"
   ]
  },
  {
   "cell_type": "markdown",
   "id": "ecd9134c",
   "metadata": {},
   "source": [
    "## 1. Imort of libraries and modules"
   ]
  },
  {
   "cell_type": "code",
   "execution_count": 1,
   "id": "8c68fa33",
   "metadata": {},
   "outputs": [],
   "source": [
    "import main_pages\n",
    "import parsing\n",
    "import marks\n",
    "import dataframe\n",
    "import sql_db\n",
    "import cars_scraper\n",
    "from datetime import datetime"
   ]
  },
  {
   "cell_type": "markdown",
   "id": "19db7745",
   "metadata": {},
   "source": [
    "## 2. Acquring cars' information from the first main pages"
   ]
  },
  {
   "cell_type": "markdown",
   "id": "c7d7fa0a",
   "metadata": {},
   "source": [
    "Here we call the 1st module 'parsing' to scrap data from the main pages of the website. Then we store all gathered information about cars into corresponding lists."
   ]
  },
  {
   "cell_type": "code",
   "execution_count": 2,
   "id": "d9f04787",
   "metadata": {},
   "outputs": [],
   "source": [
    "# Link to the main webpage\n",
    "url = 'https://www.autoscout24.com/lst?atype=C&desc=0&sort=standard&source=homepage_search-mask&ustate=N%2CU'"
   ]
  },
  {
   "cell_type": "markdown",
   "id": "a18fcd0a",
   "metadata": {},
   "source": [
    "The module **main_pages** collects all URLs of the main pages from the website autoscout24.com"
   ]
  },
  {
   "cell_type": "code",
   "execution_count": 3,
   "id": "31011ed9",
   "metadata": {},
   "outputs": [],
   "source": [
    "all_pages = main_pages.pages_urls(url)"
   ]
  },
  {
   "cell_type": "markdown",
   "id": "1249f800",
   "metadata": {},
   "source": [
    "With a help of **parsing** module we scrap info about cars from main pages (20)."
   ]
  },
  {
   "cell_type": "code",
   "execution_count": 4,
   "id": "91e8cbd4",
   "metadata": {},
   "outputs": [
    {
     "name": "stdout",
     "output_type": "stream",
     "text": [
      "Total time : 0:00:22.810103\n"
     ]
    }
   ],
   "source": [
    "start = datetime.now()\n",
    "cars, characteristics, prices, locations = parsing.cars_info(all_pages)\n",
    "end = datetime.now()\n",
    "print('Total time :', end-start)"
   ]
  },
  {
   "cell_type": "markdown",
   "id": "69d04635",
   "metadata": {},
   "source": [
    "Here we call the module **marks** in order to extract all existing car marks from the website. Afterwards we will replace\n",
    "spaces in marks' names into dashes '-'"
   ]
  },
  {
   "cell_type": "code",
   "execution_count": 5,
   "id": "4f173641",
   "metadata": {},
   "outputs": [],
   "source": [
    "marks_menu = marks.all_marks(url)"
   ]
  },
  {
   "cell_type": "markdown",
   "id": "b63ba5e0",
   "metadata": {},
   "source": [
    "Here we call the module **dataframe** in order to gather all info about cars into one dataframe"
   ]
  },
  {
   "cell_type": "code",
   "execution_count": 6,
   "id": "f2251b83",
   "metadata": {},
   "outputs": [],
   "source": [
    "df = dataframe.df_construct(marks_menu, cars, characteristics, prices, locations)"
   ]
  },
  {
   "cell_type": "code",
   "execution_count": 7,
   "id": "d62d4761",
   "metadata": {
    "scrolled": true
   },
   "outputs": [
    {
     "data": {
      "text/html": [
       "<div>\n",
       "<style scoped>\n",
       "    .dataframe tbody tr th:only-of-type {\n",
       "        vertical-align: middle;\n",
       "    }\n",
       "\n",
       "    .dataframe tbody tr th {\n",
       "        vertical-align: top;\n",
       "    }\n",
       "\n",
       "    .dataframe thead th {\n",
       "        text-align: right;\n",
       "    }\n",
       "</style>\n",
       "<table border=\"1\" class=\"dataframe\">\n",
       "  <thead>\n",
       "    <tr style=\"text-align: right;\">\n",
       "      <th></th>\n",
       "      <th>mark</th>\n",
       "      <th>model</th>\n",
       "      <th>mileage</th>\n",
       "      <th>transmission</th>\n",
       "      <th>registration</th>\n",
       "      <th>fuel</th>\n",
       "      <th>power</th>\n",
       "      <th>location</th>\n",
       "      <th>price</th>\n",
       "    </tr>\n",
       "  </thead>\n",
       "  <tbody>\n",
       "    <tr>\n",
       "      <th>0</th>\n",
       "      <td>BMW</td>\n",
       "      <td>i7</td>\n",
       "      <td>5000</td>\n",
       "      <td>Automatic</td>\n",
       "      <td>11/2023</td>\n",
       "      <td>Electric</td>\n",
       "      <td>658</td>\n",
       "      <td>AT</td>\n",
       "      <td>169900</td>\n",
       "    </tr>\n",
       "    <tr>\n",
       "      <th>1</th>\n",
       "      <td>Infiniti</td>\n",
       "      <td>QX70</td>\n",
       "      <td>188800</td>\n",
       "      <td>Automatic</td>\n",
       "      <td>10/2015</td>\n",
       "      <td>Diesel</td>\n",
       "      <td>238</td>\n",
       "      <td>DE</td>\n",
       "      <td>11890</td>\n",
       "    </tr>\n",
       "    <tr>\n",
       "      <th>2</th>\n",
       "      <td>Jaguar</td>\n",
       "      <td>XE</td>\n",
       "      <td>127991</td>\n",
       "      <td>Automatic</td>\n",
       "      <td>03/2016</td>\n",
       "      <td>Diesel</td>\n",
       "      <td>179</td>\n",
       "      <td>BE</td>\n",
       "      <td>17800</td>\n",
       "    </tr>\n",
       "    <tr>\n",
       "      <th>3</th>\n",
       "      <td>Hyundai</td>\n",
       "      <td>iX35</td>\n",
       "      <td>141200</td>\n",
       "      <td>Manual</td>\n",
       "      <td>10/2014</td>\n",
       "      <td>Diesel</td>\n",
       "      <td>116</td>\n",
       "      <td>BE</td>\n",
       "      <td>9490</td>\n",
       "    </tr>\n",
       "    <tr>\n",
       "      <th>4</th>\n",
       "      <td>Audi</td>\n",
       "      <td>A3</td>\n",
       "      <td>45999</td>\n",
       "      <td>Automatic</td>\n",
       "      <td>01/2021</td>\n",
       "      <td>Gasoline</td>\n",
       "      <td>150</td>\n",
       "      <td>DE</td>\n",
       "      <td>38900</td>\n",
       "    </tr>\n",
       "    <tr>\n",
       "      <th>...</th>\n",
       "      <td>...</td>\n",
       "      <td>...</td>\n",
       "      <td>...</td>\n",
       "      <td>...</td>\n",
       "      <td>...</td>\n",
       "      <td>...</td>\n",
       "      <td>...</td>\n",
       "      <td>...</td>\n",
       "      <td>...</td>\n",
       "    </tr>\n",
       "    <tr>\n",
       "      <th>395</th>\n",
       "      <td>Peugeot</td>\n",
       "      <td>e-2008</td>\n",
       "      <td>27342</td>\n",
       "      <td>Automatic</td>\n",
       "      <td>05/2021</td>\n",
       "      <td>Electric</td>\n",
       "      <td>136</td>\n",
       "      <td>BE</td>\n",
       "      <td>24990</td>\n",
       "    </tr>\n",
       "    <tr>\n",
       "      <th>396</th>\n",
       "      <td>Mercedes-Benz</td>\n",
       "      <td>C 220</td>\n",
       "      <td>40000</td>\n",
       "      <td>Automatic</td>\n",
       "      <td>07/2021</td>\n",
       "      <td>Diesel</td>\n",
       "      <td>200</td>\n",
       "      <td>DE</td>\n",
       "      <td>47900</td>\n",
       "    </tr>\n",
       "    <tr>\n",
       "      <th>397</th>\n",
       "      <td>Audi</td>\n",
       "      <td>A8</td>\n",
       "      <td>139922</td>\n",
       "      <td>Automatic</td>\n",
       "      <td>09/2011</td>\n",
       "      <td>Gasoline</td>\n",
       "      <td>373</td>\n",
       "      <td>IT</td>\n",
       "      <td>21490</td>\n",
       "    </tr>\n",
       "    <tr>\n",
       "      <th>398</th>\n",
       "      <td>Mercedes-Benz</td>\n",
       "      <td>CLA 250</td>\n",
       "      <td>32262</td>\n",
       "      <td>Automatic</td>\n",
       "      <td>07/2021</td>\n",
       "      <td>Electric</td>\n",
       "      <td>218</td>\n",
       "      <td>DE</td>\n",
       "      <td>35479</td>\n",
       "    </tr>\n",
       "    <tr>\n",
       "      <th>399</th>\n",
       "      <td>Jaguar</td>\n",
       "      <td>F-Type</td>\n",
       "      <td>5000</td>\n",
       "      <td>Automatic</td>\n",
       "      <td>09/2024</td>\n",
       "      <td>Gasoline</td>\n",
       "      <td>300</td>\n",
       "      <td>BE</td>\n",
       "      <td>59900</td>\n",
       "    </tr>\n",
       "  </tbody>\n",
       "</table>\n",
       "<p>400 rows × 9 columns</p>\n",
       "</div>"
      ],
      "text/plain": [
       "              mark    model mileage transmission registration      fuel power  \\\n",
       "0              BMW       i7    5000    Automatic      11/2023  Electric   658   \n",
       "1         Infiniti     QX70  188800    Automatic      10/2015    Diesel   238   \n",
       "2           Jaguar       XE  127991    Automatic      03/2016    Diesel   179   \n",
       "3          Hyundai     iX35  141200       Manual      10/2014    Diesel   116   \n",
       "4             Audi       A3   45999    Automatic      01/2021  Gasoline   150   \n",
       "..             ...      ...     ...          ...          ...       ...   ...   \n",
       "395        Peugeot   e-2008   27342    Automatic      05/2021  Electric   136   \n",
       "396  Mercedes-Benz    C 220   40000    Automatic      07/2021    Diesel   200   \n",
       "397           Audi       A8  139922    Automatic      09/2011  Gasoline   373   \n",
       "398  Mercedes-Benz  CLA 250   32262    Automatic      07/2021  Electric   218   \n",
       "399         Jaguar   F-Type    5000    Automatic      09/2024  Gasoline   300   \n",
       "\n",
       "    location   price  \n",
       "0         AT  169900  \n",
       "1         DE   11890  \n",
       "2         BE   17800  \n",
       "3         BE    9490  \n",
       "4         DE   38900  \n",
       "..       ...     ...  \n",
       "395       BE   24990  \n",
       "396       DE   47900  \n",
       "397       IT   21490  \n",
       "398       DE   35479  \n",
       "399       BE   59900  \n",
       "\n",
       "[400 rows x 9 columns]"
      ]
     },
     "execution_count": 7,
     "metadata": {},
     "output_type": "execute_result"
    }
   ],
   "source": [
    "df"
   ]
  },
  {
   "cell_type": "markdown",
   "id": "38625587",
   "metadata": {},
   "source": [
    "## 3. Creating a SQL database and exporting parsed data there from the main pages"
   ]
  },
  {
   "cell_type": "markdown",
   "id": "a03db935",
   "metadata": {},
   "source": [
    "Here we connect to another module **sql_db**. This module connects to a PostgreSQL database *autoscout*. In this database there is a schema *autoscout* which contains the main table *cars*."
   ]
  },
  {
   "cell_type": "code",
   "execution_count": 8,
   "id": "ead021e3",
   "metadata": {},
   "outputs": [],
   "source": [
    "sql_db.connect(df,'replace')"
   ]
  },
  {
   "cell_type": "markdown",
   "id": "bc10d8fd",
   "metadata": {},
   "source": [
    "## 4. Acquring cars' information from the all the car dealers and storing into a SQL database"
   ]
  },
  {
   "cell_type": "code",
   "execution_count": 9,
   "id": "b0a79906",
   "metadata": {},
   "outputs": [],
   "source": [
    "import multiprocessing"
   ]
  },
  {
   "cell_type": "code",
   "execution_count": null,
   "id": "c73b0c93",
   "metadata": {},
   "outputs": [],
   "source": [
    "start = datetime.now()\n",
    "\n",
    "for page in all_pages:\n",
    "    cars_scraper.parser(page, marks_menu)\n",
    "\n",
    "end = datetime.now()\n",
    "print('Total time :', end-start)"
   ]
  },
  {
   "cell_type": "markdown",
   "id": "d790a091",
   "metadata": {},
   "source": [
    "Total time :1:28:41.573803"
   ]
  },
  {
   "cell_type": "code",
   "execution_count": null,
   "id": "1d10cb64",
   "metadata": {},
   "outputs": [],
   "source": [
    "start = datetime.now()\n",
    "def process_page(page, marks_menu):\n",
    "    cars_scraper.parser(page, marks_menu)\n",
    "    \n",
    "num_processes = len(all_pages)  # Number of processes equals the number of pages\n",
    "\n",
    "with multiprocessing.Pool(num_processes) as pool:\n",
    "    pool.starmap(process_page, [(page, marks_menu) for page in all_pages])\n",
    "    \n",
    "end = datetime.now()\n",
    "print('Total time :', end-start)"
   ]
  },
  {
   "cell_type": "code",
   "execution_count": null,
   "id": "c25ae52b",
   "metadata": {},
   "outputs": [],
   "source": []
  }
 ],
 "metadata": {
  "hide_input": false,
  "kernelspec": {
   "display_name": "Python 3",
   "language": "python",
   "name": "python3"
  },
  "language_info": {
   "codemirror_mode": {
    "name": "ipython",
    "version": 3
   },
   "file_extension": ".py",
   "mimetype": "text/x-python",
   "name": "python",
   "nbconvert_exporter": "python",
   "pygments_lexer": "ipython3",
   "version": "3.8.8"
  }
 },
 "nbformat": 4,
 "nbformat_minor": 5
}

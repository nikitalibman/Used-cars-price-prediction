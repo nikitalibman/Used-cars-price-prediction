{
 "cells": [
  {
   "cell_type": "markdown",
   "id": "929c58c9",
   "metadata": {},
   "source": [
    "# Scope of work\n",
    "\n",
    "1) Import all necessary libraries and modules.  \n",
    "2) First we need to obtain inforamtion about all available cars from the first main pages.  \n",
    "3) Create a SQL database and export there gathered info about cars from the main pages.  \n",
    "4) Then we will call module dealers_cars to acquire links to every dealer's list of cars from all main pages.  \n",
    "5) Now we will repeat the same procedure as in the 1st step but to the every dealer's cars list.  \n",
    "6) Add extracted data to a created SQL database"
   ]
  },
  {
   "cell_type": "markdown",
   "id": "ecd9134c",
   "metadata": {},
   "source": [
    "## 1. Imort of libraries and modules"
   ]
  },
  {
   "cell_type": "code",
   "execution_count": 1,
   "id": "8c68fa33",
   "metadata": {},
   "outputs": [],
   "source": [
    "import main_pages\n",
    "import parsing\n",
    "import marks\n",
    "import dataframe\n",
    "import sql_db\n",
    "import cars_scraper\n",
    "from datetime import datetime"
   ]
  },
  {
   "cell_type": "markdown",
   "id": "19db7745",
   "metadata": {},
   "source": [
    "## 2. Acquring cars' information from the first main pages"
   ]
  },
  {
   "cell_type": "markdown",
   "id": "c7d7fa0a",
   "metadata": {},
   "source": [
    "Here we call the 1st module 'parsing' to scrap data from the main pages of the website. Then we store all gathered information about cars into corresponding lists."
   ]
  },
  {
   "cell_type": "code",
   "execution_count": 2,
   "id": "d9f04787",
   "metadata": {},
   "outputs": [],
   "source": [
    "# Link to the main webpage\n",
    "url = 'https://www.autoscout24.com/lst?atype=C&desc=0&sort=standard&source=homepage_search-mask&ustate=N%2CU'"
   ]
  },
  {
   "cell_type": "markdown",
   "id": "a18fcd0a",
   "metadata": {},
   "source": [
    "The module **main_pages** collects all URLs of the main pages from the website autoscout24.com"
   ]
  },
  {
   "cell_type": "code",
   "execution_count": 3,
   "id": "31011ed9",
   "metadata": {},
   "outputs": [],
   "source": [
    "all_pages = main_pages.pages_urls(url)"
   ]
  },
  {
   "cell_type": "markdown",
   "id": "1249f800",
   "metadata": {},
   "source": [
    "With a help of **parsing** module we scrap info about cars from main pages (20)."
   ]
  },
  {
   "cell_type": "code",
   "execution_count": 4,
   "id": "91e8cbd4",
   "metadata": {},
   "outputs": [
    {
     "name": "stdout",
     "output_type": "stream",
     "text": [
      "Total time : 0:00:26.102254\n"
     ]
    }
   ],
   "source": [
    "start = datetime.now()\n",
    "cars, characteristics, prices, locations = parsing.cars_info(all_pages)\n",
    "end = datetime.now()\n",
    "print('Total time :', end-start)"
   ]
  },
  {
   "cell_type": "markdown",
   "id": "69d04635",
   "metadata": {},
   "source": [
    "Here we call the module **marks** in order to extract all existing car marks from the website. Afterwards we will replace\n",
    "spaces in marks' names into dashes '-'"
   ]
  },
  {
   "cell_type": "code",
   "execution_count": 5,
   "id": "4f173641",
   "metadata": {},
   "outputs": [],
   "source": [
    "marks_menu = marks.all_marks(url)"
   ]
  },
  {
   "cell_type": "markdown",
   "id": "b63ba5e0",
   "metadata": {},
   "source": [
    "Here we call the module **dataframe** in order to gather all info about cars into one dataframe"
   ]
  },
  {
   "cell_type": "code",
   "execution_count": 6,
   "id": "f2251b83",
   "metadata": {},
   "outputs": [],
   "source": [
    "df = dataframe.df_construct(marks_menu, cars, characteristics, prices, locations)"
   ]
  },
  {
   "cell_type": "code",
   "execution_count": 7,
   "id": "d62d4761",
   "metadata": {
    "scrolled": true
   },
   "outputs": [
    {
     "data": {
      "text/html": [
       "<div>\n",
       "<style scoped>\n",
       "    .dataframe tbody tr th:only-of-type {\n",
       "        vertical-align: middle;\n",
       "    }\n",
       "\n",
       "    .dataframe tbody tr th {\n",
       "        vertical-align: top;\n",
       "    }\n",
       "\n",
       "    .dataframe thead th {\n",
       "        text-align: right;\n",
       "    }\n",
       "</style>\n",
       "<table border=\"1\" class=\"dataframe\">\n",
       "  <thead>\n",
       "    <tr style=\"text-align: right;\">\n",
       "      <th></th>\n",
       "      <th>mark</th>\n",
       "      <th>model</th>\n",
       "      <th>mileage</th>\n",
       "      <th>transmission</th>\n",
       "      <th>registration</th>\n",
       "      <th>fuel</th>\n",
       "      <th>power</th>\n",
       "      <th>location</th>\n",
       "      <th>price</th>\n",
       "    </tr>\n",
       "  </thead>\n",
       "  <tbody>\n",
       "    <tr>\n",
       "      <th>0</th>\n",
       "      <td>Aston-Martin</td>\n",
       "      <td>DBX</td>\n",
       "      <td>0</td>\n",
       "      <td>Automatic</td>\n",
       "      <td>None</td>\n",
       "      <td>Gasoline</td>\n",
       "      <td>707</td>\n",
       "      <td>DE</td>\n",
       "      <td>282360</td>\n",
       "    </tr>\n",
       "    <tr>\n",
       "      <th>1</th>\n",
       "      <td>Mazda</td>\n",
       "      <td>MX-5</td>\n",
       "      <td>178290</td>\n",
       "      <td>Manual</td>\n",
       "      <td>08/2001</td>\n",
       "      <td>Gasoline</td>\n",
       "      <td>110</td>\n",
       "      <td>BE</td>\n",
       "      <td>4950</td>\n",
       "    </tr>\n",
       "    <tr>\n",
       "      <th>2</th>\n",
       "      <td>DS-Automobiles</td>\n",
       "      <td>DS 4</td>\n",
       "      <td>190000</td>\n",
       "      <td>Manual</td>\n",
       "      <td>02/2012</td>\n",
       "      <td>Diesel</td>\n",
       "      <td>111</td>\n",
       "      <td>IT</td>\n",
       "      <td>4990</td>\n",
       "    </tr>\n",
       "    <tr>\n",
       "      <th>3</th>\n",
       "      <td>BMW</td>\n",
       "      <td>520</td>\n",
       "      <td>257000</td>\n",
       "      <td>Manual</td>\n",
       "      <td>11/2013</td>\n",
       "      <td>Diesel</td>\n",
       "      <td>163</td>\n",
       "      <td>BE</td>\n",
       "      <td>8900</td>\n",
       "    </tr>\n",
       "    <tr>\n",
       "      <th>4</th>\n",
       "      <td>Porsche</td>\n",
       "      <td>Cayenne</td>\n",
       "      <td>164335</td>\n",
       "      <td>Automatic</td>\n",
       "      <td>02/2005</td>\n",
       "      <td>Gasoline</td>\n",
       "      <td>250</td>\n",
       "      <td>BE</td>\n",
       "      <td>9490</td>\n",
       "    </tr>\n",
       "    <tr>\n",
       "      <th>...</th>\n",
       "      <td>...</td>\n",
       "      <td>...</td>\n",
       "      <td>...</td>\n",
       "      <td>...</td>\n",
       "      <td>...</td>\n",
       "      <td>...</td>\n",
       "      <td>...</td>\n",
       "      <td>...</td>\n",
       "      <td>...</td>\n",
       "    </tr>\n",
       "    <tr>\n",
       "      <th>395</th>\n",
       "      <td>Volkswagen</td>\n",
       "      <td>Golf</td>\n",
       "      <td>60996</td>\n",
       "      <td>Automatic</td>\n",
       "      <td>07/2018</td>\n",
       "      <td>Gasoline</td>\n",
       "      <td>310</td>\n",
       "      <td>DE</td>\n",
       "      <td>29890</td>\n",
       "    </tr>\n",
       "    <tr>\n",
       "      <th>396</th>\n",
       "      <td>Opel</td>\n",
       "      <td>Insignia</td>\n",
       "      <td>59990</td>\n",
       "      <td>Automatic</td>\n",
       "      <td>12/2011</td>\n",
       "      <td>Gasoline</td>\n",
       "      <td>220</td>\n",
       "      <td>DE</td>\n",
       "      <td>9950</td>\n",
       "    </tr>\n",
       "    <tr>\n",
       "      <th>397</th>\n",
       "      <td>BMW</td>\n",
       "      <td>X4</td>\n",
       "      <td>73550</td>\n",
       "      <td>Automatic</td>\n",
       "      <td>05/2018</td>\n",
       "      <td>Diesel</td>\n",
       "      <td>163</td>\n",
       "      <td>BE</td>\n",
       "      <td>34900</td>\n",
       "    </tr>\n",
       "    <tr>\n",
       "      <th>398</th>\n",
       "      <td>Audi</td>\n",
       "      <td>A6</td>\n",
       "      <td>148799</td>\n",
       "      <td>Automatic</td>\n",
       "      <td>10/2015</td>\n",
       "      <td>Diesel</td>\n",
       "      <td>218</td>\n",
       "      <td>DE</td>\n",
       "      <td>22990</td>\n",
       "    </tr>\n",
       "    <tr>\n",
       "      <th>399</th>\n",
       "      <td>Mercedes-Benz</td>\n",
       "      <td>A 35 AMG</td>\n",
       "      <td>49900</td>\n",
       "      <td>Automatic</td>\n",
       "      <td>09/2020</td>\n",
       "      <td>Gasoline</td>\n",
       "      <td>306</td>\n",
       "      <td>DE</td>\n",
       "      <td>37485</td>\n",
       "    </tr>\n",
       "  </tbody>\n",
       "</table>\n",
       "<p>400 rows × 9 columns</p>\n",
       "</div>"
      ],
      "text/plain": [
       "               mark     model mileage transmission registration      fuel  \\\n",
       "0      Aston-Martin       DBX       0    Automatic         None  Gasoline   \n",
       "1             Mazda      MX-5  178290       Manual      08/2001  Gasoline   \n",
       "2    DS-Automobiles      DS 4  190000       Manual      02/2012    Diesel   \n",
       "3               BMW       520  257000       Manual      11/2013    Diesel   \n",
       "4           Porsche   Cayenne  164335    Automatic      02/2005  Gasoline   \n",
       "..              ...       ...     ...          ...          ...       ...   \n",
       "395      Volkswagen      Golf   60996    Automatic      07/2018  Gasoline   \n",
       "396            Opel  Insignia   59990    Automatic      12/2011  Gasoline   \n",
       "397             BMW        X4   73550    Automatic      05/2018    Diesel   \n",
       "398            Audi        A6  148799    Automatic      10/2015    Diesel   \n",
       "399   Mercedes-Benz  A 35 AMG   49900    Automatic      09/2020  Gasoline   \n",
       "\n",
       "    power location   price  \n",
       "0     707       DE  282360  \n",
       "1     110       BE    4950  \n",
       "2     111       IT    4990  \n",
       "3     163       BE    8900  \n",
       "4     250       BE    9490  \n",
       "..    ...      ...     ...  \n",
       "395   310       DE   29890  \n",
       "396   220       DE    9950  \n",
       "397   163       BE   34900  \n",
       "398   218       DE   22990  \n",
       "399   306       DE   37485  \n",
       "\n",
       "[400 rows x 9 columns]"
      ]
     },
     "execution_count": 7,
     "metadata": {},
     "output_type": "execute_result"
    }
   ],
   "source": [
    "df"
   ]
  },
  {
   "cell_type": "markdown",
   "id": "38625587",
   "metadata": {},
   "source": [
    "## 3. Creating a SQL database and exporting parsed data there from the main pages"
   ]
  },
  {
   "cell_type": "markdown",
   "id": "a03db935",
   "metadata": {},
   "source": [
    "Here we connect to another module **sql_db**. This module connects to a PostgreSQL database *autoscout*. In this database there is a schema *autoscout* which contains the main table *cars*."
   ]
  },
  {
   "cell_type": "code",
   "execution_count": 9,
   "id": "ead021e3",
   "metadata": {},
   "outputs": [],
   "source": [
    "sql_db.connect(df,'replace')"
   ]
  },
  {
   "cell_type": "markdown",
   "id": "bc10d8fd",
   "metadata": {},
   "source": [
    "## 4. Acquring cars' information from the all the car dealers and storing into a SQL database"
   ]
  },
  {
   "cell_type": "code",
   "execution_count": 10,
   "id": "c73b0c93",
   "metadata": {},
   "outputs": [
    {
     "name": "stdout",
     "output_type": "stream",
     "text": [
      "Total time : 1:39:19.790364\n"
     ]
    }
   ],
   "source": [
    "start = datetime.now()\n",
    "\n",
    "for page in all_pages:\n",
    "    cars_scraper.parser(page, marks_menu)\n",
    "\n",
    "end = datetime.now()\n",
    "print('Total time :', end-start)"
   ]
  },
  {
   "cell_type": "markdown",
   "id": "d790a091",
   "metadata": {},
   "source": [
    "Total time :1:28:41.573803"
   ]
  },
  {
   "cell_type": "code",
   "execution_count": null,
   "id": "1d10cb64",
   "metadata": {},
   "outputs": [],
   "source": []
  }
 ],
 "metadata": {
  "hide_input": false,
  "kernelspec": {
   "display_name": "Python 3",
   "language": "python",
   "name": "python3"
  },
  "language_info": {
   "codemirror_mode": {
    "name": "ipython",
    "version": 3
   },
   "file_extension": ".py",
   "mimetype": "text/x-python",
   "name": "python",
   "nbconvert_exporter": "python",
   "pygments_lexer": "ipython3",
   "version": "3.8.8"
  }
 },
 "nbformat": 4,
 "nbformat_minor": 5
}

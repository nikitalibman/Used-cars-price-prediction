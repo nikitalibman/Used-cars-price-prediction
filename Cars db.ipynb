{
 "cells": [
  {
   "cell_type": "markdown",
   "id": "929c58c9",
   "metadata": {},
   "source": [
    "# Scope of work\n",
    "\n",
    "1) Import all necessary libraries and modules.  \n",
    "2) First we need to obtain inforamtion about all available cars from the first main pages.  \n",
    "3) Create a SQL database and export there gathered info about cars from the main pages.  \n",
    "4) Then we will call module dealers_cars to acquire links to every dealer's list of cars from all main pages.  \n",
    "5) Now we will repeat the same procedure as in the 1st step but to the every dealer's cars list.  \n",
    "6) Add extracted data to a created SQL database"
   ]
  },
  {
   "cell_type": "markdown",
   "id": "ecd9134c",
   "metadata": {},
   "source": [
    "## 1. Imort of libraries and modules"
   ]
  },
  {
   "cell_type": "code",
   "execution_count": 1,
   "id": "8c68fa33",
   "metadata": {},
   "outputs": [],
   "source": [
    "import main_pages\n",
    "import parsing\n",
    "import marks\n",
    "import dataframe\n",
    "import sql_db\n",
    "import cars_scraper\n",
    "from datetime import datetime"
   ]
  },
  {
   "cell_type": "markdown",
   "id": "19db7745",
   "metadata": {},
   "source": [
    "## 2. Acquring cars' information from the first main pages"
   ]
  },
  {
   "cell_type": "markdown",
   "id": "c7d7fa0a",
   "metadata": {},
   "source": [
    "Here we call the 1st module 'parsing' to scrap data from the main pages of the website. Then we store all gathered information about cars into corresponding lists."
   ]
  },
  {
   "cell_type": "code",
   "execution_count": 2,
   "id": "d9f04787",
   "metadata": {},
   "outputs": [],
   "source": [
    "# Link to the main webpage\n",
    "url = 'https://www.autoscout24.com/lst?atype=C&desc=0&sort=standard&source=homepage_search-mask&ustate=N%2CU'"
   ]
  },
  {
   "cell_type": "markdown",
   "id": "a18fcd0a",
   "metadata": {},
   "source": [
    "The module **main_pages** collects all URLs of the main pages from the website autoscout24.com"
   ]
  },
  {
   "cell_type": "code",
   "execution_count": 3,
   "id": "31011ed9",
   "metadata": {},
   "outputs": [],
   "source": [
    "all_pages = main_pages.pages_urls(url)"
   ]
  },
  {
   "cell_type": "markdown",
   "id": "1249f800",
   "metadata": {},
   "source": [
    "With a help of **parsing** module we scrap info about cars from main pages (20)."
   ]
  },
  {
   "cell_type": "code",
   "execution_count": 4,
   "id": "91e8cbd4",
   "metadata": {},
   "outputs": [
    {
     "name": "stdout",
     "output_type": "stream",
     "text": [
      "Total time : 0:00:24.887635\n"
     ]
    }
   ],
   "source": [
    "start = datetime.now()\n",
    "cars, characteristics, prices, locations = parsing.cars_info(all_pages)\n",
    "end = datetime.now()\n",
    "print('Total time :', end-start)"
   ]
  },
  {
   "cell_type": "markdown",
   "id": "69d04635",
   "metadata": {},
   "source": [
    "Here we call the module **marks** in order to extract all existing car marks from the website. Afterwards we will replace\n",
    "spaces in marks' names into dashes '-'"
   ]
  },
  {
   "cell_type": "code",
   "execution_count": 5,
   "id": "4f173641",
   "metadata": {},
   "outputs": [],
   "source": [
    "marks_menu = marks.all_marks(url)"
   ]
  },
  {
   "cell_type": "markdown",
   "id": "b63ba5e0",
   "metadata": {},
   "source": [
    "Here we call the module **dataframe** in order to gather all info about cars into one dataframe"
   ]
  },
  {
   "cell_type": "code",
   "execution_count": 6,
   "id": "f2251b83",
   "metadata": {},
   "outputs": [],
   "source": [
    "df = dataframe.df_construct(marks_menu, cars, characteristics, prices, locations)"
   ]
  },
  {
   "cell_type": "code",
   "execution_count": 7,
   "id": "d62d4761",
   "metadata": {
    "scrolled": true
   },
   "outputs": [
    {
     "data": {
      "text/html": [
       "<div>\n",
       "<style scoped>\n",
       "    .dataframe tbody tr th:only-of-type {\n",
       "        vertical-align: middle;\n",
       "    }\n",
       "\n",
       "    .dataframe tbody tr th {\n",
       "        vertical-align: top;\n",
       "    }\n",
       "\n",
       "    .dataframe thead th {\n",
       "        text-align: right;\n",
       "    }\n",
       "</style>\n",
       "<table border=\"1\" class=\"dataframe\">\n",
       "  <thead>\n",
       "    <tr style=\"text-align: right;\">\n",
       "      <th></th>\n",
       "      <th>mark</th>\n",
       "      <th>model</th>\n",
       "      <th>mileage</th>\n",
       "      <th>transmission</th>\n",
       "      <th>registration</th>\n",
       "      <th>fuel</th>\n",
       "      <th>power</th>\n",
       "      <th>location</th>\n",
       "      <th>price</th>\n",
       "    </tr>\n",
       "  </thead>\n",
       "  <tbody>\n",
       "    <tr>\n",
       "      <th>0</th>\n",
       "      <td>Land-Rover</td>\n",
       "      <td>Range Rover Sport</td>\n",
       "      <td>200000</td>\n",
       "      <td>Automatic</td>\n",
       "      <td>03/2016</td>\n",
       "      <td>Diesel</td>\n",
       "      <td>258</td>\n",
       "      <td>BE</td>\n",
       "      <td>22950</td>\n",
       "    </tr>\n",
       "    <tr>\n",
       "      <th>1</th>\n",
       "      <td>Mercedes-Benz</td>\n",
       "      <td>E 250</td>\n",
       "      <td>192700</td>\n",
       "      <td>Automatic</td>\n",
       "      <td>12/2009</td>\n",
       "      <td>Diesel</td>\n",
       "      <td>204</td>\n",
       "      <td>DE</td>\n",
       "      <td>8989</td>\n",
       "    </tr>\n",
       "    <tr>\n",
       "      <th>2</th>\n",
       "      <td>Mercedes-Benz</td>\n",
       "      <td>A 180</td>\n",
       "      <td>164000</td>\n",
       "      <td>Automatic</td>\n",
       "      <td>08/2015</td>\n",
       "      <td>Diesel</td>\n",
       "      <td>109</td>\n",
       "      <td>BE</td>\n",
       "      <td>13950</td>\n",
       "    </tr>\n",
       "    <tr>\n",
       "      <th>3</th>\n",
       "      <td>Mercedes-Benz</td>\n",
       "      <td>GLC 220</td>\n",
       "      <td>156698</td>\n",
       "      <td>Automatic</td>\n",
       "      <td>07/2018</td>\n",
       "      <td>Diesel</td>\n",
       "      <td>163</td>\n",
       "      <td>BE</td>\n",
       "      <td>31950</td>\n",
       "    </tr>\n",
       "    <tr>\n",
       "      <th>4</th>\n",
       "      <td>Skoda</td>\n",
       "      <td>Octavia</td>\n",
       "      <td>247000</td>\n",
       "      <td>Manual</td>\n",
       "      <td>10/2010</td>\n",
       "      <td>Gasoline</td>\n",
       "      <td>105</td>\n",
       "      <td>DE</td>\n",
       "      <td>2500</td>\n",
       "    </tr>\n",
       "    <tr>\n",
       "      <th>...</th>\n",
       "      <td>...</td>\n",
       "      <td>...</td>\n",
       "      <td>...</td>\n",
       "      <td>...</td>\n",
       "      <td>...</td>\n",
       "      <td>...</td>\n",
       "      <td>...</td>\n",
       "      <td>...</td>\n",
       "      <td>...</td>\n",
       "    </tr>\n",
       "    <tr>\n",
       "      <th>394</th>\n",
       "      <td>Audi</td>\n",
       "      <td>A5</td>\n",
       "      <td>7240</td>\n",
       "      <td>Automatic</td>\n",
       "      <td>05/2022</td>\n",
       "      <td>Gasoline</td>\n",
       "      <td>204</td>\n",
       "      <td>DE</td>\n",
       "      <td>42440</td>\n",
       "    </tr>\n",
       "    <tr>\n",
       "      <th>395</th>\n",
       "      <td>Mercedes-Benz</td>\n",
       "      <td>GLC 200</td>\n",
       "      <td>61062</td>\n",
       "      <td>Automatic</td>\n",
       "      <td>08/2019</td>\n",
       "      <td>Gasoline</td>\n",
       "      <td>197</td>\n",
       "      <td>DE</td>\n",
       "      <td>43845</td>\n",
       "    </tr>\n",
       "    <tr>\n",
       "      <th>396</th>\n",
       "      <td>Mercedes-Benz</td>\n",
       "      <td>C 63 AMG</td>\n",
       "      <td>12237</td>\n",
       "      <td>Automatic</td>\n",
       "      <td>01/2023</td>\n",
       "      <td>Gasoline</td>\n",
       "      <td>510</td>\n",
       "      <td>DE</td>\n",
       "      <td>89490</td>\n",
       "    </tr>\n",
       "    <tr>\n",
       "      <th>397</th>\n",
       "      <td>Audi</td>\n",
       "      <td>A5</td>\n",
       "      <td>128107</td>\n",
       "      <td>Automatic</td>\n",
       "      <td>05/2019</td>\n",
       "      <td>Electric</td>\n",
       "      <td>190</td>\n",
       "      <td>BE</td>\n",
       "      <td>24990</td>\n",
       "    </tr>\n",
       "    <tr>\n",
       "      <th>398</th>\n",
       "      <td>Mercedes-Benz</td>\n",
       "      <td>A 200</td>\n",
       "      <td>41184</td>\n",
       "      <td>Automatic</td>\n",
       "      <td>08/2020</td>\n",
       "      <td>Diesel</td>\n",
       "      <td>150</td>\n",
       "      <td>DE</td>\n",
       "      <td>26490</td>\n",
       "    </tr>\n",
       "  </tbody>\n",
       "</table>\n",
       "<p>399 rows × 9 columns</p>\n",
       "</div>"
      ],
      "text/plain": [
       "              mark              model mileage transmission registration  \\\n",
       "0       Land-Rover  Range Rover Sport  200000    Automatic      03/2016   \n",
       "1    Mercedes-Benz              E 250  192700    Automatic      12/2009   \n",
       "2    Mercedes-Benz              A 180  164000    Automatic      08/2015   \n",
       "3    Mercedes-Benz            GLC 220  156698    Automatic      07/2018   \n",
       "4            Skoda            Octavia  247000       Manual      10/2010   \n",
       "..             ...                ...     ...          ...          ...   \n",
       "394           Audi                 A5    7240    Automatic      05/2022   \n",
       "395  Mercedes-Benz            GLC 200   61062    Automatic      08/2019   \n",
       "396  Mercedes-Benz           C 63 AMG   12237    Automatic      01/2023   \n",
       "397           Audi                 A5  128107    Automatic      05/2019   \n",
       "398  Mercedes-Benz              A 200   41184    Automatic      08/2020   \n",
       "\n",
       "         fuel power location  price  \n",
       "0      Diesel   258       BE  22950  \n",
       "1      Diesel   204       DE   8989  \n",
       "2      Diesel   109       BE  13950  \n",
       "3      Diesel   163       BE  31950  \n",
       "4    Gasoline   105       DE   2500  \n",
       "..        ...   ...      ...    ...  \n",
       "394  Gasoline   204       DE  42440  \n",
       "395  Gasoline   197       DE  43845  \n",
       "396  Gasoline   510       DE  89490  \n",
       "397  Electric   190       BE  24990  \n",
       "398    Diesel   150       DE  26490  \n",
       "\n",
       "[399 rows x 9 columns]"
      ]
     },
     "execution_count": 7,
     "metadata": {},
     "output_type": "execute_result"
    }
   ],
   "source": [
    "df"
   ]
  },
  {
   "cell_type": "markdown",
   "id": "38625587",
   "metadata": {},
   "source": [
    "## 3. Creating a SQL database and exporting parsed data there from the main pages"
   ]
  },
  {
   "cell_type": "markdown",
   "id": "a03db935",
   "metadata": {},
   "source": [
    "Here we connect to another module **sql_db**. This module connects to a PostgreSQL database *autoscout*. In this database there is a schema *autoscout* which contains the main table *cars*."
   ]
  },
  {
   "cell_type": "code",
   "execution_count": 8,
   "id": "ead021e3",
   "metadata": {},
   "outputs": [],
   "source": [
    "sql_db.connect(df,'replace')"
   ]
  },
  {
   "cell_type": "markdown",
   "id": "bc10d8fd",
   "metadata": {},
   "source": [
    "## 4. Acquring cars' information from the all the car dealers and storing into a SQL database"
   ]
  },
  {
   "cell_type": "code",
   "execution_count": 9,
   "id": "b0a79906",
   "metadata": {},
   "outputs": [],
   "source": [
    "import multiprocessing"
   ]
  },
  {
   "cell_type": "code",
   "execution_count": 10,
   "id": "c73b0c93",
   "metadata": {},
   "outputs": [
    {
     "name": "stdout",
     "output_type": "stream",
     "text": [
      "Total time : 1:26:44.817294\n"
     ]
    }
   ],
   "source": [
    "start = datetime.now()\n",
    "\n",
    "for page in all_pages:\n",
    "    cars_scraper.parser(page, marks_menu)\n",
    "\n",
    "end = datetime.now()\n",
    "print('Total time :', end-start)"
   ]
  },
  {
   "cell_type": "markdown",
   "id": "d790a091",
   "metadata": {},
   "source": [
    "Total time :1:28:41.573803"
   ]
  },
  {
   "cell_type": "code",
   "execution_count": null,
   "id": "1d10cb64",
   "metadata": {},
   "outputs": [],
   "source": [
    "start = datetime.now()\n",
    "def process_page(page, marks_menu):\n",
    "    cars_scraper.parser(page, marks_menu)\n",
    "    \n",
    "num_processes = len(all_pages)  # Number of processes equals the number of pages\n",
    "\n",
    "with multiprocessing.Pool(num_processes) as pool:\n",
    "    pool.starmap(process_page, [(page, marks_menu) for page in all_pages])\n",
    "    \n",
    "end = datetime.now()\n",
    "print('Total time :', end-start)"
   ]
  },
  {
   "cell_type": "code",
   "execution_count": null,
   "id": "c25ae52b",
   "metadata": {},
   "outputs": [],
   "source": []
  }
 ],
 "metadata": {
  "hide_input": false,
  "kernelspec": {
   "display_name": "Python 3",
   "language": "python",
   "name": "python3"
  },
  "language_info": {
   "codemirror_mode": {
    "name": "ipython",
    "version": 3
   },
   "file_extension": ".py",
   "mimetype": "text/x-python",
   "name": "python",
   "nbconvert_exporter": "python",
   "pygments_lexer": "ipython3",
   "version": "3.8.8"
  }
 },
 "nbformat": 4,
 "nbformat_minor": 5
}

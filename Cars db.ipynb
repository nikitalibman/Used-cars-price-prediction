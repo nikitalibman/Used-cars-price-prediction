{
 "cells": [
  {
   "cell_type": "markdown",
   "id": "929c58c9",
   "metadata": {},
   "source": [
    "# Scope of work\n",
    "\n",
    "1) Import all necessary libraries and modules.  \n",
    "2) First we need to obtain inforamtion about all available cars from the first main pages.  \n",
    "3) Create a SQL database and export there gathered info about cars from the main pages.  \n",
    "4) Then we will call module dealers_cars to acquire links to every dealer's list of cars from all main pages.  \n",
    "5) Now we will repeat the same procedure as in the 1st step but to the every dealer's cars list.  \n",
    "6) Add extracted data to a created SQL database"
   ]
  },
  {
   "cell_type": "markdown",
   "id": "ecd9134c",
   "metadata": {},
   "source": [
    "## 1. Imort of libraries and modules"
   ]
  },
  {
   "cell_type": "code",
   "execution_count": 1,
   "id": "8c68fa33",
   "metadata": {},
   "outputs": [],
   "source": [
    "import main_pages\n",
    "import parsing\n",
    "import marks\n",
    "import dataframe\n",
    "import sql_db\n",
    "import cars_scraper\n",
    "from datetime import datetime\n",
    "import dealers_buttons_multithread\n",
    "import all_dealers"
   ]
  },
  {
   "cell_type": "markdown",
   "id": "19db7745",
   "metadata": {},
   "source": [
    "## 2. Acquring cars' information from the first main pages"
   ]
  },
  {
   "cell_type": "markdown",
   "id": "c7d7fa0a",
   "metadata": {},
   "source": [
    "Here we call the 1st module 'parsing' to scrap data from the main pages of the website. Then we store all gathered information about cars into corresponding lists."
   ]
  },
  {
   "cell_type": "code",
   "execution_count": 2,
   "id": "d9f04787",
   "metadata": {},
   "outputs": [],
   "source": [
    "# Link to the main webpage\n",
    "url = 'https://www.autoscout24.com/lst?atype=C&desc=0&sort=standard&source=homepage_search-mask&ustate=N%2CU'"
   ]
  },
  {
   "cell_type": "markdown",
   "id": "a18fcd0a",
   "metadata": {},
   "source": [
    "The module **main_pages** collects all URLs of the main pages from the website autoscout24.com"
   ]
  },
  {
   "cell_type": "code",
   "execution_count": 3,
   "id": "31011ed9",
   "metadata": {},
   "outputs": [],
   "source": [
    "all_pages = main_pages.pages_urls(url)"
   ]
  },
  {
   "cell_type": "markdown",
   "id": "1249f800",
   "metadata": {},
   "source": [
    "With a help of **parsing** module we scrap info about cars from main pages (20)."
   ]
  },
  {
   "cell_type": "code",
   "execution_count": 4,
   "id": "91e8cbd4",
   "metadata": {},
   "outputs": [
    {
     "name": "stdout",
     "output_type": "stream",
     "text": [
      "Total time : 0:00:25.269139\n"
     ]
    }
   ],
   "source": [
    "start = datetime.now()\n",
    "cars, characteristics, prices, locations = parsing.cars_info(all_pages)\n",
    "end = datetime.now()\n",
    "print('Total time :', end-start)"
   ]
  },
  {
   "cell_type": "markdown",
   "id": "69d04635",
   "metadata": {},
   "source": [
    "Here we call the module **marks** in order to extract all existing car marks from the website. Afterwards we will replace\n",
    "spaces in marks' names into dashes '-'"
   ]
  },
  {
   "cell_type": "code",
   "execution_count": 5,
   "id": "4f173641",
   "metadata": {},
   "outputs": [],
   "source": [
    "marks_menu = marks.all_marks(url)"
   ]
  },
  {
   "cell_type": "markdown",
   "id": "b63ba5e0",
   "metadata": {},
   "source": [
    "Here we call the module **dataframe** in order to gather all info about cars into one dataframe"
   ]
  },
  {
   "cell_type": "code",
   "execution_count": 6,
   "id": "f2251b83",
   "metadata": {},
   "outputs": [],
   "source": [
    "df = dataframe.df_construct(marks_menu, cars, characteristics, prices, locations)"
   ]
  },
  {
   "cell_type": "code",
   "execution_count": 7,
   "id": "d62d4761",
   "metadata": {
    "scrolled": true
   },
   "outputs": [
    {
     "data": {
      "text/html": [
       "<div>\n",
       "<style scoped>\n",
       "    .dataframe tbody tr th:only-of-type {\n",
       "        vertical-align: middle;\n",
       "    }\n",
       "\n",
       "    .dataframe tbody tr th {\n",
       "        vertical-align: top;\n",
       "    }\n",
       "\n",
       "    .dataframe thead th {\n",
       "        text-align: right;\n",
       "    }\n",
       "</style>\n",
       "<table border=\"1\" class=\"dataframe\">\n",
       "  <thead>\n",
       "    <tr style=\"text-align: right;\">\n",
       "      <th></th>\n",
       "      <th>mark</th>\n",
       "      <th>model</th>\n",
       "      <th>mileage</th>\n",
       "      <th>transmission</th>\n",
       "      <th>registration</th>\n",
       "      <th>fuel</th>\n",
       "      <th>power</th>\n",
       "      <th>location</th>\n",
       "      <th>price</th>\n",
       "    </tr>\n",
       "  </thead>\n",
       "  <tbody>\n",
       "    <tr>\n",
       "      <th>0</th>\n",
       "      <td>Audi</td>\n",
       "      <td>RS Q8</td>\n",
       "      <td>9000</td>\n",
       "      <td>Automatic</td>\n",
       "      <td>09/2021</td>\n",
       "      <td>Gasoline</td>\n",
       "      <td>740</td>\n",
       "      <td>BE</td>\n",
       "      <td>259740</td>\n",
       "    </tr>\n",
       "    <tr>\n",
       "      <th>1</th>\n",
       "      <td>Lamborghini</td>\n",
       "      <td>Huracan</td>\n",
       "      <td>97</td>\n",
       "      <td>Automatic</td>\n",
       "      <td>11/2023</td>\n",
       "      <td>Gasoline</td>\n",
       "      <td>639</td>\n",
       "      <td>DE</td>\n",
       "      <td>349900</td>\n",
       "    </tr>\n",
       "    <tr>\n",
       "      <th>2</th>\n",
       "      <td>Bentley</td>\n",
       "      <td>Continental GT</td>\n",
       "      <td>135000</td>\n",
       "      <td>Automatic</td>\n",
       "      <td>10/2004</td>\n",
       "      <td>Gasoline</td>\n",
       "      <td>559</td>\n",
       "      <td>BE</td>\n",
       "      <td>29950</td>\n",
       "    </tr>\n",
       "    <tr>\n",
       "      <th>3</th>\n",
       "      <td>Porsche</td>\n",
       "      <td>Panamera</td>\n",
       "      <td>80000</td>\n",
       "      <td>Automatic</td>\n",
       "      <td>01/2015</td>\n",
       "      <td>Electric</td>\n",
       "      <td>333</td>\n",
       "      <td>BE</td>\n",
       "      <td>39950</td>\n",
       "    </tr>\n",
       "    <tr>\n",
       "      <th>4</th>\n",
       "      <td>Mercedes-Benz</td>\n",
       "      <td>E 200</td>\n",
       "      <td>85347</td>\n",
       "      <td>Automatic</td>\n",
       "      <td>10/2018</td>\n",
       "      <td>Diesel</td>\n",
       "      <td>150</td>\n",
       "      <td>BE</td>\n",
       "      <td>27580</td>\n",
       "    </tr>\n",
       "    <tr>\n",
       "      <th>...</th>\n",
       "      <td>...</td>\n",
       "      <td>...</td>\n",
       "      <td>...</td>\n",
       "      <td>...</td>\n",
       "      <td>...</td>\n",
       "      <td>...</td>\n",
       "      <td>...</td>\n",
       "      <td>...</td>\n",
       "      <td>...</td>\n",
       "    </tr>\n",
       "    <tr>\n",
       "      <th>394</th>\n",
       "      <td>BMW</td>\n",
       "      <td>220</td>\n",
       "      <td>99800</td>\n",
       "      <td>Automatic</td>\n",
       "      <td>05/2017</td>\n",
       "      <td>Diesel</td>\n",
       "      <td>190</td>\n",
       "      <td>DE</td>\n",
       "      <td>24890</td>\n",
       "    </tr>\n",
       "    <tr>\n",
       "      <th>395</th>\n",
       "      <td>BMW</td>\n",
       "      <td>520</td>\n",
       "      <td>77000</td>\n",
       "      <td>Automatic</td>\n",
       "      <td>05/2018</td>\n",
       "      <td>Gasoline</td>\n",
       "      <td>163</td>\n",
       "      <td>BE</td>\n",
       "      <td>30900</td>\n",
       "    </tr>\n",
       "    <tr>\n",
       "      <th>396</th>\n",
       "      <td>Isuzu</td>\n",
       "      <td>D-Max</td>\n",
       "      <td>10</td>\n",
       "      <td>Automatic</td>\n",
       "      <td>None</td>\n",
       "      <td>Diesel</td>\n",
       "      <td>163</td>\n",
       "      <td>BE</td>\n",
       "      <td>49450</td>\n",
       "    </tr>\n",
       "    <tr>\n",
       "      <th>397</th>\n",
       "      <td>BMW</td>\n",
       "      <td>X1</td>\n",
       "      <td>148000</td>\n",
       "      <td>Manual</td>\n",
       "      <td>05/2012</td>\n",
       "      <td>Diesel</td>\n",
       "      <td>143</td>\n",
       "      <td>IT</td>\n",
       "      <td>10500</td>\n",
       "    </tr>\n",
       "    <tr>\n",
       "      <th>398</th>\n",
       "      <td>Porsche</td>\n",
       "      <td>Targa</td>\n",
       "      <td>20750</td>\n",
       "      <td>Automatic</td>\n",
       "      <td>12/2021</td>\n",
       "      <td>Gasoline</td>\n",
       "      <td>385</td>\n",
       "      <td>BE</td>\n",
       "      <td>155900</td>\n",
       "    </tr>\n",
       "  </tbody>\n",
       "</table>\n",
       "<p>399 rows × 9 columns</p>\n",
       "</div>"
      ],
      "text/plain": [
       "              mark           model mileage transmission registration  \\\n",
       "0             Audi           RS Q8    9000    Automatic      09/2021   \n",
       "1      Lamborghini         Huracan      97    Automatic      11/2023   \n",
       "2          Bentley  Continental GT  135000    Automatic      10/2004   \n",
       "3          Porsche        Panamera   80000    Automatic      01/2015   \n",
       "4    Mercedes-Benz           E 200   85347    Automatic      10/2018   \n",
       "..             ...             ...     ...          ...          ...   \n",
       "394            BMW             220   99800    Automatic      05/2017   \n",
       "395            BMW             520   77000    Automatic      05/2018   \n",
       "396          Isuzu           D-Max      10    Automatic         None   \n",
       "397            BMW              X1  148000       Manual      05/2012   \n",
       "398        Porsche           Targa   20750    Automatic      12/2021   \n",
       "\n",
       "         fuel power location   price  \n",
       "0    Gasoline   740       BE  259740  \n",
       "1    Gasoline   639       DE  349900  \n",
       "2    Gasoline   559       BE   29950  \n",
       "3    Electric   333       BE   39950  \n",
       "4      Diesel   150       BE   27580  \n",
       "..        ...   ...      ...     ...  \n",
       "394    Diesel   190       DE   24890  \n",
       "395  Gasoline   163       BE   30900  \n",
       "396    Diesel   163       BE   49450  \n",
       "397    Diesel   143       IT   10500  \n",
       "398  Gasoline   385       BE  155900  \n",
       "\n",
       "[399 rows x 9 columns]"
      ]
     },
     "execution_count": 7,
     "metadata": {},
     "output_type": "execute_result"
    }
   ],
   "source": [
    "df"
   ]
  },
  {
   "cell_type": "markdown",
   "id": "38625587",
   "metadata": {},
   "source": [
    "## 3. Creating a SQL database and exporting parsed data there from the main pages"
   ]
  },
  {
   "cell_type": "markdown",
   "id": "a03db935",
   "metadata": {},
   "source": [
    "Here we connect to another module **sql_db**. This module connects to a PostgreSQL database *autoscout*. In this database there is a schema *autoscout* which contains the main table *cars*."
   ]
  },
  {
   "cell_type": "code",
   "execution_count": 8,
   "id": "ead021e3",
   "metadata": {},
   "outputs": [],
   "source": [
    "sql_db.connect(df,'replace')"
   ]
  },
  {
   "cell_type": "markdown",
   "id": "bc10d8fd",
   "metadata": {},
   "source": [
    "## 4. Acquring cars' information from the all the car dealers and storing into a SQL database"
   ]
  },
  {
   "cell_type": "code",
   "execution_count": null,
   "id": "a7de629e",
   "metadata": {},
   "outputs": [],
   "source": [
    "# Here we click on all dealer buttons from the main 20 pages and get URLs\n",
    "start = datetime.now()\n",
    "dealers = all_dealers.main(url)\n",
    "end = datetime.now()\n",
    "print('Total time :', end - start)"
   ]
  },
  {
   "cell_type": "code",
   "execution_count": 9,
   "id": "df22df52",
   "metadata": {},
   "outputs": [],
   "source": [
    "dealers = [['https://www.autoscout24.com/lst?atype=C&cid=16343921', 'https://www.autoscout24.com/lst?atype=C&cid=35936249', 'https://www.autoscout24.com/lst?atype=C&cid=38791321', 'https://www.autoscout24.com/lst?atype=C&cid=4564', 'https://www.autoscout24.com/lst?atype=C&cid=4891', 'https://www.autoscout24.com/lst?atype=C&cid=4943212', 'https://www.autoscout24.com/lst?atype=C&cid=43578598', 'https://www.autoscout24.com/lst?atype=C&cid=15535338', 'https://www.autoscout24.com/lst?atype=C&cid=41742023', 'https://www.autoscout24.com/lst?atype=C&cid=23383438', 'https://www.autoscout24.com/lst?atype=C&cid=6676070', 'https://www.autoscout24.com/lst?atype=C&cid=21633', 'https://www.autoscout24.com/lst?atype=C&cid=5092', 'https://www.autoscout24.com/lst?atype=C&cid=6676070', 'https://www.autoscout24.com/lst?atype=C&cid=6676070', 'https://www.autoscout24.com/lst?atype=C&cid=8048219', 'https://www.autoscout24.com/lst?atype=C&cid=15535338', 'https://www.autoscout24.com/lst?atype=C&cid=6676070', 'https://www.autoscout24.com/lst?atype=C&cid=11483'], ['https://www.autoscout24.com/lst?atype=C&cid=15535338', 'https://www.autoscout24.com/lst?atype=C&cid=2642281', 'https://www.autoscout24.com/lst?atype=C&cid=38791321', 'https://www.autoscout24.com/lst?atype=C&cid=4927', 'https://www.autoscout24.com/lst?atype=C&cid=22643', 'https://www.autoscout24.com/lst?atype=C&cid=5087', 'https://www.autoscout24.com/lst?atype=C&cid=16425033', 'https://www.autoscout24.com/lst?atype=C&cid=15535338', 'https://www.autoscout24.com/lst?atype=C&cid=21633', 'https://www.autoscout24.com/lst?atype=C&cid=16343921', 'https://www.autoscout24.com/lst?atype=C&cid=18709885', 'https://www.autoscout24.com/lst?atype=C&cid=31057295', 'https://www.autoscout24.com/lst?atype=C&cid=25948512', 'https://www.autoscout24.com/lst?atype=C&cid=2157305', 'https://www.autoscout24.com/lst?atype=C&cid=6347954', 'https://www.autoscout24.com/lst?atype=C&cid=24454754', 'https://www.autoscout24.com/lst?atype=C&cid=15535338', 'https://www.autoscout24.com/lst?atype=C&cid=11483', 'https://www.autoscout24.com/lst?atype=C&cid=2214752', 'https://www.autoscout24.com/lst?atype=C&cid=43578598'], ['https://www.autoscout24.com/lst?atype=C&cid=24872232', 'https://www.autoscout24.com/lst?atype=C&cid=31299809', 'https://www.autoscout24.com/lst?atype=C&cid=24872232', 'https://www.autoscout24.com/lst?atype=C&cid=5617054', 'https://www.autoscout24.com/lst?atype=C&cid=42410620', 'https://www.autoscout24.com/lst?atype=C&cid=17283', 'https://www.autoscout24.com/lst?atype=C&cid=24565039', 'https://www.autoscout24.com/lst?atype=C&cid=43793772', 'https://www.autoscout24.com/lst?atype=C&cid=5050', 'https://www.autoscout24.com/lst?atype=C&cid=18560504', 'https://www.autoscout24.com/lst?atype=C&cid=17594', 'https://www.autoscout24.com/lst?atype=C&cid=28433056', 'https://www.autoscout24.com/lst?atype=C&cid=7033', 'https://www.autoscout24.com/lst?atype=C&cid=26256', 'https://www.autoscout24.com/lst?atype=C&cid=7033', 'https://www.autoscout24.com/lst?atype=C&cid=28433056', 'https://www.autoscout24.com/lst?atype=C&cid=3323587', 'https://www.autoscout24.com/lst?atype=C&cid=13062798', 'https://www.autoscout24.com/lst?atype=C&cid=28433056', 'https://www.autoscout24.com/lst?atype=C&cid=17594'], ['https://www.autoscout24.com/lst?atype=C&cid=20712210', 'https://www.autoscout24.com/lst?atype=C&cid=20582', 'https://www.autoscout24.com/lst?atype=C&cid=5711', 'https://www.autoscout24.com/lst?atype=C&cid=26458411', 'https://www.autoscout24.com/lst?atype=C&cid=2984381', 'https://www.autoscout24.com/lst?atype=C&cid=43578598', 'https://www.autoscout24.com/lst?atype=C&cid=16343921', 'https://www.autoscout24.com/lst?atype=C&cid=5701', 'https://www.autoscout24.com/lst?atype=C&cid=25094997', 'https://www.autoscout24.com/lst?atype=C&cid=24872232', 'https://www.autoscout24.com/lst?atype=C&cid=17594', 'https://www.autoscout24.com/lst?atype=C&cid=31299809', 'https://www.autoscout24.com/lst?atype=C&cid=24872232', 'https://www.autoscout24.com/lst?atype=C&cid=20423', 'https://www.autoscout24.com/lst?atype=C&cid=35070663', 'https://www.autoscout24.com/lst?atype=C&cid=42410620', 'https://www.autoscout24.com/lst?atype=C&cid=6676070', 'https://www.autoscout24.com/lst?atype=C&cid=17283', 'https://www.autoscout24.com/lst?atype=C&cid=5617054', 'https://www.autoscout24.com/lst?atype=C&cid=40334160'], ['https://www.autoscout24.com/lst?atype=C&cid=15572052', 'https://www.autoscout24.com/lst?atype=C&cid=3453827', 'https://www.autoscout24.com/lst?atype=C&cid=33877221', 'https://www.autoscout24.com/lst?atype=C&cid=43578598', 'https://www.autoscout24.com/lst?atype=C&cid=21633', 'https://www.autoscout24.com/lst?atype=C&cid=5064833', 'https://www.autoscout24.com/lst?atype=C&cid=15133511', 'https://www.autoscout24.com/lst?atype=C&cid=43578598', 'https://www.autoscout24.com/lst?atype=C&cid=13149235', 'https://www.autoscout24.com/lst?atype=C&cid=35061', 'https://www.autoscout24.com/lst?atype=C&cid=10539986', 'https://www.autoscout24.com/lst?atype=C&cid=28515658', 'https://www.autoscout24.com/lst?atype=C&cid=7639', 'https://www.autoscout24.com/lst?atype=C&cid=30312574', 'https://www.autoscout24.com/lst?atype=C&cid=36185183', 'https://www.autoscout24.com/lst?atype=C&cid=5791', 'https://www.autoscout24.com/lst?atype=C&cid=6676070', 'https://www.autoscout24.com/lst?atype=C&cid=28433056', 'https://www.autoscout24.com/lst?atype=C&cid=43578598', 'https://www.autoscout24.com/lst?atype=C&cid=9028762'], ['https://www.autoscout24.com/lst?atype=C&cid=39188093', 'https://www.autoscout24.com/lst?atype=C&cid=10744085', 'https://www.autoscout24.com/lst?atype=C&cid=2157301', 'https://www.autoscout24.com/lst?atype=C&cid=4062034', 'https://www.autoscout24.com/lst?atype=C&cid=15572052', 'https://www.autoscout24.com/lst?atype=C&cid=9028762', 'https://www.autoscout24.com/lst?atype=C&cid=33877221', 'https://www.autoscout24.com/lst?atype=C&cid=21633', 'https://www.autoscout24.com/lst?atype=C&cid=5064833', 'https://www.autoscout24.com/lst?atype=C&cid=11483', 'https://www.autoscout24.com/lst?atype=C&cid=9028762', 'https://www.autoscout24.com/lst?atype=C&cid=19595732', 'https://www.autoscout24.com/lst?atype=C&cid=15133511', 'https://www.autoscout24.com/lst?atype=C&cid=13149235', 'https://www.autoscout24.com/lst?atype=C&cid=35061', 'https://www.autoscout24.com/lst?atype=C&cid=10539986', 'https://www.autoscout24.com/lst?atype=C&cid=5092', 'https://www.autoscout24.com/lst?atype=C&cid=28515658', 'https://www.autoscout24.com/lst?atype=C&cid=43578598', 'https://www.autoscout24.com/lst?atype=C&cid=23752272'], ['https://www.autoscout24.com/lst?atype=C&cid=2556378', 'https://www.autoscout24.com/lst?atype=C&cid=4756146', 'https://www.autoscout24.com/lst?atype=C&cid=25063091', 'https://www.autoscout24.com/lst?atype=C&cid=33877221', 'https://www.autoscout24.com/lst?atype=C&cid=14661888', 'https://www.autoscout24.com/lst?atype=C&cid=24363553', 'https://www.autoscout24.com/lst?atype=C&cid=22045010', 'https://www.autoscout24.com/lst?atype=C&cid=2171855', 'https://www.autoscout24.com/lst?atype=C&cid=7235368', 'https://www.autoscout24.com/lst?atype=C&cid=15535338', 'https://www.autoscout24.com/lst?atype=C&cid=28433056', 'https://www.autoscout24.com/lst?atype=C&cid=25948512', 'https://www.autoscout24.com/lst?atype=C&cid=4927', 'https://www.autoscout24.com/lst?atype=C&cid=20412389', 'https://www.autoscout24.com/offers/lynk-co-01-hev-electric-gasoline-black-1850cc48-bd02-4328-9b5c-bf02653d5d67?sort=standard&desc=0&lastSeenGuidPresent=false&cldtidx=125&position=125&search_id=gxrsmwbnl8&source_otp=t50&source=listpage_search-results&order_bucket=6', 'https://www.autoscout24.com/lst?atype=C&cid=37723091', 'https://www.autoscout24.com/lst?atype=C&cid=20660', 'https://www.autoscout24.com/lst?atype=C&cid=6676070', 'https://www.autoscout24.com/lst?atype=C&cid=2277330', 'https://www.autoscout24.com/lst?atype=C&cid=24872232'], ['https://www.autoscout24.com/lst?atype=C&cid=26458411', 'https://www.autoscout24.com/lst?atype=C&cid=15589', 'https://www.autoscout24.com/lst?atype=C&cid=40334160', 'https://www.autoscout24.com/lst?atype=C&cid=4488', 'https://www.autoscout24.com/lst?atype=C&cid=2028722', 'https://www.autoscout24.com/lst?atype=C&cid=29736', 'https://www.autoscout24.com/lst?atype=C&cid=5711', 'https://www.autoscout24.com/lst?atype=C&cid=2556378', 'https://www.autoscout24.com/lst?atype=C&cid=15535338', 'https://www.autoscout24.com/lst?atype=C&cid=24872232', 'https://www.autoscout24.com/lst?atype=C&cid=4756146', 'https://www.autoscout24.com/lst?atype=C&cid=7171657', 'https://www.autoscout24.com/lst?atype=C&cid=33877221', 'https://www.autoscout24.com/lst?atype=C&cid=25063091', 'https://www.autoscout24.com/lst?atype=C&cid=14661888', 'https://www.autoscout24.com/lst?atype=C&cid=7171657', 'https://www.autoscout24.com/lst?atype=C&cid=24363553', 'https://www.autoscout24.com/lst?atype=C&cid=39188093', 'https://www.autoscout24.com/lst?atype=C&cid=34843'], ['https://www.autoscout24.com/lst?atype=C&cid=24363553', 'https://www.autoscout24.com/lst?atype=C&cid=4802', 'https://www.autoscout24.com/lst?atype=C&cid=5148586', 'https://www.autoscout24.com/lst?atype=C&cid=25063091', 'https://www.autoscout24.com/lst?atype=C&cid=17283', 'https://www.autoscout24.com/lst?atype=C&cid=26458411', 'https://www.autoscout24.com/lst?atype=C&cid=2157305', 'https://www.autoscout24.com/lst?atype=C&cid=41978363', 'https://www.autoscout24.com/lst?atype=C&cid=13340', 'https://www.autoscout24.com/lst?atype=C&cid=24872232', 'https://www.autoscout24.com/lst?atype=C&cid=3882692', 'https://www.autoscout24.com/lst?atype=C&cid=29872', 'https://www.autoscout24.com/lst?atype=C&cid=34583284', 'https://www.autoscout24.com/lst?atype=C&cid=43578598', 'https://www.autoscout24.com/lst?atype=C&cid=5092', 'https://www.autoscout24.com/lst?atype=C&cid=13461', 'https://www.autoscout24.com/lst?atype=C&cid=34843', 'https://www.autoscout24.com/lst?atype=C&cid=15133511', 'https://www.autoscout24.com/lst?atype=C&cid=14661888', 'https://www.autoscout24.com/lst?atype=C&cid=5617054'], ['https://www.autoscout24.com/lst?atype=C&cid=7320207', 'https://www.autoscout24.com/lst?atype=C&cid=3882692', 'https://www.autoscout24.com/lst?atype=C&cid=21633', 'https://www.autoscout24.com/lst?atype=C&cid=11483', 'https://www.autoscout24.com/lst?atype=C&cid=40434936', 'https://www.autoscout24.com/lst?atype=C&cid=7687', 'https://www.autoscout24.com/lst?atype=C&cid=17249', 'https://www.autoscout24.com/lst?atype=C&cid=29736', 'https://www.autoscout24.com/lst?atype=C&cid=10539986', 'https://www.autoscout24.com/lst?atype=C&cid=40334160', 'https://www.autoscout24.com/lst?atype=C&cid=7687', 'https://www.autoscout24.com/lst?atype=C&cid=34358886', 'https://www.autoscout24.com/lst?atype=C&cid=4488', 'https://www.autoscout24.com/lst?atype=C&cid=34113', 'https://www.autoscout24.com/lst?atype=C&cid=5017', 'https://www.autoscout24.com/lst?atype=C&cid=34481912', 'https://www.autoscout24.com/lst?atype=C&cid=13514388', 'https://www.autoscout24.com/lst?atype=C&cid=43578598', 'https://www.autoscout24.com/lst?atype=C&cid=32061', 'https://www.autoscout24.com/lst?atype=C&cid=15535338'], ['https://www.autoscout24.com/lst?atype=C&cid=7320207', 'https://www.autoscout24.com/lst?atype=C&cid=3882692', 'https://www.autoscout24.com/lst?atype=C&cid=21633', 'https://www.autoscout24.com/lst?atype=C&cid=11483', 'https://www.autoscout24.com/lst?atype=C&cid=40434936', 'https://www.autoscout24.com/lst?atype=C&cid=7687', 'https://www.autoscout24.com/lst?atype=C&cid=17249', 'https://www.autoscout24.com/lst?atype=C&cid=7848', 'https://www.autoscout24.com/lst?atype=C&cid=26256', 'https://www.autoscout24.com/lst?atype=C&cid=29736', 'https://www.autoscout24.com/lst?atype=C&cid=22476409', 'https://www.autoscout24.com/lst?atype=C&cid=40334160', 'https://www.autoscout24.com/lst?atype=C&cid=7687', 'https://www.autoscout24.com/lst?atype=C&cid=17250845', 'https://www.autoscout24.com/offers/volvo-v90-2-0-d3-r-design-diesel-black-31be457e-432a-4061-8f2b-65268698b93e?sort=standard&desc=0&lastSeenGuidPresent=false&cldtidx=205&position=205&search_id=gxrsmwbnl8&source_otp=t50&source=listpage_search-results&order_bucket=6', 'https://www.autoscout24.com/lst?atype=C&cid=4488', 'https://www.autoscout24.com/lst?atype=C&cid=36602827', 'https://www.autoscout24.com/lst?atype=C&cid=34704520', 'https://www.autoscout24.com/lst?atype=C&cid=5349679', 'https://www.autoscout24.com/lst?atype=C&cid=15535338'], ['https://www.autoscout24.com/lst?atype=C&cid=12024956', 'https://www.autoscout24.com/lst?atype=C&cid=25063091', 'https://www.autoscout24.com/lst?atype=C&cid=7477', 'https://www.autoscout24.com/lst?atype=C&cid=17250845', 'https://www.autoscout24.com/lst?atype=C&cid=29199', 'https://www.autoscout24.com/lst?atype=C&cid=4756146', 'https://www.autoscout24.com/lst?atype=C&cid=18434412', 'https://www.autoscout24.com/lst?atype=C&cid=5786', 'https://www.autoscout24.com/lst?atype=C&cid=40434936', 'https://www.autoscout24.com/lst?atype=C&cid=13461', 'https://www.autoscout24.com/lst?atype=C&cid=8497558', 'https://www.autoscout24.com/lst?atype=C&cid=5454887', 'https://www.autoscout24.com/lst?atype=C&cid=38791321', 'https://www.autoscout24.com/lst?atype=C&cid=22974325', 'https://www.autoscout24.com/lst?atype=C&cid=5146', 'https://www.autoscout24.com/lst?atype=C&cid=43578598', 'https://www.autoscout24.com/lst?atype=C&cid=6676070', 'https://www.autoscout24.com/lst?atype=C&cid=11436', 'https://www.autoscout24.com/lst?atype=C&cid=23521', 'https://www.autoscout24.com/lst?atype=C&cid=22476409'], ['https://www.autoscout24.com/lst?atype=C&cid=15535338', 'https://www.autoscout24.com/lst?atype=C&cid=18709885', 'https://www.autoscout24.com/lst?atype=C&cid=17578', 'https://www.autoscout24.com/lst?atype=C&cid=5146', 'https://www.autoscout24.com/lst?atype=C&cid=43578598', 'https://www.autoscout24.com/lst?atype=C&cid=15535338', 'https://www.autoscout24.com/lst?atype=C&cid=15133511', 'https://www.autoscout24.com/lst?atype=C&cid=11436', 'https://www.autoscout24.com/lst?atype=C&cid=40334160', 'https://www.autoscout24.com/lst?atype=C&cid=6649', 'https://www.autoscout24.com/lst?atype=C&cid=2556378', 'https://www.autoscout24.com/lst?atype=C&cid=26458411', 'https://www.autoscout24.com/lst?atype=C&cid=2466660', 'https://www.autoscout24.com/lst?atype=C&cid=7477', 'https://www.autoscout24.com/lst?atype=C&cid=5617054', 'https://www.autoscout24.com/lst?atype=C&cid=16704359', 'https://www.autoscout24.com/lst?atype=C&cid=16090210', 'https://www.autoscout24.com/lst?atype=C&cid=40334160', 'https://www.autoscout24.com/lst?atype=C&cid=15589', 'https://www.autoscout24.com/lst?atype=C&cid=23521'], ['https://www.autoscout24.com/lst?atype=C&cid=24840', 'https://www.autoscout24.com/lst?atype=C&cid=13340', 'https://www.autoscout24.com/lst?atype=C&cid=31397', 'https://www.autoscout24.com/lst?atype=C&cid=17578', 'https://www.autoscout24.com/lst?atype=C&cid=4482380', 'https://www.autoscout24.com/lst?atype=C&cid=15133511', 'https://www.autoscout24.com/lst?atype=C&cid=2984381', 'https://www.autoscout24.com/lst?atype=C&cid=36077552', 'https://www.autoscout24.com/lst?atype=C&cid=17578', 'https://www.autoscout24.com/lst?atype=C&cid=7033', 'https://www.autoscout24.com/lst?atype=C&cid=2556378', 'https://www.autoscout24.com/lst?atype=C&cid=17283', 'https://www.autoscout24.com/lst?atype=C&cid=7033', 'https://www.autoscout24.com/lst?atype=C&cid=30183992', 'https://www.autoscout24.com/lst?atype=C&cid=29114847', 'https://www.autoscout24.com/lst?atype=C&cid=3927280', 'https://www.autoscout24.com/lst?atype=C&cid=22643', 'https://www.autoscout24.com/lst?atype=C&cid=9974977', 'https://www.autoscout24.com/lst?atype=C&cid=2984381'], ['https://www.autoscout24.com/lst?atype=C&cid=3927280', 'https://www.autoscout24.com/lst?atype=C&cid=36185183', 'https://www.autoscout24.com/lst?atype=C&cid=17220898', 'https://www.autoscout24.com/lst?atype=C&cid=14789017', 'https://www.autoscout24.com/lst?atype=C&cid=4802', 'https://www.autoscout24.com/lst?atype=C&cid=15966', 'https://www.autoscout24.com/lst?atype=C&cid=33877221', 'https://www.autoscout24.com/lst?atype=C&cid=42667346', 'https://www.autoscout24.com/lst?atype=C&cid=24363553', 'https://www.autoscout24.com/lst?atype=C&cid=29433529', 'https://www.autoscout24.com/lst?atype=C&cid=15535338', 'https://www.autoscout24.com/lst?atype=C&cid=16055401', 'https://www.autoscout24.com/lst?atype=C&cid=15535338', 'https://www.autoscout24.com/lst?atype=C&cid=15535338', 'https://www.autoscout24.com/lst?atype=C&cid=2984381', 'https://www.autoscout24.com/lst?atype=C&cid=23521', 'https://www.autoscout24.com/lst?atype=C&cid=16046104', 'https://www.autoscout24.com/lst?atype=C&cid=8497558', 'https://www.autoscout24.com/lst?atype=C&cid=24840', 'https://www.autoscout24.com/lst?atype=C&cid=18434412'], ['https://www.autoscout24.com/lst?atype=C&cid=17283', 'https://www.autoscout24.com/lst?atype=C&cid=17283', 'https://www.autoscout24.com/lst?atype=C&cid=7109', 'https://www.autoscout24.com/lst?atype=C&cid=4179739', 'https://www.autoscout24.com/lst?atype=C&cid=34704520', 'https://www.autoscout24.com/lst?atype=C&cid=2115517', 'https://www.autoscout24.com/lst?atype=C&cid=15535338', 'https://www.autoscout24.com/lst?atype=C&cid=15964480', 'https://www.autoscout24.com/lst?atype=C&cid=21418', 'https://www.autoscout24.com/lst?atype=C&cid=40522332', 'https://www.autoscout24.com/lst?atype=C&cid=32061', 'https://www.autoscout24.com/lst?atype=C&cid=21674', 'https://www.autoscout24.com/lst?atype=C&cid=15572052', 'https://www.autoscout24.com/lst?atype=C&cid=44222275', 'https://www.autoscout24.com/lst?atype=C&cid=4732', 'https://www.autoscout24.com/lst?atype=C&cid=7033', 'https://www.autoscout24.com/lst?atype=C&cid=16046104', 'https://www.autoscout24.com/lst?atype=C&cid=27583740', 'https://www.autoscout24.com/lst?atype=C&cid=12853', 'https://www.autoscout24.com/lst?atype=C&cid=7033'], ['https://www.autoscout24.com/lst?atype=C&cid=4732', 'https://www.autoscout24.com/lst?atype=C&cid=27583740', 'https://www.autoscout24.com/lst?atype=C&cid=17283', 'https://www.autoscout24.com/lst?atype=C&cid=4868366', 'https://www.autoscout24.com/lst?atype=C&cid=8581098', 'https://www.autoscout24.com/lst?atype=C&cid=15966', 'https://www.autoscout24.com/lst?atype=C&cid=43737384', 'https://www.autoscout24.com/lst?atype=C&cid=2556378', 'https://www.autoscout24.com/lst?atype=C&cid=10744085', 'https://www.autoscout24.com/lst?atype=C&cid=17283', 'https://www.autoscout24.com/lst?atype=C&cid=3882692', 'https://www.autoscout24.com/lst?atype=C&cid=25094997', 'https://www.autoscout24.com/lst?atype=C&cid=14789017', 'https://www.autoscout24.com/lst?atype=C&cid=43994039', 'https://www.autoscout24.com/lst?atype=C&cid=2984381', 'https://www.autoscout24.com/lst?atype=C&cid=18949531', 'https://www.autoscout24.com/lst?atype=C&cid=15304', 'https://www.autoscout24.com/lst?atype=C&cid=15214', 'https://www.autoscout24.com/lst?atype=C&cid=5711', 'https://www.autoscout24.com/lst?atype=C&cid=7033'], ['https://www.autoscout24.com/lst?atype=C&cid=8581098', 'https://www.autoscout24.com/lst?atype=C&cid=43737384', 'https://www.autoscout24.com/lst?atype=C&cid=2556378', 'https://www.autoscout24.com/lst?atype=C&cid=10744085', 'https://www.autoscout24.com/lst?atype=C&cid=17283', 'https://www.autoscout24.com/lst?atype=C&cid=12024956', 'https://www.autoscout24.com/lst?atype=C&cid=25094997', 'https://www.autoscout24.com/lst?atype=C&cid=7235368', 'https://www.autoscout24.com/lst?atype=C&cid=5349679', 'https://www.autoscout24.com/lst?atype=C&cid=14789017', 'https://www.autoscout24.com/lst?atype=C&cid=5711', 'https://www.autoscout24.com/lst?atype=C&cid=34391692', 'https://www.autoscout24.com/lst?atype=C&cid=7235368', 'https://www.autoscout24.com/lst?atype=C&cid=2984381', 'https://www.autoscout24.com/lst?atype=C&cid=18949531', 'https://www.autoscout24.com/lst?atype=C&cid=28338667', 'https://www.autoscout24.com/lst?atype=C&cid=36602827', 'https://www.autoscout24.com/lst?atype=C&cid=24854', 'https://www.autoscout24.com/lst?atype=C&cid=43994039', 'https://www.autoscout24.com/lst?atype=C&cid=15966'], ['https://www.autoscout24.com/lst?atype=C&cid=18709885', 'https://www.autoscout24.com/lst?atype=C&cid=17249', 'https://www.autoscout24.com/lst?atype=C&cid=2396384', 'https://www.autoscout24.com/lst?atype=C&cid=11454', 'https://www.autoscout24.com/lst?atype=C&cid=17220898', 'https://www.autoscout24.com/lst?atype=C&cid=21633', 'https://www.autoscout24.com/lst?atype=C&cid=28515658', 'https://www.autoscout24.com/lst?atype=C&cid=34843', 'https://www.autoscout24.com/lst?atype=C&cid=17828385', 'https://www.autoscout24.com/lst?atype=C&cid=13029152', 'https://www.autoscout24.com/lst?atype=C&cid=17250845', 'https://www.autoscout24.com/lst?atype=C&cid=29030479', 'https://www.autoscout24.com/lst?atype=C&cid=8497558', 'https://www.autoscout24.com/lst?atype=C&cid=43578598', 'https://www.autoscout24.com/lst?atype=C&cid=2642281', 'https://www.autoscout24.com/lst?atype=C&cid=29736', 'https://www.autoscout24.com/lst?atype=C&cid=6676070', 'https://www.autoscout24.com/lst?atype=C&cid=27351', 'https://www.autoscout24.com/lst?atype=C&cid=24139061', 'https://www.autoscout24.com/lst?atype=C&cid=4756146'], ['https://www.autoscout24.com/lst?atype=C&cid=24139061', 'https://www.autoscout24.com/lst?atype=C&cid=43578598', 'https://www.autoscout24.com/lst?atype=C&cid=2642281', 'https://www.autoscout24.com/lst?atype=C&cid=29736', 'https://www.autoscout24.com/lst?atype=C&cid=34463578', 'https://www.autoscout24.com/lst?atype=C&cid=16343921', 'https://www.autoscout24.com/lst?atype=C&cid=29030479', 'https://www.autoscout24.com/lst?atype=C&cid=17283', 'https://www.autoscout24.com/lst?atype=C&cid=20712210', 'https://www.autoscout24.com/lst?atype=C&cid=17283', 'https://www.autoscout24.com/lst?atype=C&cid=4179739', 'https://www.autoscout24.com/lst?atype=C&cid=34704520', 'https://www.autoscout24.com/lst?atype=C&cid=15964480', 'https://www.autoscout24.com/lst?atype=C&cid=43775852', 'https://www.autoscout24.com/lst?atype=C&cid=40522332', 'https://www.autoscout24.com/lst?atype=C&cid=21674', 'https://www.autoscout24.com/lst?atype=C&cid=10744085', 'https://www.autoscout24.com/lst?atype=C&cid=15535338', 'https://www.autoscout24.com/lst?atype=C&cid=8497558']]"
   ]
  },
  {
   "cell_type": "code",
   "execution_count": 10,
   "id": "12690739",
   "metadata": {},
   "outputs": [],
   "source": [
    "import all_urls"
   ]
  },
  {
   "cell_type": "code",
   "execution_count": 11,
   "id": "f8dfcbca",
   "metadata": {},
   "outputs": [
    {
     "name": "stdout",
     "output_type": "stream",
     "text": [
      "Total time : 0:01:27.857311\n"
     ]
    }
   ],
   "source": [
    "# Multithreading\n",
    "\n",
    "start = datetime.now()\n",
    "pages = all_urls.main(dealers)\n",
    "end = datetime.now()\n",
    "print('Total time :', end - start)"
   ]
  },
  {
   "cell_type": "code",
   "execution_count": 14,
   "id": "621e2f38",
   "metadata": {},
   "outputs": [],
   "source": [
    "import multi_parse"
   ]
  },
  {
   "cell_type": "code",
   "execution_count": 15,
   "id": "9a4b6d76",
   "metadata": {},
   "outputs": [
    {
     "name": "stdout",
     "output_type": "stream",
     "text": [
      "Total time : 0:05:09.731094\n"
     ]
    }
   ],
   "source": [
    "start = datetime.now()\n",
    "multi_parse.main(pages, marks_menu)\n",
    "end = datetime.now()\n",
    "print('Total time :', end - start)"
   ]
  },
  {
   "cell_type": "code",
   "execution_count": 16,
   "id": "80b0a90a",
   "metadata": {},
   "outputs": [],
   "source": [
    "import normal_parse"
   ]
  },
  {
   "cell_type": "code",
   "execution_count": 17,
   "id": "496d52f9",
   "metadata": {},
   "outputs": [
    {
     "name": "stdout",
     "output_type": "stream",
     "text": [
      "Total time : 0:46:47.823955\n"
     ]
    }
   ],
   "source": [
    "start = datetime.now()\n",
    "normal_parse.main(pages, marks_menu)\n",
    "end = datetime.now()\n",
    "print('Total time :', end - start)"
   ]
  },
  {
   "cell_type": "code",
   "execution_count": null,
   "id": "c73b0c93",
   "metadata": {},
   "outputs": [],
   "source": [
    "start = datetime.now()\n",
    "\n",
    "for page in all_pages:\n",
    "    cars_scraper.parser(page, marks_menu)\n",
    "\n",
    "end = datetime.now()\n",
    "print('Total time :', end-start)"
   ]
  },
  {
   "cell_type": "markdown",
   "id": "d790a091",
   "metadata": {},
   "source": [
    "Total time :1:28:41.573803"
   ]
  },
  {
   "cell_type": "code",
   "execution_count": null,
   "id": "c25ae52b",
   "metadata": {},
   "outputs": [],
   "source": []
  }
 ],
 "metadata": {
  "hide_input": false,
  "kernelspec": {
   "display_name": "Python 3",
   "language": "python",
   "name": "python3"
  },
  "language_info": {
   "codemirror_mode": {
    "name": "ipython",
    "version": 3
   },
   "file_extension": ".py",
   "mimetype": "text/x-python",
   "name": "python",
   "nbconvert_exporter": "python",
   "pygments_lexer": "ipython3",
   "version": "3.8.8"
  }
 },
 "nbformat": 4,
 "nbformat_minor": 5
}

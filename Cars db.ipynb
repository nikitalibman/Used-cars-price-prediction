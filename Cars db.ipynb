{
 "cells": [
  {
   "cell_type": "markdown",
   "id": "929c58c9",
   "metadata": {},
   "source": [
    "# Scope of work\n",
    "\n",
    "1) Import all necessary libraries and modules.  \n",
    "2) First we need to obtain inforamtion about all available cars from the first main pages.  \n",
    "3) Create a SQL database and export there gathered info about cars from the main pages.  \n",
    "4) Then we will call module dealers_cars to acquire links to every dealer's list of cars from all main pages.  \n",
    "5) Now we will repeat the same procedure as in the 1st step but to the every dealer's cars list.  \n",
    "6) Add extracted data to a created SQL database"
   ]
  },
  {
   "cell_type": "markdown",
   "id": "ecd9134c",
   "metadata": {},
   "source": [
    "## 1. Imort of libraries and modules"
   ]
  },
  {
   "cell_type": "code",
   "execution_count": 1,
   "id": "8c68fa33",
   "metadata": {},
   "outputs": [],
   "source": [
    "import main_pages\n",
    "import parsing\n",
    "import marks\n",
    "import dataframe\n",
    "import sql_db\n",
    "#import cars_scraper\n",
    "from datetime import datetime\n",
    "import dealers_buttons_multithread\n",
    "import all_dealers"
   ]
  },
  {
   "cell_type": "markdown",
   "id": "19db7745",
   "metadata": {},
   "source": [
    "## 2. Acquring cars' information from the first main pages"
   ]
  },
  {
   "cell_type": "markdown",
   "id": "c7d7fa0a",
   "metadata": {},
   "source": [
    "Here we call the 1st module 'parsing' to scrap data from the main pages of the website. Then we store all gathered information about cars into corresponding lists."
   ]
  },
  {
   "cell_type": "code",
   "execution_count": 2,
   "id": "d9f04787",
   "metadata": {},
   "outputs": [],
   "source": [
    "# Link to the main webpage\n",
    "url = 'https://www.autoscout24.com/lst?atype=C&desc=0&sort=standard&source=homepage_search-mask&ustate=N%2CU'"
   ]
  },
  {
   "cell_type": "markdown",
   "id": "a18fcd0a",
   "metadata": {},
   "source": [
    "The module **main_pages** collects all URLs of the main pages from the website autoscout24.com"
   ]
  },
  {
   "cell_type": "code",
   "execution_count": 3,
   "id": "31011ed9",
   "metadata": {},
   "outputs": [],
   "source": [
    "all_pages = main_pages.pages_urls(url)"
   ]
  },
  {
   "cell_type": "markdown",
   "id": "1249f800",
   "metadata": {},
   "source": [
    "With a help of **parsing** module we scrap info about cars from main pages (20)."
   ]
  },
  {
   "cell_type": "code",
   "execution_count": 4,
   "id": "91e8cbd4",
   "metadata": {},
   "outputs": [
    {
     "name": "stdout",
     "output_type": "stream",
     "text": [
      "Total time : 0:00:24.476022\n"
     ]
    }
   ],
   "source": [
    "start = datetime.now()\n",
    "cars, characteristics, prices, locations = parsing.cars_info(all_pages)\n",
    "end = datetime.now()\n",
    "print('Total time :', end-start)"
   ]
  },
  {
   "cell_type": "markdown",
   "id": "69d04635",
   "metadata": {},
   "source": [
    "Here we call the module **marks** in order to extract all existing car marks from the website. Afterwards we will replace\n",
    "spaces in marks' names into dashes '-'"
   ]
  },
  {
   "cell_type": "code",
   "execution_count": 5,
   "id": "4f173641",
   "metadata": {},
   "outputs": [],
   "source": [
    "marks_menu = marks.all_marks(url)"
   ]
  },
  {
   "cell_type": "markdown",
   "id": "b63ba5e0",
   "metadata": {},
   "source": [
    "Here we call the module **dataframe** in order to gather all info about cars into one dataframe"
   ]
  },
  {
   "cell_type": "code",
   "execution_count": 6,
   "id": "f2251b83",
   "metadata": {},
   "outputs": [],
   "source": [
    "df = dataframe.df_construct(marks_menu, cars, characteristics, prices, locations)"
   ]
  },
  {
   "cell_type": "code",
   "execution_count": 7,
   "id": "d62d4761",
   "metadata": {
    "scrolled": true
   },
   "outputs": [
    {
     "data": {
      "text/html": [
       "<div>\n",
       "<style scoped>\n",
       "    .dataframe tbody tr th:only-of-type {\n",
       "        vertical-align: middle;\n",
       "    }\n",
       "\n",
       "    .dataframe tbody tr th {\n",
       "        vertical-align: top;\n",
       "    }\n",
       "\n",
       "    .dataframe thead th {\n",
       "        text-align: right;\n",
       "    }\n",
       "</style>\n",
       "<table border=\"1\" class=\"dataframe\">\n",
       "  <thead>\n",
       "    <tr style=\"text-align: right;\">\n",
       "      <th></th>\n",
       "      <th>mark</th>\n",
       "      <th>model</th>\n",
       "      <th>mileage</th>\n",
       "      <th>transmission</th>\n",
       "      <th>registration</th>\n",
       "      <th>fuel</th>\n",
       "      <th>power</th>\n",
       "      <th>location</th>\n",
       "      <th>price</th>\n",
       "    </tr>\n",
       "  </thead>\n",
       "  <tbody>\n",
       "    <tr>\n",
       "      <th>0</th>\n",
       "      <td>Porsche</td>\n",
       "      <td>Panamera</td>\n",
       "      <td>79999</td>\n",
       "      <td>Automatic</td>\n",
       "      <td>04/2013</td>\n",
       "      <td>Gasoline</td>\n",
       "      <td>299</td>\n",
       "      <td>DE</td>\n",
       "      <td>37999</td>\n",
       "    </tr>\n",
       "    <tr>\n",
       "      <th>1</th>\n",
       "      <td>Audi</td>\n",
       "      <td>RS Q8</td>\n",
       "      <td>9000</td>\n",
       "      <td>Automatic</td>\n",
       "      <td>09/2021</td>\n",
       "      <td>Gasoline</td>\n",
       "      <td>740</td>\n",
       "      <td>BE</td>\n",
       "      <td>259740</td>\n",
       "    </tr>\n",
       "    <tr>\n",
       "      <th>2</th>\n",
       "      <td>Bentley</td>\n",
       "      <td>Continental GT</td>\n",
       "      <td>135000</td>\n",
       "      <td>Automatic</td>\n",
       "      <td>10/2004</td>\n",
       "      <td>Gasoline</td>\n",
       "      <td>559</td>\n",
       "      <td>BE</td>\n",
       "      <td>29950</td>\n",
       "    </tr>\n",
       "    <tr>\n",
       "      <th>3</th>\n",
       "      <td>BMW</td>\n",
       "      <td>120</td>\n",
       "      <td>108468</td>\n",
       "      <td>Automatic</td>\n",
       "      <td>07/2015</td>\n",
       "      <td>Diesel</td>\n",
       "      <td>163</td>\n",
       "      <td>BE</td>\n",
       "      <td>19750</td>\n",
       "    </tr>\n",
       "    <tr>\n",
       "      <th>4</th>\n",
       "      <td>Infiniti</td>\n",
       "      <td>QX70</td>\n",
       "      <td>188800</td>\n",
       "      <td>Automatic</td>\n",
       "      <td>10/2015</td>\n",
       "      <td>Diesel</td>\n",
       "      <td>238</td>\n",
       "      <td>DE</td>\n",
       "      <td>11890</td>\n",
       "    </tr>\n",
       "    <tr>\n",
       "      <th>...</th>\n",
       "      <td>...</td>\n",
       "      <td>...</td>\n",
       "      <td>...</td>\n",
       "      <td>...</td>\n",
       "      <td>...</td>\n",
       "      <td>...</td>\n",
       "      <td>...</td>\n",
       "      <td>...</td>\n",
       "      <td>...</td>\n",
       "    </tr>\n",
       "    <tr>\n",
       "      <th>395</th>\n",
       "      <td>Toyota</td>\n",
       "      <td>Land Cruiser</td>\n",
       "      <td>255000</td>\n",
       "      <td>Automatic</td>\n",
       "      <td>01/2004</td>\n",
       "      <td>Diesel</td>\n",
       "      <td>163</td>\n",
       "      <td>IT</td>\n",
       "      <td>13500</td>\n",
       "    </tr>\n",
       "    <tr>\n",
       "      <th>396</th>\n",
       "      <td>BMW</td>\n",
       "      <td>Z8</td>\n",
       "      <td>36900</td>\n",
       "      <td>Automatic</td>\n",
       "      <td>08/2003</td>\n",
       "      <td>Gasoline</td>\n",
       "      <td>381</td>\n",
       "      <td>DE</td>\n",
       "      <td>398000</td>\n",
       "    </tr>\n",
       "    <tr>\n",
       "      <th>397</th>\n",
       "      <td>DFSK</td>\n",
       "      <td>None</td>\n",
       "      <td>701</td>\n",
       "      <td>Automatic</td>\n",
       "      <td>10/2023</td>\n",
       "      <td>Gasoline</td>\n",
       "      <td>177</td>\n",
       "      <td>DE</td>\n",
       "      <td>31890</td>\n",
       "    </tr>\n",
       "    <tr>\n",
       "      <th>398</th>\n",
       "      <td>Mercedes-Benz</td>\n",
       "      <td>C 300</td>\n",
       "      <td>35123</td>\n",
       "      <td>Automatic</td>\n",
       "      <td>02/2023</td>\n",
       "      <td>Diesel</td>\n",
       "      <td>265</td>\n",
       "      <td>DE</td>\n",
       "      <td>52289</td>\n",
       "    </tr>\n",
       "    <tr>\n",
       "      <th>399</th>\n",
       "      <td>BMW</td>\n",
       "      <td>330</td>\n",
       "      <td>114980</td>\n",
       "      <td>Automatic</td>\n",
       "      <td>10/2019</td>\n",
       "      <td>Electric</td>\n",
       "      <td>184</td>\n",
       "      <td>DE</td>\n",
       "      <td>29990</td>\n",
       "    </tr>\n",
       "  </tbody>\n",
       "</table>\n",
       "<p>400 rows × 9 columns</p>\n",
       "</div>"
      ],
      "text/plain": [
       "              mark           model mileage transmission registration  \\\n",
       "0          Porsche        Panamera   79999    Automatic      04/2013   \n",
       "1             Audi           RS Q8    9000    Automatic      09/2021   \n",
       "2          Bentley  Continental GT  135000    Automatic      10/2004   \n",
       "3              BMW             120  108468    Automatic      07/2015   \n",
       "4         Infiniti            QX70  188800    Automatic      10/2015   \n",
       "..             ...             ...     ...          ...          ...   \n",
       "395         Toyota    Land Cruiser  255000    Automatic      01/2004   \n",
       "396            BMW              Z8   36900    Automatic      08/2003   \n",
       "397           DFSK            None     701    Automatic      10/2023   \n",
       "398  Mercedes-Benz           C 300   35123    Automatic      02/2023   \n",
       "399            BMW             330  114980    Automatic      10/2019   \n",
       "\n",
       "         fuel power location   price  \n",
       "0    Gasoline   299       DE   37999  \n",
       "1    Gasoline   740       BE  259740  \n",
       "2    Gasoline   559       BE   29950  \n",
       "3      Diesel   163       BE   19750  \n",
       "4      Diesel   238       DE   11890  \n",
       "..        ...   ...      ...     ...  \n",
       "395    Diesel   163       IT   13500  \n",
       "396  Gasoline   381       DE  398000  \n",
       "397  Gasoline   177       DE   31890  \n",
       "398    Diesel   265       DE   52289  \n",
       "399  Electric   184       DE   29990  \n",
       "\n",
       "[400 rows x 9 columns]"
      ]
     },
     "execution_count": 7,
     "metadata": {},
     "output_type": "execute_result"
    }
   ],
   "source": [
    "df"
   ]
  },
  {
   "cell_type": "markdown",
   "id": "38625587",
   "metadata": {},
   "source": [
    "## 3. Creating a SQL database and exporting parsed data there from the main pages"
   ]
  },
  {
   "cell_type": "markdown",
   "id": "a03db935",
   "metadata": {},
   "source": [
    "Here we connect to another module **sql_db**. This module connects to a PostgreSQL database *autoscout*. In this database there is a schema *autoscout* which contains the main table *cars*."
   ]
  },
  {
   "cell_type": "code",
   "execution_count": 8,
   "id": "ead021e3",
   "metadata": {},
   "outputs": [],
   "source": [
    "sql_db.connect(df,'replace')"
   ]
  },
  {
   "cell_type": "markdown",
   "id": "bc10d8fd",
   "metadata": {},
   "source": [
    "## 4. Acquring cars' information from the all the car dealers and storing into a SQL database"
   ]
  },
  {
   "cell_type": "code",
   "execution_count": null,
   "id": "a7de629e",
   "metadata": {},
   "outputs": [],
   "source": [
    "# Here we click on all dealer buttons from the main 20 pages and get URLs\n",
    "start = datetime.now()\n",
    "dealers = all_dealers.main(url)\n",
    "end = datetime.now()\n",
    "print('Total time :', end - start)"
   ]
  },
  {
   "cell_type": "code",
   "execution_count": null,
   "id": "12690739",
   "metadata": {},
   "outputs": [],
   "source": [
    "import all_urls"
   ]
  },
  {
   "cell_type": "code",
   "execution_count": null,
   "id": "f8dfcbca",
   "metadata": {},
   "outputs": [],
   "source": [
    "# Multithreading\n",
    "\n",
    "start = datetime.now()\n",
    "pages = all_urls.main(dealers)\n",
    "end = datetime.now()\n",
    "print('Total time :', end - start)"
   ]
  },
  {
   "cell_type": "code",
   "execution_count": 9,
   "id": "ec3026db",
   "metadata": {},
   "outputs": [],
   "source": [
    "pages_alt = ['https://www.autoscout24.com/lst?atype=C&cid=24363553&page=1&source=listpage_pagination',\n",
    " 'https://www.autoscout24.com/lst?atype=C&cid=24363553&page=2&source=listpage_pagination&search_id=gxrsmwbnl8&source=listpage_pagination',\n",
    " 'https://www.autoscout24.com/lst?atype=C&cid=24363553&page=3&source=listpage_pagination&search_id=gxrsmwbnl8&source=listpage_pagination',\n",
    " 'https://www.autoscout24.com/lst?atype=C&cid=24363553&page=4&source=listpage_pagination&search_id=gxrsmwbnl8&source=listpage_pagination',\n",
    " 'https://www.autoscout24.com/lst?atype=C&cid=24363553&page=5&source=listpage_pagination&search_id=gxrsmwbnl8&source=listpage_pagination',\n",
    " 'https://www.autoscout24.com/lst?atype=C&cid=24363553&page=6&source=listpage_pagination&search_id=gxrsmwbnl8&source=listpage_pagination',\n",
    " 'https://www.autoscout24.com/lst?atype=C&cid=24872232&page=1&source=listpage_pagination',\n",
    " 'https://www.autoscout24.com/lst?atype=C&cid=24872232&page=2&source=listpage_pagination&search_id=gxrsmwbnl8&source=listpage_pagination']"
   ]
  },
  {
   "cell_type": "code",
   "execution_count": 10,
   "id": "621e2f38",
   "metadata": {},
   "outputs": [],
   "source": [
    "import multi_parse"
   ]
  },
  {
   "cell_type": "code",
   "execution_count": 11,
   "id": "9a4b6d76",
   "metadata": {},
   "outputs": [
    {
     "name": "stdout",
     "output_type": "stream",
     "text": [
      "Total time : 0:00:01.131548\n"
     ]
    }
   ],
   "source": [
    "start = datetime.now()\n",
    "multi_parse.main(pages_alt, marks_menu)\n",
    "end = datetime.now()\n",
    "print('Total time :', end - start)"
   ]
  },
  {
   "cell_type": "code",
   "execution_count": null,
   "id": "80b0a90a",
   "metadata": {},
   "outputs": [],
   "source": [
    "import normal_parse"
   ]
  },
  {
   "cell_type": "code",
   "execution_count": 20,
   "id": "496d52f9",
   "metadata": {},
   "outputs": [
    {
     "name": "stdout",
     "output_type": "stream",
     "text": [
      "              mark               model mileage transmission registration  \\\n",
      "0       Volkswagen              Touran  240000       Manual      09/2011   \n",
      "1             Audi                  TT  125000    Automatic      04/2016   \n",
      "2              BMW                 530  200000    Automatic      07/2018   \n",
      "3          Hyundai                 i40  166938    Automatic      10/2015   \n",
      "4             Audi                  S3  186500    Automatic      08/2012   \n",
      "..             ...                 ...     ...          ...          ...   \n",
      "135  Mercedes-Benz               C 220  175000    Automatic      01/2012   \n",
      "136  Mercedes-Benz               E 220   85788    Automatic      10/2008   \n",
      "137     Land-Rover  Range Rover Evoque   97000    Automatic      06/2013   \n",
      "138           Fiat               Doblo   70000       Manual      11/2014   \n",
      "139        Citroen               Jumpy   69000       Manual      01/2021   \n",
      "\n",
      "         fuel power location  price  \n",
      "0      Diesel   140       DE   5799  \n",
      "1    Gasoline   179       DE  21499  \n",
      "2      Diesel   265       DE  22999  \n",
      "3      Diesel   141       DE  10999  \n",
      "4    Gasoline   265       DE  12499  \n",
      "..        ...   ...      ...    ...  \n",
      "135    Diesel   163       BE  12950  \n",
      "136    Diesel   163       BE   8500  \n",
      "137    Diesel   150       BE  17950  \n",
      "138    Diesel    90       BE   7450  \n",
      "139    Diesel   122       BE  22900  \n",
      "\n",
      "[140 rows x 9 columns]\n",
      "Total time : 0:00:07.960625\n"
     ]
    }
   ],
   "source": [
    "start = datetime.now()\n",
    "normal_parse.main(pages_alt, marks_menu)\n",
    "end = datetime.now()\n",
    "print('Total time :', end - start)"
   ]
  },
  {
   "cell_type": "code",
   "execution_count": null,
   "id": "c73b0c93",
   "metadata": {},
   "outputs": [],
   "source": [
    "start = datetime.now()\n",
    "\n",
    "for page in all_pages:\n",
    "    cars_scraper.parser(page, marks_menu)\n",
    "\n",
    "end = datetime.now()\n",
    "print('Total time :', end-start)"
   ]
  },
  {
   "cell_type": "markdown",
   "id": "d790a091",
   "metadata": {},
   "source": [
    "Total time :1:28:41.573803"
   ]
  },
  {
   "cell_type": "code",
   "execution_count": null,
   "id": "c25ae52b",
   "metadata": {},
   "outputs": [],
   "source": []
  }
 ],
 "metadata": {
  "hide_input": false,
  "kernelspec": {
   "display_name": "Python 3",
   "language": "python",
   "name": "python3"
  },
  "language_info": {
   "codemirror_mode": {
    "name": "ipython",
    "version": 3
   },
   "file_extension": ".py",
   "mimetype": "text/x-python",
   "name": "python",
   "nbconvert_exporter": "python",
   "pygments_lexer": "ipython3",
   "version": "3.8.8"
  }
 },
 "nbformat": 4,
 "nbformat_minor": 5
}

{
 "cells": [
  {
   "cell_type": "code",
   "execution_count": 1,
   "id": "52c2ef4e",
   "metadata": {},
   "outputs": [],
   "source": [
    "import requests\n",
    "from bs4 import BeautifulSoup\n",
    "import re"
   ]
  },
  {
   "cell_type": "code",
   "execution_count": 2,
   "id": "eb7ae84d",
   "metadata": {},
   "outputs": [],
   "source": [
    "url = 'https://www.autoscout24.com/lst?atype=C&desc=0&page=1&search_id=7ka6orz363&sort=standard&source=listpage_pagination&ustate=N%2CU'\n",
    "html = requests.get(url).text\n",
    "soup = BeautifulSoup(html, 'lxml')"
   ]
  },
  {
   "cell_type": "code",
   "execution_count": 3,
   "id": "28852abc",
   "metadata": {},
   "outputs": [],
   "source": [
    "#get the number of total pages on the web site\n",
    "def total_pages(soup):\n",
    "    divs = soup.find('div', attrs={'class':'ListPage_pagination__v_4ci'})\n",
    "    pages = divs.find_all('button', attrs={'class':'FilteredListPagination_button__41hHM'})[-2].text\n",
    "    total_pages = int(pages)\n",
    "    return total_pages"
   ]
  },
  {
   "cell_type": "code",
   "execution_count": 4,
   "id": "c9a73cea",
   "metadata": {},
   "outputs": [],
   "source": [
    "#get a dictionary of all URLs that lead to a specific page\n",
    "all_pages = {}\n",
    "for i in range(1, total_pages(soup) + 1):\n",
    "    url_parts = url.split('&')\n",
    "    url_parts[2] = f'page={i}'\n",
    "    url = '&'.join(url_parts)\n",
    "    all_pages[i]=url"
   ]
  },
  {
   "cell_type": "code",
   "execution_count": 5,
   "id": "9406f482",
   "metadata": {},
   "outputs": [],
   "source": [
    "#here we create a list of html codes as soup elements about all pages\n",
    "soups_list = []\n",
    "for k in all_pages:\n",
    "    soups_list.append(BeautifulSoup(requests.get(all_pages[k]).text, 'lxml'))"
   ]
  },
  {
   "cell_type": "code",
   "execution_count": 6,
   "id": "37fbd166",
   "metadata": {},
   "outputs": [],
   "source": [
    "cars = []\n",
    "characteristics = []\n",
    "prices = []\n",
    "for element in soups_list:\n",
    "    car = element.find_all('a',attrs={'class':'ListItem_title__znV2I ListItem_title_new_design__lYiAv Link_link__pjU1l'})\n",
    "    characters = element.find_all('div', attrs={'class':'VehicleDetailTable_container__mUUbY'})\n",
    "    price = element.find_all('p', attrs={'class':'Price_price__WZayw PriceAndSeals_current_price__XscDn'})\n",
    "    for c, char, pr in zip (car, characters, price):\n",
    "        cars.append(c.get_text())\n",
    "        characteristics.append(char.get_text())\n",
    "        prices.append(pr.get_text())"
   ]
  },
  {
   "cell_type": "code",
   "execution_count": 18,
   "id": "054cef8d",
   "metadata": {},
   "outputs": [],
   "source": [
    "for i in range(len(cars)):\n",
    "    cars[i] = cars[i].split('\\xa0')[0]"
   ]
  },
  {
   "cell_type": "code",
   "execution_count": 33,
   "id": "04ceda54",
   "metadata": {},
   "outputs": [],
   "source": [
    "for i in range(len(characteristics)):\n",
    "    patterns = [r'\\d{1,3}(?:,\\d{3})*\\s?km', r'Automatic|Manual', r'\\d{1,2}/\\d{4}', r'Diesel|Gasoline|Petrol|Electric', r'\\d{1,4}\\s?hp']\n",
    "    characteristics[i] = [re.search(pattern, characteristics[i]).group(0).replace(' km', '').strip() if re.search(pattern, characteristics[i]) else None for pattern in patterns]"
   ]
  },
  {
   "cell_type": "code",
   "execution_count": 39,
   "id": "2daf5368",
   "metadata": {},
   "outputs": [],
   "source": [
    "for i in range(len(prices)):\n",
    "    prices[i] = int(re.sub(r'\\D', '', prices[i]))"
   ]
  },
  {
   "cell_type": "code",
   "execution_count": null,
   "id": "0c353ab7",
   "metadata": {},
   "outputs": [],
   "source": []
  }
 ],
 "metadata": {
  "hide_input": false,
  "kernelspec": {
   "display_name": "Python 3",
   "language": "python",
   "name": "python3"
  },
  "language_info": {
   "codemirror_mode": {
    "name": "ipython",
    "version": 3
   },
   "file_extension": ".py",
   "mimetype": "text/x-python",
   "name": "python",
   "nbconvert_exporter": "python",
   "pygments_lexer": "ipython3",
   "version": "3.8.8"
  }
 },
 "nbformat": 4,
 "nbformat_minor": 5
}

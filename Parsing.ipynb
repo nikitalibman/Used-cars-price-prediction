{
 "cells": [
  {
   "cell_type": "code",
   "execution_count": 1,
   "id": "52c2ef4e",
   "metadata": {},
   "outputs": [],
   "source": [
    "import requests\n",
    "from bs4 import BeautifulSoup\n",
    "import re\n",
    "import pandas as pd\n",
    "from sqlalchemy import create_engine\n",
    "import sel_part"
   ]
  },
  {
   "cell_type": "code",
   "execution_count": 2,
   "id": "eb7ae84d",
   "metadata": {},
   "outputs": [],
   "source": [
    "url = 'https://www.autoscout24.com/lst?atype=C&desc=0&page=1&search_id=7ka6orz363&sort=standard&source=listpage_pagination&ustate=N%2CU'\n",
    "html = requests.get(url).text\n",
    "soup = BeautifulSoup(html, 'lxml')"
   ]
  },
  {
   "cell_type": "code",
   "execution_count": 3,
   "id": "14608b92",
   "metadata": {},
   "outputs": [
    {
     "data": {
      "text/plain": [
       "'https://www.autoscout24.com/lst?atype=C&cid=36602827'"
      ]
     },
     "execution_count": 3,
     "metadata": {},
     "output_type": "execute_result"
    }
   ],
   "source": [
    "cur_url = sel_part.sel_pars()\n",
    "cur_url"
   ]
  },
  {
   "cell_type": "code",
   "execution_count": null,
   "id": "28852abc",
   "metadata": {},
   "outputs": [],
   "source": [
    "#get the number of total pages on the web site\n",
    "def total_pages(soup):\n",
    "    divs = soup.find('div', attrs={'class':'ListPage_pagination__v_4ci'})\n",
    "    pages = divs.find_all('button', attrs={'class':'FilteredListPagination_button__41hHM'})[-2].text\n",
    "    total_pages = int(pages)\n",
    "    return total_pages"
   ]
  },
  {
   "cell_type": "code",
   "execution_count": null,
   "id": "c9a73cea",
   "metadata": {},
   "outputs": [],
   "source": [
    "#get a dictionary of all URLs that lead to a specific page\n",
    "all_pages = {}\n",
    "for i in range(1, total_pages(soup) + 1):\n",
    "    url_parts = url.split('&')\n",
    "    url_parts[2] = f'page={i}'\n",
    "    url = '&'.join(url_parts)\n",
    "    all_pages[i]=url"
   ]
  },
  {
   "cell_type": "code",
   "execution_count": null,
   "id": "9406f482",
   "metadata": {},
   "outputs": [],
   "source": [
    "#here we create a list of html codes as soup elements about all pages\n",
    "soups_list = []\n",
    "for k in all_pages:\n",
    "    soups_list.append(BeautifulSoup(requests.get(all_pages[k]).text, 'lxml'))"
   ]
  },
  {
   "cell_type": "code",
   "execution_count": null,
   "id": "026bd3a7",
   "metadata": {},
   "outputs": [],
   "source": [
    "# here we create blank lists to populate it later with cars' info\n",
    "cars = []\n",
    "characteristics = []\n",
    "prices = []\n",
    "locations = []\n",
    "\n",
    "#this function scraps over the website in order to extract specific information about each car (characteristics, prices etc)\n",
    "def parcing (tag, attr,df):\n",
    "    for element in soups_list:\n",
    "        info = element.find_all(tag, attrs={'class':attr})\n",
    "        for i in info:\n",
    "            df.append(i.get_text())\n",
    "    return df"
   ]
  },
  {
   "cell_type": "code",
   "execution_count": null,
   "id": "bdb12cfe",
   "metadata": {},
   "outputs": [],
   "source": [
    "#here we call the above mentioned function and populate our previously created lists\n",
    "cars = parcing('a', 'ListItem_title__znV2I ListItem_title_new_design__lYiAv Link_link__pjU1l', cars)\n",
    "characteristics = parcing('div', 'VehicleDetailTable_container__mUUbY', characteristics)\n",
    "prices = parcing('p', 'Price_price__WZayw PriceAndSeals_current_price__XscDn', prices)\n",
    "locations = parcing('span', 'SellerInfo_address__txoNV', locations)"
   ]
  },
  {
   "cell_type": "code",
   "execution_count": null,
   "id": "054cef8d",
   "metadata": {},
   "outputs": [],
   "source": [
    "#here we extract only car's mark and maodel\n",
    "for i in range(len(cars)):\n",
    "    cars[i] = cars[i].split('\\xa0')[0]"
   ]
  },
  {
   "cell_type": "code",
   "execution_count": null,
   "id": "aa1dcc1e",
   "metadata": {},
   "outputs": [],
   "source": [
    "fuel_types = ['Gasoline','Diesel','Ethanol','Electric','Hydrogen','LPG','CNG','Electric/Gasoline','Others',\n",
    "              'Electric/Diesel']\n",
    "fuel_pattern = '|'.join(fuel_types)\n",
    "gear = ['Automatic','Manual','Semi-automatic']\n",
    "gear_pattern = '|'.join(gear)"
   ]
  },
  {
   "cell_type": "code",
   "execution_count": null,
   "id": "04ceda54",
   "metadata": {},
   "outputs": [],
   "source": [
    "#here we extract specific patterns of each car characteristics. The initial text that was extracted from web scraping\n",
    "#contains too much unrelated data\n",
    "for i in range(len(characteristics)):\n",
    "    patterns = [r'\\d{1,3}(?:,\\d{3})*\\s?km', f'({gear_pattern})', r'\\d{1,2}/\\d{4}', f'({fuel_pattern})', r'\\d{1,4}\\s?hp']\n",
    "    characteristics[i] = [re.search(pattern, characteristics[i]).group(0).replace(',', '').replace(' km', '').replace(' hp', '').strip() if re.search(pattern, characteristics[i]) else None for pattern in patterns]"
   ]
  },
  {
   "cell_type": "code",
   "execution_count": null,
   "id": "2daf5368",
   "metadata": {},
   "outputs": [],
   "source": [
    "#here we extract integer from price text\n",
    "for i in range(len(prices)):\n",
    "    prices[i] = int(re.sub(r'\\D', '', prices[i]))"
   ]
  },
  {
   "cell_type": "code",
   "execution_count": null,
   "id": "b7770cc8",
   "metadata": {},
   "outputs": [],
   "source": [
    "#here we extract only country abbreveation\n",
    "for i in range(len(locations)):\n",
    "    try:\n",
    "        locations[i] = locations[i].split('• ')[1].split('-')[0]\n",
    "    except:\n",
    "        locations[i] = locations[i].split('-')[0]"
   ]
  },
  {
   "cell_type": "code",
   "execution_count": null,
   "id": "adcf1958",
   "metadata": {},
   "outputs": [],
   "source": [
    "c = pd.Series(cars, name='Car')"
   ]
  },
  {
   "cell_type": "code",
   "execution_count": null,
   "id": "185537a0",
   "metadata": {},
   "outputs": [],
   "source": [
    "ch = pd.Series(characteristics)"
   ]
  },
  {
   "cell_type": "code",
   "execution_count": null,
   "id": "3e275bbe",
   "metadata": {},
   "outputs": [],
   "source": [
    "p = pd.Series(prices, name='Price [€]')"
   ]
  },
  {
   "cell_type": "code",
   "execution_count": null,
   "id": "4cf81326",
   "metadata": {},
   "outputs": [],
   "source": [
    "l = pd.Series(locations, name='Location')"
   ]
  },
  {
   "cell_type": "code",
   "execution_count": null,
   "id": "79296e22",
   "metadata": {},
   "outputs": [],
   "source": [
    "# Create a DataFrame from the Series, which splits the lists into columns\n",
    "df = pd.DataFrame(ch.tolist(), columns=['Mileage [km]', 'Transmission', 'Registration [m/y]', 'Fuel', 'Power [hp]'])"
   ]
  },
  {
   "cell_type": "code",
   "execution_count": null,
   "id": "1a0d4df2",
   "metadata": {},
   "outputs": [],
   "source": [
    "try:\n",
    "    df['Mileage [km]'] = df['Mileage [km]'].astype('int')\n",
    "    df['Power [hp]'] = df['Power [hp]'].astype('int')\n",
    "except:\n",
    "    df['Power [hp]'] = df['Power [hp]'].fillna(0)\n",
    "    df['Power [hp]'] = df['Power [hp]'].astype('int')\n",
    "    df['Mileage [km]'] = df['Mileage [km]'].fillna(0)\n",
    "    df['Mileage [km]'] = df['Mileage [km]'].astype('int')"
   ]
  },
  {
   "cell_type": "code",
   "execution_count": null,
   "id": "e5709bc9",
   "metadata": {},
   "outputs": [],
   "source": [
    "merged_df = pd.concat([c, df], axis=1)"
   ]
  },
  {
   "cell_type": "code",
   "execution_count": null,
   "id": "5bb14f21",
   "metadata": {},
   "outputs": [],
   "source": [
    "merged_df2 = pd.concat([merged_df,l], axis=1)"
   ]
  },
  {
   "cell_type": "code",
   "execution_count": null,
   "id": "d112bd11",
   "metadata": {},
   "outputs": [],
   "source": [
    "merged_df3 = pd.concat([merged_df2,p], axis=1)"
   ]
  },
  {
   "cell_type": "code",
   "execution_count": null,
   "id": "6d5ffb94",
   "metadata": {},
   "outputs": [],
   "source": [
    "merged_df3"
   ]
  },
  {
   "cell_type": "code",
   "execution_count": null,
   "id": "09c49843",
   "metadata": {},
   "outputs": [],
   "source": [
    "merged_df3.info()"
   ]
  },
  {
   "cell_type": "code",
   "execution_count": null,
   "id": "0b3c0b0e",
   "metadata": {},
   "outputs": [],
   "source": [
    "#configurations to connect to a SQL database\n",
    "db_config = {\n",
    "    'user': 'postgres', \n",
    "    'pwd': 'austria011020',\n",
    "    'host': 'localhost',\n",
    "    'port': 5432,\n",
    "    'db': 'cars_small'\n",
    "} "
   ]
  },
  {
   "cell_type": "code",
   "execution_count": null,
   "id": "5059b90e",
   "metadata": {},
   "outputs": [],
   "source": [
    "connection_string = 'postgresql://{}:{}@{}:{}/{}'.format(\n",
    "    db_config['user'],\n",
    "    db_config['pwd'],\n",
    "    db_config['host'],\n",
    "    db_config['port'],\n",
    "    db_config['db'],\n",
    ")"
   ]
  },
  {
   "cell_type": "code",
   "execution_count": null,
   "id": "dc1b04ca",
   "metadata": {},
   "outputs": [],
   "source": [
    "engine = create_engine(connection_string)"
   ]
  },
  {
   "cell_type": "code",
   "execution_count": null,
   "id": "219acafd",
   "metadata": {},
   "outputs": [],
   "source": [
    "with engine.connect() as conn:\n",
    "    conn.execute('CREATE SCHEMA IF NOT EXISTS cars_small;')"
   ]
  },
  {
   "cell_type": "code",
   "execution_count": null,
   "id": "d0374db8",
   "metadata": {},
   "outputs": [],
   "source": [
    "with engine.connect() as conn:\n",
    "    merged_df3.to_sql(name='cars_info', schema='cars_small', con=conn, if_exists='replace', index=False)"
   ]
  },
  {
   "cell_type": "code",
   "execution_count": null,
   "id": "829c60c5",
   "metadata": {},
   "outputs": [],
   "source": [
    "https://www.autoscout24.com/lst?atype=C&cy=D&damaged_listing=exclude&desc=0&page=1&powertype=kw&search_id=1zuxygblmwh&sort=standard&source=listpage_pagination&ustate=N%2CU"
   ]
  },
  {
   "cell_type": "code",
   "execution_count": null,
   "id": "9402dcf3",
   "metadata": {},
   "outputs": [],
   "source": [
    "https://www.autoscout24.com/lst?atype=C&cy=A&damaged_listing=exclude&desc=0&ocs_listing=include&powertype=kw&search_id=8dtdva8dsg&sort=standard&source=listpage_pagination&ustate=N%2CU"
   ]
  },
  {
   "cell_type": "code",
   "execution_count": null,
   "id": "9be4cf08",
   "metadata": {},
   "outputs": [],
   "source": [
    "https://www.autoscout24.com/lst?atype=C&cy=B&damaged_listing=exclude&desc=0&ocs_listing=include&powertype=kw&search_id=xzvqpgg1qe&sort=standard&source=listpage_pagination&ustate=N%2CU"
   ]
  },
  {
   "cell_type": "code",
   "execution_count": null,
   "id": "6587f921",
   "metadata": {},
   "outputs": [],
   "source": [
    "https://www.autoscout24.com/lst?atype=C&desc=0&page=1&search_id=7ka6orz363&sort=standard&source=listpage_pagination&ustate=N%2CU"
   ]
  }
 ],
 "metadata": {
  "hide_input": false,
  "kernelspec": {
   "display_name": "Python 3",
   "language": "python",
   "name": "python3"
  },
  "language_info": {
   "codemirror_mode": {
    "name": "ipython",
    "version": 3
   },
   "file_extension": ".py",
   "mimetype": "text/x-python",
   "name": "python",
   "nbconvert_exporter": "python",
   "pygments_lexer": "ipython3",
   "version": "3.8.8"
  }
 },
 "nbformat": 4,
 "nbformat_minor": 5
}

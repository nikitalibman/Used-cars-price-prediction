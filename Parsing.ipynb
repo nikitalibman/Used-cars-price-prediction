{
 "cells": [
  {
   "cell_type": "code",
   "execution_count": 24,
   "id": "52c2ef4e",
   "metadata": {},
   "outputs": [],
   "source": [
    "import requests\n",
    "from bs4 import BeautifulSoup\n",
    "import re\n",
    "import pandas as pd"
   ]
  },
  {
   "cell_type": "code",
   "execution_count": 25,
   "id": "eb7ae84d",
   "metadata": {},
   "outputs": [],
   "source": [
    "url = 'https://www.autoscout24.com/lst?atype=C&desc=0&page=1&search_id=7ka6orz363&sort=standard&source=listpage_pagination&ustate=N%2CU'\n",
    "html = requests.get(url).text\n",
    "soup = BeautifulSoup(html, 'lxml')"
   ]
  },
  {
   "cell_type": "code",
   "execution_count": 26,
   "id": "28852abc",
   "metadata": {},
   "outputs": [],
   "source": [
    "#get the number of total pages on the web site\n",
    "def total_pages(soup):\n",
    "    divs = soup.find('div', attrs={'class':'ListPage_pagination__v_4ci'})\n",
    "    pages = divs.find_all('button', attrs={'class':'FilteredListPagination_button__41hHM'})[-2].text\n",
    "    total_pages = int(pages)\n",
    "    return total_pages"
   ]
  },
  {
   "cell_type": "code",
   "execution_count": 27,
   "id": "c9a73cea",
   "metadata": {},
   "outputs": [],
   "source": [
    "#get a dictionary of all URLs that lead to a specific page\n",
    "all_pages = {}\n",
    "for i in range(1, total_pages(soup) + 1):\n",
    "    url_parts = url.split('&')\n",
    "    url_parts[2] = f'page={i}'\n",
    "    url = '&'.join(url_parts)\n",
    "    all_pages[i]=url"
   ]
  },
  {
   "cell_type": "code",
   "execution_count": 28,
   "id": "9406f482",
   "metadata": {},
   "outputs": [],
   "source": [
    "#here we create a list of html codes as soup elements about all pages\n",
    "soups_list = []\n",
    "for k in all_pages:\n",
    "    soups_list.append(BeautifulSoup(requests.get(all_pages[k]).text, 'lxml'))"
   ]
  },
  {
   "cell_type": "code",
   "execution_count": 49,
   "id": "37fbd166",
   "metadata": {},
   "outputs": [],
   "source": [
    "cars = []\n",
    "characteristics = []\n",
    "prices = []\n",
    "locations = []\n",
    "for element in soups_list:\n",
    "    car = element.find_all('a',attrs={'class':'ListItem_title__znV2I ListItem_title_new_design__lYiAv Link_link__pjU1l'})\n",
    "    characters = element.find_all('div', attrs={'class':'VehicleDetailTable_container__mUUbY'})\n",
    "    price = element.find_all('p', attrs={'class':'Price_price__WZayw PriceAndSeals_current_price__XscDn'})\n",
    "    location = element.find_all('span', attrs={'class':'SellerInfo_address__txoNV'})\n",
    "    for c, char, pr, loc in zip (car, characters, price, location):\n",
    "        cars.append(c.get_text())\n",
    "        characteristics.append(char.get_text())\n",
    "        prices.append(pr.get_text())\n",
    "        locations.append(loc.get_text())"
   ]
  },
  {
   "cell_type": "code",
   "execution_count": 50,
   "id": "054cef8d",
   "metadata": {},
   "outputs": [],
   "source": [
    "for i in range(len(cars)):\n",
    "    cars[i] = cars[i].split('\\xa0')[0]"
   ]
  },
  {
   "cell_type": "code",
   "execution_count": 51,
   "id": "aa1dcc1e",
   "metadata": {},
   "outputs": [],
   "source": [
    "fuel_types = ['Gasoline','Diesel','Ethanol','Electric','Hydrogen','LPG','CNG','Electric/Gasoline','Others',\n",
    "              'Electric/Diesel']\n",
    "fuel_pattern = '|'.join(fuel_types)\n",
    "gear = ['Automatic','Manual','Semi-automatic']\n",
    "gear_pattern = '|'.join(gear)"
   ]
  },
  {
   "cell_type": "code",
   "execution_count": 52,
   "id": "04ceda54",
   "metadata": {},
   "outputs": [],
   "source": [
    "for i in range(len(characteristics)):\n",
    "    patterns = [r'\\d{1,3}(?:,\\d{3})*\\s?km', f'({gear_pattern})', r'\\d{1,2}/\\d{4}', f'({fuel_pattern})', r'\\d{1,4}\\s?hp']\n",
    "    characteristics[i] = [re.search(pattern, characteristics[i]).group(0).replace(',', '').replace(' km', '').replace(' hp', '').strip() if re.search(pattern, characteristics[i]) else None for pattern in patterns]"
   ]
  },
  {
   "cell_type": "code",
   "execution_count": 53,
   "id": "2daf5368",
   "metadata": {},
   "outputs": [],
   "source": [
    "for i in range(len(prices)):\n",
    "    prices[i] = int(re.sub(r'\\D', '', prices[i]))"
   ]
  },
  {
   "cell_type": "code",
   "execution_count": 54,
   "id": "b7770cc8",
   "metadata": {},
   "outputs": [],
   "source": [
    "for i in range(len(locations)):\n",
    "    try:\n",
    "        locations[i] = locations[i].split('• ')[1].split('-')[0]\n",
    "    except:\n",
    "        locations[i] = locations[i].split('-')[0]"
   ]
  },
  {
   "cell_type": "code",
   "execution_count": 55,
   "id": "adcf1958",
   "metadata": {},
   "outputs": [],
   "source": [
    "c = pd.Series(cars, name='Car')"
   ]
  },
  {
   "cell_type": "code",
   "execution_count": 56,
   "id": "185537a0",
   "metadata": {},
   "outputs": [],
   "source": [
    "ch = pd.Series(characteristics)"
   ]
  },
  {
   "cell_type": "code",
   "execution_count": 57,
   "id": "3e275bbe",
   "metadata": {},
   "outputs": [],
   "source": [
    "p = pd.Series(prices, name='Price [€]')"
   ]
  },
  {
   "cell_type": "code",
   "execution_count": 58,
   "id": "4cf81326",
   "metadata": {},
   "outputs": [],
   "source": [
    "l = pd.Series(locations, name='Location')"
   ]
  },
  {
   "cell_type": "code",
   "execution_count": 59,
   "id": "79296e22",
   "metadata": {},
   "outputs": [],
   "source": [
    "# Create a DataFrame from the Series, which splits the lists into columns\n",
    "df = pd.DataFrame(ch.tolist(), columns=['Mileage [km]', 'Transmission', 'Registration [m/y]', 'Fuel', 'Power [hp]'])"
   ]
  },
  {
   "cell_type": "code",
   "execution_count": 60,
   "id": "1a0d4df2",
   "metadata": {},
   "outputs": [],
   "source": [
    "df['Power [hp]'] = df['Power [hp]'].astype('int')\n",
    "try:\n",
    "    df['Mileage [km]'] = df['Mileage [km]'].astype('int')\n",
    "except:\n",
    "    df['Mileage [km]'] = df['Mileage [km]'].fillna(0)\n",
    "    df['Mileage [km]'] = df['Mileage [km]'].astype('int')"
   ]
  },
  {
   "cell_type": "code",
   "execution_count": 61,
   "id": "e5709bc9",
   "metadata": {},
   "outputs": [],
   "source": [
    "merged_df = pd.concat([c, df], axis=1)"
   ]
  },
  {
   "cell_type": "code",
   "execution_count": 62,
   "id": "5bb14f21",
   "metadata": {},
   "outputs": [],
   "source": [
    "merged_df2 = pd.concat([merged_df,l], axis=1)"
   ]
  },
  {
   "cell_type": "code",
   "execution_count": 63,
   "id": "d112bd11",
   "metadata": {},
   "outputs": [],
   "source": [
    "merged_df3 = pd.concat([merged_df2,p], axis=1)"
   ]
  },
  {
   "cell_type": "code",
   "execution_count": 64,
   "id": "6d5ffb94",
   "metadata": {},
   "outputs": [
    {
     "data": {
      "text/html": [
       "<div>\n",
       "<style scoped>\n",
       "    .dataframe tbody tr th:only-of-type {\n",
       "        vertical-align: middle;\n",
       "    }\n",
       "\n",
       "    .dataframe tbody tr th {\n",
       "        vertical-align: top;\n",
       "    }\n",
       "\n",
       "    .dataframe thead th {\n",
       "        text-align: right;\n",
       "    }\n",
       "</style>\n",
       "<table border=\"1\" class=\"dataframe\">\n",
       "  <thead>\n",
       "    <tr style=\"text-align: right;\">\n",
       "      <th></th>\n",
       "      <th>Car</th>\n",
       "      <th>Mileage [km]</th>\n",
       "      <th>Transmission</th>\n",
       "      <th>Registration [m/y]</th>\n",
       "      <th>Fuel</th>\n",
       "      <th>Power [hp]</th>\n",
       "      <th>Location</th>\n",
       "      <th>Price [€]</th>\n",
       "    </tr>\n",
       "  </thead>\n",
       "  <tbody>\n",
       "    <tr>\n",
       "      <th>0</th>\n",
       "      <td>Audi RS4</td>\n",
       "      <td>187004</td>\n",
       "      <td>Automatic</td>\n",
       "      <td>03/2010</td>\n",
       "      <td>Diesel</td>\n",
       "      <td>450</td>\n",
       "      <td>AT</td>\n",
       "      <td>14990</td>\n",
       "    </tr>\n",
       "    <tr>\n",
       "      <th>1</th>\n",
       "      <td>BMW X5</td>\n",
       "      <td>111000</td>\n",
       "      <td>Automatic</td>\n",
       "      <td>01/2020</td>\n",
       "      <td>Diesel</td>\n",
       "      <td>265</td>\n",
       "      <td>BE</td>\n",
       "      <td>53950</td>\n",
       "    </tr>\n",
       "    <tr>\n",
       "      <th>2</th>\n",
       "      <td>Alfa Romeo Stelvio</td>\n",
       "      <td>99276</td>\n",
       "      <td>Automatic</td>\n",
       "      <td>05/2017</td>\n",
       "      <td>Gasoline</td>\n",
       "      <td>280</td>\n",
       "      <td>BE</td>\n",
       "      <td>25995</td>\n",
       "    </tr>\n",
       "    <tr>\n",
       "      <th>3</th>\n",
       "      <td>BMW 530</td>\n",
       "      <td>270350</td>\n",
       "      <td>Automatic</td>\n",
       "      <td>02/2008</td>\n",
       "      <td>Diesel</td>\n",
       "      <td>235</td>\n",
       "      <td>DE</td>\n",
       "      <td>4990</td>\n",
       "    </tr>\n",
       "    <tr>\n",
       "      <th>4</th>\n",
       "      <td>Mercedes-Benz E 63 AMG</td>\n",
       "      <td>13200</td>\n",
       "      <td>Automatic</td>\n",
       "      <td>06/2021</td>\n",
       "      <td>Gasoline</td>\n",
       "      <td>612</td>\n",
       "      <td>DE</td>\n",
       "      <td>109850</td>\n",
       "    </tr>\n",
       "    <tr>\n",
       "      <th>...</th>\n",
       "      <td>...</td>\n",
       "      <td>...</td>\n",
       "      <td>...</td>\n",
       "      <td>...</td>\n",
       "      <td>...</td>\n",
       "      <td>...</td>\n",
       "      <td>...</td>\n",
       "      <td>...</td>\n",
       "    </tr>\n",
       "    <tr>\n",
       "      <th>395</th>\n",
       "      <td>Ford S-Max</td>\n",
       "      <td>10802</td>\n",
       "      <td>Automatic</td>\n",
       "      <td>04/2022</td>\n",
       "      <td>Electric</td>\n",
       "      <td>190</td>\n",
       "      <td>DE</td>\n",
       "      <td>39500</td>\n",
       "    </tr>\n",
       "    <tr>\n",
       "      <th>396</th>\n",
       "      <td>BMW M8</td>\n",
       "      <td>20000</td>\n",
       "      <td>Automatic</td>\n",
       "      <td>06/2021</td>\n",
       "      <td>Gasoline</td>\n",
       "      <td>625</td>\n",
       "      <td>DE</td>\n",
       "      <td>114900</td>\n",
       "    </tr>\n",
       "    <tr>\n",
       "      <th>397</th>\n",
       "      <td>Audi TT</td>\n",
       "      <td>5000</td>\n",
       "      <td>Automatic</td>\n",
       "      <td>05/2023</td>\n",
       "      <td>Gasoline</td>\n",
       "      <td>197</td>\n",
       "      <td>DE</td>\n",
       "      <td>48650</td>\n",
       "    </tr>\n",
       "    <tr>\n",
       "      <th>398</th>\n",
       "      <td>BMW 520</td>\n",
       "      <td>72260</td>\n",
       "      <td>Automatic</td>\n",
       "      <td>10/2019</td>\n",
       "      <td>Gasoline</td>\n",
       "      <td>163</td>\n",
       "      <td>BE</td>\n",
       "      <td>30990</td>\n",
       "    </tr>\n",
       "    <tr>\n",
       "      <th>399</th>\n",
       "      <td>Audi Q2</td>\n",
       "      <td>35000</td>\n",
       "      <td>Manual</td>\n",
       "      <td>01/2022</td>\n",
       "      <td>Diesel</td>\n",
       "      <td>116</td>\n",
       "      <td>BE</td>\n",
       "      <td>27990</td>\n",
       "    </tr>\n",
       "  </tbody>\n",
       "</table>\n",
       "<p>400 rows × 8 columns</p>\n",
       "</div>"
      ],
      "text/plain": [
       "                        Car  Mileage [km] Transmission Registration [m/y]  \\\n",
       "0                  Audi RS4        187004    Automatic            03/2010   \n",
       "1                    BMW X5        111000    Automatic            01/2020   \n",
       "2        Alfa Romeo Stelvio         99276    Automatic            05/2017   \n",
       "3                   BMW 530        270350    Automatic            02/2008   \n",
       "4    Mercedes-Benz E 63 AMG         13200    Automatic            06/2021   \n",
       "..                      ...           ...          ...                ...   \n",
       "395              Ford S-Max         10802    Automatic            04/2022   \n",
       "396                  BMW M8         20000    Automatic            06/2021   \n",
       "397                 Audi TT          5000    Automatic            05/2023   \n",
       "398                 BMW 520         72260    Automatic            10/2019   \n",
       "399                 Audi Q2         35000       Manual            01/2022   \n",
       "\n",
       "         Fuel  Power [hp] Location  Price [€]  \n",
       "0      Diesel         450       AT      14990  \n",
       "1      Diesel         265       BE      53950  \n",
       "2    Gasoline         280       BE      25995  \n",
       "3      Diesel         235       DE       4990  \n",
       "4    Gasoline         612       DE     109850  \n",
       "..        ...         ...      ...        ...  \n",
       "395  Electric         190       DE      39500  \n",
       "396  Gasoline         625       DE     114900  \n",
       "397  Gasoline         197       DE      48650  \n",
       "398  Gasoline         163       BE      30990  \n",
       "399    Diesel         116       BE      27990  \n",
       "\n",
       "[400 rows x 8 columns]"
      ]
     },
     "execution_count": 64,
     "metadata": {},
     "output_type": "execute_result"
    }
   ],
   "source": [
    "merged_df3"
   ]
  },
  {
   "cell_type": "code",
   "execution_count": 48,
   "id": "09c49843",
   "metadata": {},
   "outputs": [
    {
     "name": "stdout",
     "output_type": "stream",
     "text": [
      "<class 'pandas.core.frame.DataFrame'>\n",
      "RangeIndex: 400 entries, 0 to 399\n",
      "Data columns (total 8 columns):\n",
      " #   Column              Non-Null Count  Dtype \n",
      "---  ------              --------------  ----- \n",
      " 0   Car                 400 non-null    object\n",
      " 1   Mileage [km]        400 non-null    int32 \n",
      " 2   Transmission        399 non-null    object\n",
      " 3   Registration [m/y]  358 non-null    object\n",
      " 4   Fuel                399 non-null    object\n",
      " 5   Power [hp]          400 non-null    int32 \n",
      " 6   Location            400 non-null    object\n",
      " 7   Price [€]           400 non-null    int64 \n",
      "dtypes: int32(2), int64(1), object(5)\n",
      "memory usage: 22.0+ KB\n"
     ]
    }
   ],
   "source": [
    "merged_df3.info()"
   ]
  },
  {
   "cell_type": "code",
   "execution_count": null,
   "id": "9402dcf3",
   "metadata": {},
   "outputs": [],
   "source": [
    "https://www.autoscout24.com/lst?atype=C&cy=A&damaged_listing=exclude&desc=0&ocs_listing=include&powertype=kw&search_id=8dtdva8dsg&sort=standard&source=listpage_pagination&ustate=N%2CU"
   ]
  },
  {
   "cell_type": "code",
   "execution_count": null,
   "id": "9be4cf08",
   "metadata": {},
   "outputs": [],
   "source": [
    "https://www.autoscout24.com/lst?atype=C&cy=B&damaged_listing=exclude&desc=0&ocs_listing=include&powertype=kw&search_id=xzvqpgg1qe&sort=standard&source=listpage_pagination&ustate=N%2CU"
   ]
  }
 ],
 "metadata": {
  "hide_input": false,
  "kernelspec": {
   "display_name": "Python 3",
   "language": "python",
   "name": "python3"
  },
  "language_info": {
   "codemirror_mode": {
    "name": "ipython",
    "version": 3
   },
   "file_extension": ".py",
   "mimetype": "text/x-python",
   "name": "python",
   "nbconvert_exporter": "python",
   "pygments_lexer": "ipython3",
   "version": "3.8.8"
  }
 },
 "nbformat": 4,
 "nbformat_minor": 5
}

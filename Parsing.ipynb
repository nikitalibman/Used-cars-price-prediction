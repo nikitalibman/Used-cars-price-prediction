{
 "cells": [
  {
   "cell_type": "code",
   "execution_count": 1,
   "id": "52c2ef4e",
   "metadata": {},
   "outputs": [],
   "source": [
    "import requests\n",
    "from bs4 import BeautifulSoup\n",
    "import re\n",
    "import pandas as pd\n",
    "from sqlalchemy import create_engine"
   ]
  },
  {
   "cell_type": "code",
   "execution_count": 2,
   "id": "eb7ae84d",
   "metadata": {},
   "outputs": [],
   "source": [
    "url = 'https://www.autoscout24.com/lst?atype=C&desc=0&page=1&search_id=7ka6orz363&sort=standard&source=listpage_pagination&ustate=N%2CU'\n",
    "html = requests.get(url).text\n",
    "soup = BeautifulSoup(html, 'lxml')"
   ]
  },
  {
   "cell_type": "code",
   "execution_count": 3,
   "id": "28852abc",
   "metadata": {},
   "outputs": [],
   "source": [
    "#get the number of total pages on the web site\n",
    "def total_pages(soup):\n",
    "    divs = soup.find('div', attrs={'class':'ListPage_pagination__v_4ci'})\n",
    "    pages = divs.find_all('button', attrs={'class':'FilteredListPagination_button__41hHM'})[-2].text\n",
    "    total_pages = int(pages)\n",
    "    return total_pages"
   ]
  },
  {
   "cell_type": "code",
   "execution_count": 4,
   "id": "c9a73cea",
   "metadata": {},
   "outputs": [],
   "source": [
    "#get a dictionary of all URLs that lead to a specific page\n",
    "all_pages = {}\n",
    "for i in range(1, total_pages(soup) + 1):\n",
    "    url_parts = url.split('&')\n",
    "    url_parts[2] = f'page={i}'\n",
    "    url = '&'.join(url_parts)\n",
    "    all_pages[i]=url"
   ]
  },
  {
   "cell_type": "code",
   "execution_count": 5,
   "id": "9406f482",
   "metadata": {},
   "outputs": [],
   "source": [
    "#here we create a list of html codes as soup elements about all pages\n",
    "soups_list = []\n",
    "for k in all_pages:\n",
    "    soups_list.append(BeautifulSoup(requests.get(all_pages[k]).text, 'lxml'))"
   ]
  },
  {
   "cell_type": "code",
   "execution_count": 31,
   "id": "026bd3a7",
   "metadata": {},
   "outputs": [],
   "source": [
    "# here we create blank lists to populate it later with cars' info\n",
    "cars = []\n",
    "characteristics = []\n",
    "prices = []\n",
    "locations = []\n",
    "\n",
    "#this function scraps over the website in order to extract specific information about each car (characteristics, prices etc)\n",
    "def parcing (tag, attr,df):\n",
    "    for element in soups_list:\n",
    "        info = element.find_all(tag, attrs={'class':attr})\n",
    "        for i in info:\n",
    "            df.append(i.get_text())\n",
    "    return df"
   ]
  },
  {
   "cell_type": "code",
   "execution_count": 32,
   "id": "bdb12cfe",
   "metadata": {},
   "outputs": [],
   "source": [
    "#here we call the above mentioned function and populate our previously created lists\n",
    "cars = parcing('a', 'ListItem_title__znV2I ListItem_title_new_design__lYiAv Link_link__pjU1l', cars)\n",
    "characteristics = parcing('div', 'VehicleDetailTable_container__mUUbY', characteristics)\n",
    "prices = parcing('p', 'Price_price__WZayw PriceAndSeals_current_price__XscDn', prices)\n",
    "locations = parcing('span', 'SellerInfo_address__txoNV', locations)"
   ]
  },
  {
   "cell_type": "code",
   "execution_count": 33,
   "id": "054cef8d",
   "metadata": {},
   "outputs": [],
   "source": [
    "#here we extract only car's mark and maodel\n",
    "for i in range(len(cars)):\n",
    "    cars[i] = cars[i].split('\\xa0')[0]"
   ]
  },
  {
   "cell_type": "code",
   "execution_count": 34,
   "id": "aa1dcc1e",
   "metadata": {},
   "outputs": [],
   "source": [
    "fuel_types = ['Gasoline','Diesel','Ethanol','Electric','Hydrogen','LPG','CNG','Electric/Gasoline','Others',\n",
    "              'Electric/Diesel']\n",
    "fuel_pattern = '|'.join(fuel_types)\n",
    "gear = ['Automatic','Manual','Semi-automatic']\n",
    "gear_pattern = '|'.join(gear)"
   ]
  },
  {
   "cell_type": "code",
   "execution_count": 35,
   "id": "04ceda54",
   "metadata": {},
   "outputs": [],
   "source": [
    "#here we extract specific patterns of each car characteristics. The initial text that was extracted from web scraping\n",
    "#contains too much unrelated data\n",
    "for i in range(len(characteristics)):\n",
    "    patterns = [r'\\d{1,3}(?:,\\d{3})*\\s?km', f'({gear_pattern})', r'\\d{1,2}/\\d{4}', f'({fuel_pattern})', r'\\d{1,4}\\s?hp']\n",
    "    characteristics[i] = [re.search(pattern, characteristics[i]).group(0).replace(',', '').replace(' km', '').replace(' hp', '').strip() if re.search(pattern, characteristics[i]) else None for pattern in patterns]"
   ]
  },
  {
   "cell_type": "code",
   "execution_count": 36,
   "id": "2daf5368",
   "metadata": {},
   "outputs": [],
   "source": [
    "#here we extract integer from price text\n",
    "for i in range(len(prices)):\n",
    "    prices[i] = int(re.sub(r'\\D', '', prices[i]))"
   ]
  },
  {
   "cell_type": "code",
   "execution_count": 37,
   "id": "b7770cc8",
   "metadata": {},
   "outputs": [],
   "source": [
    "#here we extract only country abbreveation\n",
    "for i in range(len(locations)):\n",
    "    try:\n",
    "        locations[i] = locations[i].split('• ')[1].split('-')[0]\n",
    "    except:\n",
    "        locations[i] = locations[i].split('-')[0]"
   ]
  },
  {
   "cell_type": "code",
   "execution_count": 13,
   "id": "adcf1958",
   "metadata": {},
   "outputs": [],
   "source": [
    "c = pd.Series(cars, name='Car')"
   ]
  },
  {
   "cell_type": "code",
   "execution_count": 14,
   "id": "185537a0",
   "metadata": {},
   "outputs": [],
   "source": [
    "ch = pd.Series(characteristics)"
   ]
  },
  {
   "cell_type": "code",
   "execution_count": 15,
   "id": "3e275bbe",
   "metadata": {},
   "outputs": [],
   "source": [
    "p = pd.Series(prices, name='Price [€]')"
   ]
  },
  {
   "cell_type": "code",
   "execution_count": 16,
   "id": "4cf81326",
   "metadata": {},
   "outputs": [],
   "source": [
    "l = pd.Series(locations, name='Location')"
   ]
  },
  {
   "cell_type": "code",
   "execution_count": 17,
   "id": "79296e22",
   "metadata": {},
   "outputs": [],
   "source": [
    "# Create a DataFrame from the Series, which splits the lists into columns\n",
    "df = pd.DataFrame(ch.tolist(), columns=['Mileage [km]', 'Transmission', 'Registration [m/y]', 'Fuel', 'Power [hp]'])"
   ]
  },
  {
   "cell_type": "code",
   "execution_count": 18,
   "id": "1a0d4df2",
   "metadata": {},
   "outputs": [],
   "source": [
    "try:\n",
    "    df['Mileage [km]'] = df['Mileage [km]'].astype('int')\n",
    "    df['Power [hp]'] = df['Power [hp]'].astype('int')\n",
    "except:\n",
    "    df['Power [hp]'] = df['Power [hp]'].fillna(0)\n",
    "    df['Power [hp]'] = df['Power [hp]'].astype('int')\n",
    "    df['Mileage [km]'] = df['Mileage [km]'].fillna(0)\n",
    "    df['Mileage [km]'] = df['Mileage [km]'].astype('int')"
   ]
  },
  {
   "cell_type": "code",
   "execution_count": 19,
   "id": "e5709bc9",
   "metadata": {},
   "outputs": [],
   "source": [
    "merged_df = pd.concat([c, df], axis=1)"
   ]
  },
  {
   "cell_type": "code",
   "execution_count": 20,
   "id": "5bb14f21",
   "metadata": {},
   "outputs": [],
   "source": [
    "merged_df2 = pd.concat([merged_df,l], axis=1)"
   ]
  },
  {
   "cell_type": "code",
   "execution_count": 21,
   "id": "d112bd11",
   "metadata": {},
   "outputs": [],
   "source": [
    "merged_df3 = pd.concat([merged_df2,p], axis=1)"
   ]
  },
  {
   "cell_type": "code",
   "execution_count": 22,
   "id": "6d5ffb94",
   "metadata": {},
   "outputs": [
    {
     "data": {
      "text/html": [
       "<div>\n",
       "<style scoped>\n",
       "    .dataframe tbody tr th:only-of-type {\n",
       "        vertical-align: middle;\n",
       "    }\n",
       "\n",
       "    .dataframe tbody tr th {\n",
       "        vertical-align: top;\n",
       "    }\n",
       "\n",
       "    .dataframe thead th {\n",
       "        text-align: right;\n",
       "    }\n",
       "</style>\n",
       "<table border=\"1\" class=\"dataframe\">\n",
       "  <thead>\n",
       "    <tr style=\"text-align: right;\">\n",
       "      <th></th>\n",
       "      <th>Car</th>\n",
       "      <th>Mileage [km]</th>\n",
       "      <th>Transmission</th>\n",
       "      <th>Registration [m/y]</th>\n",
       "      <th>Fuel</th>\n",
       "      <th>Power [hp]</th>\n",
       "      <th>Location</th>\n",
       "      <th>Price [€]</th>\n",
       "    </tr>\n",
       "  </thead>\n",
       "  <tbody>\n",
       "    <tr>\n",
       "      <th>0</th>\n",
       "      <td>McLaren 765LT Coupe</td>\n",
       "      <td>26</td>\n",
       "      <td>Automatic</td>\n",
       "      <td>04/2021</td>\n",
       "      <td>Gasoline</td>\n",
       "      <td>765</td>\n",
       "      <td>AT</td>\n",
       "      <td>759990</td>\n",
       "    </tr>\n",
       "    <tr>\n",
       "      <th>1</th>\n",
       "      <td>Audi A3</td>\n",
       "      <td>171000</td>\n",
       "      <td>Automatic</td>\n",
       "      <td>05/2016</td>\n",
       "      <td>CNG</td>\n",
       "      <td>110</td>\n",
       "      <td>BE</td>\n",
       "      <td>12950</td>\n",
       "    </tr>\n",
       "    <tr>\n",
       "      <th>2</th>\n",
       "      <td>Porsche 911</td>\n",
       "      <td>13812</td>\n",
       "      <td>Automatic</td>\n",
       "      <td>04/2018</td>\n",
       "      <td>Gasoline</td>\n",
       "      <td>700</td>\n",
       "      <td>DE</td>\n",
       "      <td>429900</td>\n",
       "    </tr>\n",
       "    <tr>\n",
       "      <th>3</th>\n",
       "      <td>Porsche 991</td>\n",
       "      <td>13812</td>\n",
       "      <td>Automatic</td>\n",
       "      <td>04/2018</td>\n",
       "      <td>Gasoline</td>\n",
       "      <td>700</td>\n",
       "      <td>DE</td>\n",
       "      <td>429900</td>\n",
       "    </tr>\n",
       "    <tr>\n",
       "      <th>4</th>\n",
       "      <td>Cupra Leon</td>\n",
       "      <td>4080</td>\n",
       "      <td>Automatic</td>\n",
       "      <td>08/2021</td>\n",
       "      <td>Electric</td>\n",
       "      <td>245</td>\n",
       "      <td>DE</td>\n",
       "      <td>27980</td>\n",
       "    </tr>\n",
       "    <tr>\n",
       "      <th>...</th>\n",
       "      <td>...</td>\n",
       "      <td>...</td>\n",
       "      <td>...</td>\n",
       "      <td>...</td>\n",
       "      <td>...</td>\n",
       "      <td>...</td>\n",
       "      <td>...</td>\n",
       "      <td>...</td>\n",
       "    </tr>\n",
       "    <tr>\n",
       "      <th>392</th>\n",
       "      <td>Mercedes-Benz B 170</td>\n",
       "      <td>169899</td>\n",
       "      <td>Automatic</td>\n",
       "      <td>01/2009</td>\n",
       "      <td>Gasoline</td>\n",
       "      <td>116</td>\n",
       "      <td>BE</td>\n",
       "      <td>7480</td>\n",
       "    </tr>\n",
       "    <tr>\n",
       "      <th>393</th>\n",
       "      <td>BMW 745</td>\n",
       "      <td>84523</td>\n",
       "      <td>Automatic</td>\n",
       "      <td>06/2019</td>\n",
       "      <td>Electric</td>\n",
       "      <td>394</td>\n",
       "      <td>DE</td>\n",
       "      <td>58499</td>\n",
       "    </tr>\n",
       "    <tr>\n",
       "      <th>394</th>\n",
       "      <td>Peugeot 5008</td>\n",
       "      <td>4</td>\n",
       "      <td>Automatic</td>\n",
       "      <td>02/2023</td>\n",
       "      <td>Gasoline</td>\n",
       "      <td>181</td>\n",
       "      <td>DE</td>\n",
       "      <td>42988</td>\n",
       "    </tr>\n",
       "    <tr>\n",
       "      <th>395</th>\n",
       "      <td>Skoda Kodiaq</td>\n",
       "      <td>10</td>\n",
       "      <td>Automatic</td>\n",
       "      <td>09/2023</td>\n",
       "      <td>Gasoline</td>\n",
       "      <td>150</td>\n",
       "      <td>DE</td>\n",
       "      <td>34890</td>\n",
       "    </tr>\n",
       "    <tr>\n",
       "      <th>396</th>\n",
       "      <td>Skoda Kodiaq</td>\n",
       "      <td>10</td>\n",
       "      <td>Automatic</td>\n",
       "      <td>09/2023</td>\n",
       "      <td>Gasoline</td>\n",
       "      <td>150</td>\n",
       "      <td>DE</td>\n",
       "      <td>34890</td>\n",
       "    </tr>\n",
       "  </tbody>\n",
       "</table>\n",
       "<p>397 rows × 8 columns</p>\n",
       "</div>"
      ],
      "text/plain": [
       "                     Car  Mileage [km] Transmission Registration [m/y]  \\\n",
       "0    McLaren 765LT Coupe            26    Automatic            04/2021   \n",
       "1                Audi A3        171000    Automatic            05/2016   \n",
       "2            Porsche 911         13812    Automatic            04/2018   \n",
       "3            Porsche 991         13812    Automatic            04/2018   \n",
       "4             Cupra Leon          4080    Automatic            08/2021   \n",
       "..                   ...           ...          ...                ...   \n",
       "392  Mercedes-Benz B 170        169899    Automatic            01/2009   \n",
       "393              BMW 745         84523    Automatic            06/2019   \n",
       "394         Peugeot 5008             4    Automatic            02/2023   \n",
       "395         Skoda Kodiaq            10    Automatic            09/2023   \n",
       "396         Skoda Kodiaq            10    Automatic            09/2023   \n",
       "\n",
       "         Fuel  Power [hp] Location  Price [€]  \n",
       "0    Gasoline         765       AT     759990  \n",
       "1         CNG         110       BE      12950  \n",
       "2    Gasoline         700       DE     429900  \n",
       "3    Gasoline         700       DE     429900  \n",
       "4    Electric         245       DE      27980  \n",
       "..        ...         ...      ...        ...  \n",
       "392  Gasoline         116       BE       7480  \n",
       "393  Electric         394       DE      58499  \n",
       "394  Gasoline         181       DE      42988  \n",
       "395  Gasoline         150       DE      34890  \n",
       "396  Gasoline         150       DE      34890  \n",
       "\n",
       "[397 rows x 8 columns]"
      ]
     },
     "execution_count": 22,
     "metadata": {},
     "output_type": "execute_result"
    }
   ],
   "source": [
    "merged_df3"
   ]
  },
  {
   "cell_type": "code",
   "execution_count": 23,
   "id": "09c49843",
   "metadata": {},
   "outputs": [
    {
     "name": "stdout",
     "output_type": "stream",
     "text": [
      "<class 'pandas.core.frame.DataFrame'>\n",
      "RangeIndex: 397 entries, 0 to 396\n",
      "Data columns (total 8 columns):\n",
      " #   Column              Non-Null Count  Dtype \n",
      "---  ------              --------------  ----- \n",
      " 0   Car                 397 non-null    object\n",
      " 1   Mileage [km]        397 non-null    int32 \n",
      " 2   Transmission        397 non-null    object\n",
      " 3   Registration [m/y]  363 non-null    object\n",
      " 4   Fuel                396 non-null    object\n",
      " 5   Power [hp]          397 non-null    int32 \n",
      " 6   Location            397 non-null    object\n",
      " 7   Price [€]           397 non-null    int64 \n",
      "dtypes: int32(2), int64(1), object(5)\n",
      "memory usage: 21.8+ KB\n"
     ]
    }
   ],
   "source": [
    "merged_df3.info()"
   ]
  },
  {
   "cell_type": "code",
   "execution_count": 24,
   "id": "0b3c0b0e",
   "metadata": {},
   "outputs": [],
   "source": [
    "#configurations to connect to a SQL database\n",
    "db_config = {\n",
    "    'user': 'postgres', \n",
    "    'pwd': 'austria011020',\n",
    "    'host': 'localhost',\n",
    "    'port': 5432,\n",
    "    'db': 'cars_small'\n",
    "} "
   ]
  },
  {
   "cell_type": "code",
   "execution_count": 25,
   "id": "5059b90e",
   "metadata": {},
   "outputs": [],
   "source": [
    "connection_string = 'postgresql://{}:{}@{}:{}/{}'.format(\n",
    "    db_config['user'],\n",
    "    db_config['pwd'],\n",
    "    db_config['host'],\n",
    "    db_config['port'],\n",
    "    db_config['db'],\n",
    ")"
   ]
  },
  {
   "cell_type": "code",
   "execution_count": 26,
   "id": "dc1b04ca",
   "metadata": {},
   "outputs": [],
   "source": [
    "engine = create_engine(connection_string)"
   ]
  },
  {
   "cell_type": "code",
   "execution_count": 29,
   "id": "219acafd",
   "metadata": {},
   "outputs": [],
   "source": [
    "with engine.connect() as conn:\n",
    "    conn.execute('CREATE SCHEMA IF NOT EXISTS cars_small;')"
   ]
  },
  {
   "cell_type": "code",
   "execution_count": 30,
   "id": "d0374db8",
   "metadata": {},
   "outputs": [],
   "source": [
    "with engine.connect() as conn:\n",
    "    merged_df3.to_sql(name='cars_info', schema='cars_small', con=conn, if_exists='replace', index=False)"
   ]
  },
  {
   "cell_type": "code",
   "execution_count": null,
   "id": "829c60c5",
   "metadata": {},
   "outputs": [],
   "source": [
    "https://www.autoscout24.com/lst?atype=C&cy=D&damaged_listing=exclude&desc=0&page=1&powertype=kw&search_id=1zuxygblmwh&sort=standard&source=listpage_pagination&ustate=N%2CU"
   ]
  },
  {
   "cell_type": "code",
   "execution_count": null,
   "id": "9402dcf3",
   "metadata": {},
   "outputs": [],
   "source": [
    "https://www.autoscout24.com/lst?atype=C&cy=A&damaged_listing=exclude&desc=0&ocs_listing=include&powertype=kw&search_id=8dtdva8dsg&sort=standard&source=listpage_pagination&ustate=N%2CU"
   ]
  },
  {
   "cell_type": "code",
   "execution_count": null,
   "id": "9be4cf08",
   "metadata": {},
   "outputs": [],
   "source": [
    "https://www.autoscout24.com/lst?atype=C&cy=B&damaged_listing=exclude&desc=0&ocs_listing=include&powertype=kw&search_id=xzvqpgg1qe&sort=standard&source=listpage_pagination&ustate=N%2CU"
   ]
  },
  {
   "cell_type": "code",
   "execution_count": null,
   "id": "6587f921",
   "metadata": {},
   "outputs": [],
   "source": [
    "https://www.autoscout24.com/lst?atype=C&desc=0&page=1&search_id=7ka6orz363&sort=standard&source=listpage_pagination&ustate=N%2CU"
   ]
  }
 ],
 "metadata": {
  "hide_input": false,
  "kernelspec": {
   "display_name": "Python 3",
   "language": "python",
   "name": "python3"
  },
  "language_info": {
   "codemirror_mode": {
    "name": "ipython",
    "version": 3
   },
   "file_extension": ".py",
   "mimetype": "text/x-python",
   "name": "python",
   "nbconvert_exporter": "python",
   "pygments_lexer": "ipython3",
   "version": "3.8.8"
  }
 },
 "nbformat": 4,
 "nbformat_minor": 5
}

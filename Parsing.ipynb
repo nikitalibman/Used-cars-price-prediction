{
 "cells": [
  {
   "cell_type": "markdown",
   "id": "929c58c9",
   "metadata": {},
   "source": [
    "# Scope of work\n",
    "\n",
    "1) Import all necessary libraries and modules.  \n",
    "2) First we need to obtain inforamtion about all available cars from the first main pages.  \n",
    "3) Then we will call module dealers_cars to acquire links to every dealer's list of cars from all main pages.  \n",
    "4) Now we will repeat the same procedure as in the 1st step but to the every dealer's cars list.  \n",
    "5) Load all gathered information into a SQL database"
   ]
  },
  {
   "cell_type": "markdown",
   "id": "ecd9134c",
   "metadata": {},
   "source": [
    "## 1. Imort of libraries and modules"
   ]
  },
  {
   "cell_type": "code",
   "execution_count": 1,
   "id": "6c89e1c1",
   "metadata": {},
   "outputs": [],
   "source": [
    "import requests\n",
    "from bs4 import BeautifulSoup\n",
    "import re\n",
    "import pandas as pd\n",
    "from sqlalchemy import create_engine\n",
    "import dealers_cars"
   ]
  },
  {
   "cell_type": "markdown",
   "id": "19db7745",
   "metadata": {},
   "source": [
    "## 2. Acquring cars' information from the first main pages"
   ]
  },
  {
   "cell_type": "code",
   "execution_count": 2,
   "id": "866b7212",
   "metadata": {},
   "outputs": [],
   "source": [
    "# Here we provide URL to the very first main page."
   ]
  },
  {
   "cell_type": "code",
   "execution_count": 3,
   "id": "eb7ae84d",
   "metadata": {},
   "outputs": [],
   "source": [
    "url = 'https://www.autoscout24.com/lst?atype=C&desc=0&sort=standard&source=homepage_search-mask&ustate=N%2CU'\n",
    "html = requests.get(url).text\n",
    "soup = BeautifulSoup(html, 'lxml')"
   ]
  },
  {
   "cell_type": "code",
   "execution_count": 4,
   "id": "4d398e11",
   "metadata": {},
   "outputs": [],
   "source": [
    "#get the number of total pages on the web site\n",
    "def total_pages(soup):\n",
    "    divs = soup.find('div', attrs={'class':'ListPage_pagination__v_4ci'})\n",
    "    pages = divs.find_all('button', attrs={'class':'FilteredListPagination_button__41hHM'})[-2].text\n",
    "    total_pages = int(pages)\n",
    "    return total_pages"
   ]
  },
  {
   "cell_type": "code",
   "execution_count": 5,
   "id": "c9a73cea",
   "metadata": {},
   "outputs": [],
   "source": [
    "#get a dictionary of all URLs from every main page\n",
    "all_pages = {}\n",
    "for i in range(1, total_pages(soup) + 1):\n",
    "    url_parts = url.split('&')\n",
    "    url_parts[2] = f'page={i}'\n",
    "    url = '&'.join(url_parts)\n",
    "    all_pages[i]=url"
   ]
  },
  {
   "cell_type": "code",
   "execution_count": 6,
   "id": "9406f482",
   "metadata": {},
   "outputs": [],
   "source": [
    "#here we create a list of html codes as soup elements about all pages\n",
    "soups_list = []\n",
    "for k in all_pages:\n",
    "    soups_list.append(BeautifulSoup(requests.get(all_pages[k]).text, 'lxml'))"
   ]
  },
  {
   "cell_type": "code",
   "execution_count": 7,
   "id": "026bd3a7",
   "metadata": {},
   "outputs": [],
   "source": [
    "# here we create blank lists to populate it later with cars' info\n",
    "cars = []\n",
    "characteristics = []\n",
    "prices = []\n",
    "locations = []\n",
    "\n",
    "#this function scraps over the website in order to extract specific information about each car (characteristics, prices etc)\n",
    "def parcing (tag, attr,df):\n",
    "    for element in soups_list:\n",
    "        info = element.find_all(tag, attrs={'class':attr})\n",
    "        for i in info:\n",
    "            df.append(i.get_text())\n",
    "    return df"
   ]
  },
  {
   "cell_type": "code",
   "execution_count": 8,
   "id": "bdb12cfe",
   "metadata": {},
   "outputs": [],
   "source": [
    "#here we call the above mentioned function and populate our previously created lists\n",
    "cars = parcing('a', 'ListItem_title__znV2I ListItem_title_new_design__lYiAv Link_link__pjU1l', cars)\n",
    "characteristics = parcing('div', 'VehicleDetailTable_container__mUUbY', characteristics)\n",
    "prices = parcing('p', 'Price_price__WZayw PriceAndSeals_current_price__XscDn', prices)\n",
    "locations = parcing('span', 'SellerInfo_address__txoNV', locations)"
   ]
  },
  {
   "cell_type": "code",
   "execution_count": 9,
   "id": "054cef8d",
   "metadata": {},
   "outputs": [],
   "source": [
    "#here we extract only car's mark and maodel\n",
    "for i in range(len(cars)):\n",
    "    cars[i] = cars[i].split('\\xa0')[0]"
   ]
  },
  {
   "cell_type": "code",
   "execution_count": 10,
   "id": "aa1dcc1e",
   "metadata": {},
   "outputs": [],
   "source": [
    "fuel_types = ['Gasoline','Diesel','Ethanol','Electric','Hydrogen','LPG','CNG','Electric/Gasoline','Others',\n",
    "              'Electric/Diesel']\n",
    "fuel_pattern = '|'.join(fuel_types)\n",
    "gear = ['Automatic','Manual','Semi-automatic']\n",
    "gear_pattern = '|'.join(gear)"
   ]
  },
  {
   "cell_type": "code",
   "execution_count": 11,
   "id": "04ceda54",
   "metadata": {},
   "outputs": [],
   "source": [
    "#here we extract specific patterns of each car characteristics. The initial text that was extracted from web scraping\n",
    "#contains too much unrelated data\n",
    "for i in range(len(characteristics)):\n",
    "    patterns = [r'\\d{1,3}(?:,\\d{3})*\\s?km', f'({gear_pattern})', r'\\d{1,2}/\\d{4}', f'({fuel_pattern})', r'\\d{1,4}\\s?hp']\n",
    "    characteristics[i] = [re.search(pattern, characteristics[i]).group(0).replace(',', '').replace(' km', '').replace(' hp', '').strip() if re.search(pattern, characteristics[i]) else None for pattern in patterns]"
   ]
  },
  {
   "cell_type": "code",
   "execution_count": 12,
   "id": "2daf5368",
   "metadata": {},
   "outputs": [],
   "source": [
    "#here we extract integer from price text\n",
    "for i in range(len(prices)):\n",
    "    prices[i] = int(re.sub(r'\\D', '', prices[i]))"
   ]
  },
  {
   "cell_type": "code",
   "execution_count": 13,
   "id": "b7770cc8",
   "metadata": {},
   "outputs": [],
   "source": [
    "#here we extract only country abbreveation\n",
    "for i in range(len(locations)):\n",
    "    try:\n",
    "        locations[i] = locations[i].split('• ')[1].split('-')[0]\n",
    "    except:\n",
    "        locations[i] = locations[i].split('-')[0]"
   ]
  },
  {
   "cell_type": "code",
   "execution_count": 14,
   "id": "adcf1958",
   "metadata": {},
   "outputs": [],
   "source": [
    "#Here we transform our lists into pandas Series\n",
    "c = pd.Series(cars, name='Car')\n",
    "ch = pd.Series(characteristics)\n",
    "p = pd.Series(prices, name='Price [€]')\n",
    "l = pd.Series(locations, name='Location')"
   ]
  },
  {
   "cell_type": "code",
   "execution_count": 15,
   "id": "79296e22",
   "metadata": {},
   "outputs": [],
   "source": [
    "# Create a DataFrame from the Series, which splits the lists into columns\n",
    "df = pd.DataFrame(ch.tolist(), columns=['Mileage [km]', 'Transmission', 'Registration [m/y]', 'Fuel', 'Power [hp]'])"
   ]
  },
  {
   "cell_type": "code",
   "execution_count": 16,
   "id": "1a0d4df2",
   "metadata": {},
   "outputs": [],
   "source": [
    "#Here we change data types of Mileage and Power to integers\n",
    "try:\n",
    "    df['Mileage [km]'] = df['Mileage [km]'].astype('int')\n",
    "    df['Power [hp]'] = df['Power [hp]'].astype('int')\n",
    "except:\n",
    "    df['Power [hp]'] = df['Power [hp]'].fillna(0)\n",
    "    df['Power [hp]'] = df['Power [hp]'].astype('int')\n",
    "    df['Mileage [km]'] = df['Mileage [km]'].fillna(0)\n",
    "    df['Mileage [km]'] = df['Mileage [km]'].astype('int')"
   ]
  },
  {
   "cell_type": "code",
   "execution_count": 17,
   "id": "e5709bc9",
   "metadata": {},
   "outputs": [],
   "source": [
    "merged_df = pd.concat([c, df], axis=1)\n",
    "merged_df2 = pd.concat([merged_df,l], axis=1)\n",
    "main_pages_info = pd.concat([merged_df2,p], axis=1)"
   ]
  },
  {
   "cell_type": "code",
   "execution_count": 18,
   "id": "6d5ffb94",
   "metadata": {},
   "outputs": [
    {
     "data": {
      "text/html": [
       "<div>\n",
       "<style scoped>\n",
       "    .dataframe tbody tr th:only-of-type {\n",
       "        vertical-align: middle;\n",
       "    }\n",
       "\n",
       "    .dataframe tbody tr th {\n",
       "        vertical-align: top;\n",
       "    }\n",
       "\n",
       "    .dataframe thead th {\n",
       "        text-align: right;\n",
       "    }\n",
       "</style>\n",
       "<table border=\"1\" class=\"dataframe\">\n",
       "  <thead>\n",
       "    <tr style=\"text-align: right;\">\n",
       "      <th></th>\n",
       "      <th>Car</th>\n",
       "      <th>Mileage [km]</th>\n",
       "      <th>Transmission</th>\n",
       "      <th>Registration [m/y]</th>\n",
       "      <th>Fuel</th>\n",
       "      <th>Power [hp]</th>\n",
       "      <th>Location</th>\n",
       "      <th>Price [€]</th>\n",
       "    </tr>\n",
       "  </thead>\n",
       "  <tbody>\n",
       "    <tr>\n",
       "      <th>0</th>\n",
       "      <td>Porsche 911</td>\n",
       "      <td>2480</td>\n",
       "      <td>Automatic</td>\n",
       "      <td>07/2019</td>\n",
       "      <td>Gasoline</td>\n",
       "      <td>700</td>\n",
       "      <td>AT</td>\n",
       "      <td>569990</td>\n",
       "    </tr>\n",
       "    <tr>\n",
       "      <th>1</th>\n",
       "      <td>Audi Q7</td>\n",
       "      <td>260000</td>\n",
       "      <td>Automatic</td>\n",
       "      <td>10/2014</td>\n",
       "      <td>Diesel</td>\n",
       "      <td>245</td>\n",
       "      <td>BE</td>\n",
       "      <td>18950</td>\n",
       "    </tr>\n",
       "    <tr>\n",
       "      <th>2</th>\n",
       "      <td>Audi A3</td>\n",
       "      <td>99000</td>\n",
       "      <td>Manual</td>\n",
       "      <td>08/2018</td>\n",
       "      <td>Gasoline</td>\n",
       "      <td>150</td>\n",
       "      <td>BE</td>\n",
       "      <td>17500</td>\n",
       "    </tr>\n",
       "    <tr>\n",
       "      <th>3</th>\n",
       "      <td>Jaguar F-Pace</td>\n",
       "      <td>150964</td>\n",
       "      <td>Automatic</td>\n",
       "      <td>11/2016</td>\n",
       "      <td>Gasoline</td>\n",
       "      <td>340</td>\n",
       "      <td>BE</td>\n",
       "      <td>22990</td>\n",
       "    </tr>\n",
       "    <tr>\n",
       "      <th>4</th>\n",
       "      <td>Mercedes-Benz ML 250</td>\n",
       "      <td>130000</td>\n",
       "      <td>Automatic</td>\n",
       "      <td>10/2014</td>\n",
       "      <td>Diesel</td>\n",
       "      <td>204</td>\n",
       "      <td>BE</td>\n",
       "      <td>22950</td>\n",
       "    </tr>\n",
       "    <tr>\n",
       "      <th>...</th>\n",
       "      <td>...</td>\n",
       "      <td>...</td>\n",
       "      <td>...</td>\n",
       "      <td>...</td>\n",
       "      <td>...</td>\n",
       "      <td>...</td>\n",
       "      <td>...</td>\n",
       "      <td>...</td>\n",
       "    </tr>\n",
       "    <tr>\n",
       "      <th>395</th>\n",
       "      <td>Cupra Leon</td>\n",
       "      <td>20915</td>\n",
       "      <td>Automatic</td>\n",
       "      <td>07/2021</td>\n",
       "      <td>Electric</td>\n",
       "      <td>245</td>\n",
       "      <td>DE</td>\n",
       "      <td>26430</td>\n",
       "    </tr>\n",
       "    <tr>\n",
       "      <th>396</th>\n",
       "      <td>Mercedes-Benz E 53 AMG</td>\n",
       "      <td>68351</td>\n",
       "      <td>Automatic</td>\n",
       "      <td>03/2020</td>\n",
       "      <td>Gasoline</td>\n",
       "      <td>435</td>\n",
       "      <td>DE</td>\n",
       "      <td>67660</td>\n",
       "    </tr>\n",
       "    <tr>\n",
       "      <th>397</th>\n",
       "      <td>Skoda Fabia</td>\n",
       "      <td>57911</td>\n",
       "      <td>Manual</td>\n",
       "      <td>08/2018</td>\n",
       "      <td>Gasoline</td>\n",
       "      <td>95</td>\n",
       "      <td>BE</td>\n",
       "      <td>10990</td>\n",
       "    </tr>\n",
       "    <tr>\n",
       "      <th>398</th>\n",
       "      <td>BMW i4</td>\n",
       "      <td>24899</td>\n",
       "      <td>Automatic</td>\n",
       "      <td>12/2021</td>\n",
       "      <td>Electric</td>\n",
       "      <td>544</td>\n",
       "      <td>DE</td>\n",
       "      <td>79240</td>\n",
       "    </tr>\n",
       "    <tr>\n",
       "      <th>399</th>\n",
       "      <td>Skoda Enyaq</td>\n",
       "      <td>37000</td>\n",
       "      <td>Automatic</td>\n",
       "      <td>10/2021</td>\n",
       "      <td>Electric</td>\n",
       "      <td>204</td>\n",
       "      <td>DE</td>\n",
       "      <td>42990</td>\n",
       "    </tr>\n",
       "  </tbody>\n",
       "</table>\n",
       "<p>400 rows × 8 columns</p>\n",
       "</div>"
      ],
      "text/plain": [
       "                        Car  Mileage [km] Transmission Registration [m/y]  \\\n",
       "0               Porsche 911          2480    Automatic            07/2019   \n",
       "1                   Audi Q7        260000    Automatic            10/2014   \n",
       "2                   Audi A3         99000       Manual            08/2018   \n",
       "3             Jaguar F-Pace        150964    Automatic            11/2016   \n",
       "4      Mercedes-Benz ML 250        130000    Automatic            10/2014   \n",
       "..                      ...           ...          ...                ...   \n",
       "395              Cupra Leon         20915    Automatic            07/2021   \n",
       "396  Mercedes-Benz E 53 AMG         68351    Automatic            03/2020   \n",
       "397             Skoda Fabia         57911       Manual            08/2018   \n",
       "398                  BMW i4         24899    Automatic            12/2021   \n",
       "399             Skoda Enyaq         37000    Automatic            10/2021   \n",
       "\n",
       "         Fuel  Power [hp] Location  Price [€]  \n",
       "0    Gasoline         700       AT     569990  \n",
       "1      Diesel         245       BE      18950  \n",
       "2    Gasoline         150       BE      17500  \n",
       "3    Gasoline         340       BE      22990  \n",
       "4      Diesel         204       BE      22950  \n",
       "..        ...         ...      ...        ...  \n",
       "395  Electric         245       DE      26430  \n",
       "396  Gasoline         435       DE      67660  \n",
       "397  Gasoline          95       BE      10990  \n",
       "398  Electric         544       DE      79240  \n",
       "399  Electric         204       DE      42990  \n",
       "\n",
       "[400 rows x 8 columns]"
      ]
     },
     "execution_count": 18,
     "metadata": {},
     "output_type": "execute_result"
    }
   ],
   "source": [
    "main_pages_info"
   ]
  },
  {
   "cell_type": "markdown",
   "id": "38625587",
   "metadata": {},
   "source": [
    "## Exporting parsed data to a SQL database"
   ]
  },
  {
   "cell_type": "code",
   "execution_count": 26,
   "id": "0b3c0b0e",
   "metadata": {},
   "outputs": [],
   "source": [
    "#configurations to connect to a SQL database\n",
    "db_config = {\n",
    "    'user': 'postgres', \n",
    "    'pwd': 'austria011020',\n",
    "    'host': 'localhost',\n",
    "    'port': 5432,\n",
    "    'db': 'cars_small'\n",
    "} "
   ]
  },
  {
   "cell_type": "code",
   "execution_count": 27,
   "id": "5059b90e",
   "metadata": {},
   "outputs": [],
   "source": [
    "connection_string = 'postgresql://{}:{}@{}:{}/{}'.format(\n",
    "    db_config['user'],\n",
    "    db_config['pwd'],\n",
    "    db_config['host'],\n",
    "    db_config['port'],\n",
    "    db_config['db'],\n",
    ")"
   ]
  },
  {
   "cell_type": "code",
   "execution_count": 28,
   "id": "dc1b04ca",
   "metadata": {},
   "outputs": [],
   "source": [
    "engine = create_engine(connection_string)"
   ]
  },
  {
   "cell_type": "code",
   "execution_count": 29,
   "id": "219acafd",
   "metadata": {},
   "outputs": [],
   "source": [
    "with engine.connect() as conn:\n",
    "    conn.execute('CREATE SCHEMA IF NOT EXISTS cars_small;')"
   ]
  },
  {
   "cell_type": "code",
   "execution_count": 30,
   "id": "d0374db8",
   "metadata": {},
   "outputs": [],
   "source": [
    "with engine.connect() as conn:\n",
    "    main_pages_info.to_sql(name='cars_info', con=conn, if_exists='replace', index=False)"
   ]
  },
  {
   "cell_type": "markdown",
   "id": "2b54d2b1",
   "metadata": {},
   "source": [
    "## 2. Acquiring links to every dealer's list of cars from all main pages."
   ]
  },
  {
   "cell_type": "code",
   "execution_count": 24,
   "id": "9b4b81fb",
   "metadata": {},
   "outputs": [],
   "source": [
    "# We call the module dealers_cars and assign the URL from the first main page\n",
    "dealers_cars_list = dealers_cars.sel_pars(url)"
   ]
  },
  {
   "cell_type": "code",
   "execution_count": 25,
   "id": "7ac43cb5",
   "metadata": {},
   "outputs": [
    {
     "data": {
      "text/plain": [
       "['https://www.autoscout24.com/lst?atype=C&cid=5711',\n",
       " 'https://www.autoscout24.com/lst?atype=C&cid=14789017',\n",
       " 'https://www.autoscout24.com/lst?atype=C&cid=2364489',\n",
       " 'https://www.autoscout24.com/lst?atype=C&cid=6934',\n",
       " 'https://www.autoscout24.com/lst?atype=C&cid=15950',\n",
       " 'https://www.autoscout24.com/lst?atype=C&cid=17172',\n",
       " 'https://www.autoscout24.com/lst?atype=C&cid=20825',\n",
       " 'https://www.autoscout24.com/lst?atype=C&cid=15250937',\n",
       " 'https://www.autoscout24.com/lst?atype=C&cid=17700',\n",
       " 'https://www.autoscout24.com/lst?atype=C&cid=4488',\n",
       " 'https://www.autoscout24.com/lst?atype=C&cid=5525',\n",
       " 'https://www.autoscout24.com/lst?atype=C&cid=5349679',\n",
       " 'https://www.autoscout24.com/lst?atype=C&cid=5401905',\n",
       " 'https://www.autoscout24.com/lst?atype=C&cid=4172834',\n",
       " 'https://www.autoscout24.com/lst?atype=C&cid=34568',\n",
       " 'https://www.autoscout24.com/lst?atype=C&cid=16391',\n",
       " 'https://www.autoscout24.com/lst?atype=C&cid=15966',\n",
       " 'https://www.autoscout24.com/lst?atype=C&cid=31057295',\n",
       " 'https://www.autoscout24.com/lst?atype=C&cid=17172',\n",
       " 'https://www.autoscout24.com/lst?atype=C&cid=5525']"
      ]
     },
     "execution_count": 25,
     "metadata": {},
     "output_type": "execute_result"
    }
   ],
   "source": [
    "dealers_cars_list"
   ]
  },
  {
   "cell_type": "code",
   "execution_count": null,
   "id": "cd59119c",
   "metadata": {},
   "outputs": [],
   "source": []
  }
 ],
 "metadata": {
  "hide_input": false,
  "kernelspec": {
   "display_name": "Python 3",
   "language": "python",
   "name": "python3"
  },
  "language_info": {
   "codemirror_mode": {
    "name": "ipython",
    "version": 3
   },
   "file_extension": ".py",
   "mimetype": "text/x-python",
   "name": "python",
   "nbconvert_exporter": "python",
   "pygments_lexer": "ipython3",
   "version": "3.8.8"
  }
 },
 "nbformat": 4,
 "nbformat_minor": 5
}

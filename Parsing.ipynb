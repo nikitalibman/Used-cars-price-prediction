{
 "cells": [
  {
   "cell_type": "markdown",
   "id": "929c58c9",
   "metadata": {},
   "source": [
    "# Scope of work\n",
    "\n",
    "1) Import all necessary libraries and modules.  \n",
    "2) First we need to obtain inforamtion about all available cars from the first main pages.  \n",
    "3) Create a SQL database and export there gathered info about cars from the main pages.  \n",
    "4) Then we will call module dealers_cars to acquire links to every dealer's list of cars from all main pages.  \n",
    "5) Now we will repeat the same procedure as in the 1st step but to the every dealer's cars list.  \n",
    "6) Add extracted data to a created SQL database"
   ]
  },
  {
   "cell_type": "markdown",
   "id": "ecd9134c",
   "metadata": {},
   "source": [
    "## 1. Imort of libraries and modules"
   ]
  },
  {
   "cell_type": "code",
   "execution_count": 1,
   "id": "6c89e1c1",
   "metadata": {},
   "outputs": [],
   "source": [
    "import requests\n",
    "from bs4 import BeautifulSoup\n",
    "import re\n",
    "import pandas as pd\n",
    "from sqlalchemy import create_engine\n",
    "import json\n",
    "import dealers_cars\n",
    "import marks"
   ]
  },
  {
   "cell_type": "markdown",
   "id": "19db7745",
   "metadata": {},
   "source": [
    "## 2. Acquring cars' information from the first main pages"
   ]
  },
  {
   "cell_type": "code",
   "execution_count": 2,
   "id": "866b7212",
   "metadata": {},
   "outputs": [],
   "source": [
    "# Here we provide URL to the very first main page."
   ]
  },
  {
   "cell_type": "code",
   "execution_count": 3,
   "id": "eb7ae84d",
   "metadata": {},
   "outputs": [],
   "source": [
    "url = 'https://www.autoscout24.com/lst?atype=C&desc=0&sort=standard&source=homepage_search-mask&ustate=N%2CU'\n",
    "html = requests.get(url).text\n",
    "soup = BeautifulSoup(html, 'lxml')"
   ]
  },
  {
   "cell_type": "code",
   "execution_count": 4,
   "id": "4d398e11",
   "metadata": {},
   "outputs": [],
   "source": [
    "#get the number of total pages on the web site\n",
    "def total_pages(soup):\n",
    "    divs = soup.find('div', attrs={'class':'ListPage_pagination__v_4ci'})\n",
    "    pages = divs.find_all('button', attrs={'class':'FilteredListPagination_button__41hHM'})[-2].text\n",
    "    total_pages = int(pages)\n",
    "    return total_pages"
   ]
  },
  {
   "cell_type": "code",
   "execution_count": 5,
   "id": "c9a73cea",
   "metadata": {},
   "outputs": [],
   "source": [
    "#get a dictionary of all URLs from every main page\n",
    "def pages_urls(url):\n",
    "    all_pages = {}\n",
    "    for i in range(1, total_pages(soup) + 1):\n",
    "        url_parts = url.split('&')\n",
    "        url_parts[2] = f'page={i}'\n",
    "        url = '&'.join(url_parts)\n",
    "        all_pages[i]=url\n",
    "    return all_pages\n",
    "\n",
    "all_pages=pages_urls(url)"
   ]
  },
  {
   "cell_type": "code",
   "execution_count": 6,
   "id": "9406f482",
   "metadata": {},
   "outputs": [],
   "source": [
    "#here we create a list of html codes as soup elements about all pages\n",
    "def html_list():\n",
    "    soups_list = []\n",
    "    for k in all_pages:\n",
    "        soups_list.append(BeautifulSoup(requests.get(all_pages[k]).text, 'lxml'))\n",
    "    return soups_list\n",
    "\n",
    "soups_list = html_list()"
   ]
  },
  {
   "cell_type": "code",
   "execution_count": 7,
   "id": "026bd3a7",
   "metadata": {},
   "outputs": [],
   "source": [
    "# here we create blank lists to populate it later with cars' info\n",
    "cars = []\n",
    "characteristics = []\n",
    "prices = []\n",
    "locations = []\n",
    "\n",
    "#this function scraps over the website in order to extract specific information about each car (characteristics, prices etc)\n",
    "def parcing (tag, attr, df):\n",
    "    for element in soups_list:\n",
    "        info = element.find_all(tag, attrs={'class':attr})\n",
    "        for i in info:\n",
    "            df.append(i.get_text())\n",
    "    return df"
   ]
  },
  {
   "cell_type": "code",
   "execution_count": 8,
   "id": "0ea2e2ce",
   "metadata": {},
   "outputs": [],
   "source": [
    "#this function populate previously created blank lists with cars' info\n",
    "def info():\n",
    "    c = parcing('a', 'ListItem_title__znV2I ListItem_title_new_design__lYiAv Link_link__pjU1l', cars)\n",
    "    ch = parcing('div', 'VehicleDetailTable_container__mUUbY', characteristics)\n",
    "    p = parcing('p', 'Price_price__WZayw PriceAndSeals_current_price__XscDn', prices)\n",
    "    l = parcing('span', 'SellerInfo_address__txoNV', locations)\n",
    "    return c, ch, p, l"
   ]
  },
  {
   "cell_type": "code",
   "execution_count": 9,
   "id": "53231b1f",
   "metadata": {},
   "outputs": [],
   "source": [
    "cars, characteristics, prices, locations = info()"
   ]
  },
  {
   "cell_type": "markdown",
   "id": "c20abffe",
   "metadata": {},
   "source": [
    "r'\\d{1,4}\\s?hp'"
   ]
  },
  {
   "cell_type": "code",
   "execution_count": 10,
   "id": "5033a4a8",
   "metadata": {},
   "outputs": [],
   "source": [
    "def formating():\n",
    "    #here we extract only car's mark and maodel\n",
    "    for i in range(len(cars)):\n",
    "        cars[i] = cars[i].split('\\xa0')[0]\n",
    "    fuel_types = ['Gasoline','Diesel','Ethanol','Electric','Hydrogen','LPG','CNG','Electric/Gasoline','Others',\n",
    "              'Electric/Diesel']\n",
    "    fuel_pattern = '|'.join(fuel_types)\n",
    "    gear = ['Automatic','Manual','Semi-automatic']\n",
    "    gear_pattern = '|'.join(gear)\n",
    "    #here we extract specific patterns of each car characteristics. The initial text that was extracted from web scraping\n",
    "    #contains too much unrelated data\n",
    "    for i in range(len(characteristics)):\n",
    "        patterns = [r'\\d{1,3}(?:,\\d{3})*\\s?km', f'({gear_pattern})', r'\\d{1,2}/\\d{4}', f'({fuel_pattern})', r'(\\d{1,3}(?:,\\d{3})*) hp']\n",
    "        characteristics[i] = [re.search(pattern, characteristics[i]).group(0).replace(',', '').replace(' km', '')\n",
    "                              .replace(' hp', '').strip() if re.search(pattern, characteristics[i])\n",
    "                              else None for pattern in patterns]\n",
    "    #here we extract integer from price text\n",
    "    for i in range(len(prices)):\n",
    "        prices[i] = int(re.sub(r'\\D', '', prices[i]))\n",
    "        \n",
    "    #here we extract only country abbreveation\n",
    "    for i in range(len(locations)):\n",
    "        try:\n",
    "            locations[i] = locations[i].split('• ')[1].split('-')[0]\n",
    "        except:\n",
    "            locations[i] = locations[i].split('-')[0]\n",
    "            \n",
    "    return cars, characteristics, prices, locations\n",
    "\n",
    "cars, characteristics, prices, locations = formating()"
   ]
  },
  {
   "cell_type": "markdown",
   "id": "69d04635",
   "metadata": {},
   "source": [
    "Here we call a module **marks** in order to extract all existing car marks from the website. Afterwards we will replace\n",
    "spaces in marks' names into dashes '-'"
   ]
  },
  {
   "cell_type": "code",
   "execution_count": 11,
   "id": "4f173641",
   "metadata": {},
   "outputs": [],
   "source": [
    "marks_menu = marks.all_marks(url)"
   ]
  },
  {
   "cell_type": "code",
   "execution_count": 12,
   "id": "f0c639c3",
   "metadata": {},
   "outputs": [],
   "source": [
    "space_names = []\n",
    "for mark in marks_menu:\n",
    "    if ' ' in mark:\n",
    "        space_names.append(mark)"
   ]
  },
  {
   "cell_type": "code",
   "execution_count": 13,
   "id": "b6cf4172",
   "metadata": {},
   "outputs": [],
   "source": [
    "# Here we create a dictionary where to each mark with a space in the name is assigned the same mark name but with a dash\n",
    "mapping_dict = {}\n",
    "for mark_with_space in space_names:\n",
    "    mark_with_dash = mark_with_space.replace(\" \", \"-\")\n",
    "    mapping_dict[mark_with_space] = mark_with_dash\n",
    "\n",
    "# This function performs replacement of cars' marks with spaces into dashes '-'\n",
    "def replace_mark_name(name):\n",
    "    for mark_with_space, mark_with_dash in mapping_dict.items():\n",
    "        if mark_with_space in name:\n",
    "            name = name.replace(mark_with_space, mark_with_dash)\n",
    "    return name\n",
    "\n",
    "# Apply replacements to list1\n",
    "result = [replace_mark_name(item) for item in cars]\n",
    "\n",
    "cars = result"
   ]
  },
  {
   "cell_type": "code",
   "execution_count": 14,
   "id": "e70a6095",
   "metadata": {
    "scrolled": true
   },
   "outputs": [],
   "source": [
    "for car in range(len(cars)):\n",
    "    cars[car] = cars[car].split(' ', 1)   "
   ]
  },
  {
   "cell_type": "code",
   "execution_count": 16,
   "id": "f2231995",
   "metadata": {},
   "outputs": [],
   "source": [
    "# This function collects all previously formed lists and form 1 united dataframe in pandas\n",
    "def to_pandas():\n",
    "    #Here we transform our lists into pandas Series\n",
    "    c = pd.DataFrame(cars, columns=['mark', 'model'])\n",
    "    ch = pd.Series(characteristics)\n",
    "    p = pd.Series(prices, name='price')\n",
    "    l = pd.Series(locations, name='location')\n",
    "    # Create a DataFrame from the Series, which splits the lists into columns\n",
    "    df = pd.DataFrame(ch.tolist(), columns=['mileage', 'transmission', 'registration', 'fuel', 'power'])\n",
    "    merged_df = pd.concat([c, df], axis=1)\n",
    "    merged_df2 = pd.concat([merged_df,l], axis=1)\n",
    "    main_pages_info = pd.concat([merged_df2,p], axis=1)\n",
    "    return main_pages_info"
   ]
  },
  {
   "cell_type": "code",
   "execution_count": 17,
   "id": "c1d715db",
   "metadata": {},
   "outputs": [
    {
     "data": {
      "text/html": [
       "<div>\n",
       "<style scoped>\n",
       "    .dataframe tbody tr th:only-of-type {\n",
       "        vertical-align: middle;\n",
       "    }\n",
       "\n",
       "    .dataframe tbody tr th {\n",
       "        vertical-align: top;\n",
       "    }\n",
       "\n",
       "    .dataframe thead th {\n",
       "        text-align: right;\n",
       "    }\n",
       "</style>\n",
       "<table border=\"1\" class=\"dataframe\">\n",
       "  <thead>\n",
       "    <tr style=\"text-align: right;\">\n",
       "      <th></th>\n",
       "      <th>mark</th>\n",
       "      <th>model</th>\n",
       "      <th>mileage</th>\n",
       "      <th>transmission</th>\n",
       "      <th>registration</th>\n",
       "      <th>fuel</th>\n",
       "      <th>power</th>\n",
       "      <th>location</th>\n",
       "      <th>price</th>\n",
       "    </tr>\n",
       "  </thead>\n",
       "  <tbody>\n",
       "    <tr>\n",
       "      <th>0</th>\n",
       "      <td>Ford</td>\n",
       "      <td>Mustang</td>\n",
       "      <td>1424</td>\n",
       "      <td>Automatic</td>\n",
       "      <td>04/2022</td>\n",
       "      <td>Gasoline</td>\n",
       "      <td>460</td>\n",
       "      <td>DE</td>\n",
       "      <td>54992</td>\n",
       "    </tr>\n",
       "    <tr>\n",
       "      <th>1</th>\n",
       "      <td>Mercedes-Benz</td>\n",
       "      <td>G 63 AMG</td>\n",
       "      <td>25</td>\n",
       "      <td>Automatic</td>\n",
       "      <td>10/2023</td>\n",
       "      <td>Gasoline</td>\n",
       "      <td>585</td>\n",
       "      <td>DE</td>\n",
       "      <td>224900</td>\n",
       "    </tr>\n",
       "    <tr>\n",
       "      <th>2</th>\n",
       "      <td>Porsche</td>\n",
       "      <td>Cayman</td>\n",
       "      <td>72404</td>\n",
       "      <td>Automatic</td>\n",
       "      <td>07/2014</td>\n",
       "      <td>Gasoline</td>\n",
       "      <td>275</td>\n",
       "      <td>BE</td>\n",
       "      <td>49990</td>\n",
       "    </tr>\n",
       "    <tr>\n",
       "      <th>3</th>\n",
       "      <td>Ferrari</td>\n",
       "      <td>812</td>\n",
       "      <td>195</td>\n",
       "      <td>Automatic</td>\n",
       "      <td>03/2023</td>\n",
       "      <td>Gasoline</td>\n",
       "      <td>799</td>\n",
       "      <td>DE</td>\n",
       "      <td>529900</td>\n",
       "    </tr>\n",
       "    <tr>\n",
       "      <th>4</th>\n",
       "      <td>Mercedes-Benz</td>\n",
       "      <td>AMG GT</td>\n",
       "      <td>747</td>\n",
       "      <td>Automatic</td>\n",
       "      <td>06/2021</td>\n",
       "      <td>Gasoline</td>\n",
       "      <td>730</td>\n",
       "      <td>DE</td>\n",
       "      <td>409900</td>\n",
       "    </tr>\n",
       "    <tr>\n",
       "      <th>...</th>\n",
       "      <td>...</td>\n",
       "      <td>...</td>\n",
       "      <td>...</td>\n",
       "      <td>...</td>\n",
       "      <td>...</td>\n",
       "      <td>...</td>\n",
       "      <td>...</td>\n",
       "      <td>...</td>\n",
       "      <td>...</td>\n",
       "    </tr>\n",
       "    <tr>\n",
       "      <th>395</th>\n",
       "      <td>BMW</td>\n",
       "      <td>840</td>\n",
       "      <td>7301</td>\n",
       "      <td>Automatic</td>\n",
       "      <td>08/2022</td>\n",
       "      <td>Gasoline</td>\n",
       "      <td>333</td>\n",
       "      <td>DE</td>\n",
       "      <td>79731</td>\n",
       "    </tr>\n",
       "    <tr>\n",
       "      <th>396</th>\n",
       "      <td>Audi</td>\n",
       "      <td>e-tron</td>\n",
       "      <td>37172</td>\n",
       "      <td>Automatic</td>\n",
       "      <td>03/2020</td>\n",
       "      <td>Electric</td>\n",
       "      <td>313</td>\n",
       "      <td>DE</td>\n",
       "      <td>36980</td>\n",
       "    </tr>\n",
       "    <tr>\n",
       "      <th>397</th>\n",
       "      <td>Mercedes-Benz</td>\n",
       "      <td>C 400</td>\n",
       "      <td>27695</td>\n",
       "      <td>Automatic</td>\n",
       "      <td>02/2021</td>\n",
       "      <td>Gasoline</td>\n",
       "      <td>333</td>\n",
       "      <td>DE</td>\n",
       "      <td>46980</td>\n",
       "    </tr>\n",
       "    <tr>\n",
       "      <th>398</th>\n",
       "      <td>Mercedes-Benz</td>\n",
       "      <td>GLB 250</td>\n",
       "      <td>42850</td>\n",
       "      <td>Automatic</td>\n",
       "      <td>10/2020</td>\n",
       "      <td>Gasoline</td>\n",
       "      <td>224</td>\n",
       "      <td>DE</td>\n",
       "      <td>42930</td>\n",
       "    </tr>\n",
       "    <tr>\n",
       "      <th>399</th>\n",
       "      <td>Cupra</td>\n",
       "      <td>Leon</td>\n",
       "      <td>9890</td>\n",
       "      <td>Automatic</td>\n",
       "      <td>03/2021</td>\n",
       "      <td>Gasoline</td>\n",
       "      <td>310</td>\n",
       "      <td>DE</td>\n",
       "      <td>36970</td>\n",
       "    </tr>\n",
       "  </tbody>\n",
       "</table>\n",
       "<p>400 rows × 9 columns</p>\n",
       "</div>"
      ],
      "text/plain": [
       "              mark     model mileage transmission registration      fuel  \\\n",
       "0             Ford   Mustang    1424    Automatic      04/2022  Gasoline   \n",
       "1    Mercedes-Benz  G 63 AMG      25    Automatic      10/2023  Gasoline   \n",
       "2          Porsche    Cayman   72404    Automatic      07/2014  Gasoline   \n",
       "3          Ferrari       812     195    Automatic      03/2023  Gasoline   \n",
       "4    Mercedes-Benz    AMG GT     747    Automatic      06/2021  Gasoline   \n",
       "..             ...       ...     ...          ...          ...       ...   \n",
       "395            BMW       840    7301    Automatic      08/2022  Gasoline   \n",
       "396           Audi    e-tron   37172    Automatic      03/2020  Electric   \n",
       "397  Mercedes-Benz     C 400   27695    Automatic      02/2021  Gasoline   \n",
       "398  Mercedes-Benz   GLB 250   42850    Automatic      10/2020  Gasoline   \n",
       "399          Cupra      Leon    9890    Automatic      03/2021  Gasoline   \n",
       "\n",
       "    power location   price  \n",
       "0     460       DE   54992  \n",
       "1     585       DE  224900  \n",
       "2     275       BE   49990  \n",
       "3     799       DE  529900  \n",
       "4     730       DE  409900  \n",
       "..    ...      ...     ...  \n",
       "395   333       DE   79731  \n",
       "396   313       DE   36980  \n",
       "397   333       DE   46980  \n",
       "398   224       DE   42930  \n",
       "399   310       DE   36970  \n",
       "\n",
       "[400 rows x 9 columns]"
      ]
     },
     "execution_count": 17,
     "metadata": {},
     "output_type": "execute_result"
    }
   ],
   "source": [
    "to_pandas()"
   ]
  },
  {
   "cell_type": "markdown",
   "id": "38625587",
   "metadata": {},
   "source": [
    "## 3. Creating a SQL database and exporting parsed data there from the main pages"
   ]
  },
  {
   "cell_type": "code",
   "execution_count": 18,
   "id": "dcedd44a",
   "metadata": {},
   "outputs": [],
   "source": [
    "# Load database configuration from a JSON file in order to avoid hardcoding sensible information\n",
    "with open('postgres_configs.json') as config_file:\n",
    "    config = json.load(config_file)"
   ]
  },
  {
   "cell_type": "code",
   "execution_count": 19,
   "id": "f472c0bf",
   "metadata": {},
   "outputs": [],
   "source": [
    "#configurations to connect to a SQL database\n",
    "db_user = config['postgres']['user']\n",
    "db_password = config['postgres']['pwd']\n",
    "db_host = config['postgres']['host']\n",
    "db_port = config['postgres']['port']\n",
    "db_name = config['postgres']['db']"
   ]
  },
  {
   "cell_type": "code",
   "execution_count": 20,
   "id": "f435605f",
   "metadata": {},
   "outputs": [],
   "source": [
    "# Connection string\n",
    "connection_string = f'postgresql://{db_user}:{db_password}@{db_host}:{db_port}/{db_name}'"
   ]
  },
  {
   "cell_type": "code",
   "execution_count": 21,
   "id": "dc1b04ca",
   "metadata": {},
   "outputs": [],
   "source": [
    "engine = create_engine(connection_string)"
   ]
  },
  {
   "cell_type": "code",
   "execution_count": 22,
   "id": "40033e54",
   "metadata": {},
   "outputs": [],
   "source": [
    "to_pandas().to_sql('cars', engine, if_exists='replace', schema='autoscout')"
   ]
  },
  {
   "cell_type": "markdown",
   "id": "2b54d2b1",
   "metadata": {},
   "source": [
    "## 2. Acquiring links to every dealer's list of cars from all main pages."
   ]
  },
  {
   "cell_type": "code",
   "execution_count": null,
   "id": "5f651c65",
   "metadata": {},
   "outputs": [],
   "source": []
  },
  {
   "cell_type": "code",
   "execution_count": null,
   "id": "9b4b81fb",
   "metadata": {},
   "outputs": [],
   "source": [
    "# We call the module dealers_cars and assign the URL from the first main page\n",
    "dealers_cars_list = dealers_cars.sel_pars(url)"
   ]
  },
  {
   "cell_type": "code",
   "execution_count": null,
   "id": "0d1375e6",
   "metadata": {},
   "outputs": [],
   "source": []
  },
  {
   "cell_type": "code",
   "execution_count": null,
   "id": "9fd57343",
   "metadata": {},
   "outputs": [],
   "source": [
    "dealers_cars_list"
   ]
  },
  {
   "cell_type": "code",
   "execution_count": null,
   "id": "bf6a4546",
   "metadata": {},
   "outputs": [],
   "source": [
    "# Connection string\n",
    "connection_string = 'postgresql://{}/{}@{}:{}/{}'.format(\n",
    "    db_user,\n",
    "    db_password,\n",
    "    db_host,\n",
    "    db_port,\n",
    "    db_name\n",
    ")"
   ]
  },
  {
   "cell_type": "code",
   "execution_count": null,
   "id": "257ae281",
   "metadata": {},
   "outputs": [],
   "source": [
    "s = set(dealers_cars_list)"
   ]
  },
  {
   "cell_type": "code",
   "execution_count": null,
   "id": "1e9f888f",
   "metadata": {},
   "outputs": [],
   "source": [
    "s"
   ]
  },
  {
   "cell_type": "code",
   "execution_count": null,
   "id": "219acafd",
   "metadata": {},
   "outputs": [],
   "source": [
    "#with engine.connect() as conn:\n",
    "#    conn.execute('CREATE SCHEMA IF NOT EXISTS cars_small;')"
   ]
  },
  {
   "cell_type": "code",
   "execution_count": null,
   "id": "d0374db8",
   "metadata": {},
   "outputs": [],
   "source": [
    "#with engine.connect() as conn:\n",
    "#    to_pandas().to_sql(name='cars_info', con=conn, if_exists='replace', index=False)"
   ]
  },
  {
   "cell_type": "code",
   "execution_count": null,
   "id": "2bc388e8",
   "metadata": {},
   "outputs": [],
   "source": [
    "dealers_cars_list[0]"
   ]
  },
  {
   "cell_type": "code",
   "execution_count": null,
   "id": "0023761b",
   "metadata": {},
   "outputs": [],
   "source": [
    "url0 = dealers_cars_list[0]\n",
    "html0 = requests.get(url0).text\n",
    "soup0 = BeautifulSoup(html0, 'lxml')"
   ]
  },
  {
   "cell_type": "code",
   "execution_count": null,
   "id": "124dd5d5",
   "metadata": {},
   "outputs": [],
   "source": [
    "total_pages(soup0)"
   ]
  },
  {
   "cell_type": "code",
   "execution_count": null,
   "id": "7d321239",
   "metadata": {},
   "outputs": [],
   "source": []
  }
 ],
 "metadata": {
  "hide_input": false,
  "kernelspec": {
   "display_name": "Python 3",
   "language": "python",
   "name": "python3"
  },
  "language_info": {
   "codemirror_mode": {
    "name": "ipython",
    "version": 3
   },
   "file_extension": ".py",
   "mimetype": "text/x-python",
   "name": "python",
   "nbconvert_exporter": "python",
   "pygments_lexer": "ipython3",
   "version": "3.8.8"
  }
 },
 "nbformat": 4,
 "nbformat_minor": 5
}

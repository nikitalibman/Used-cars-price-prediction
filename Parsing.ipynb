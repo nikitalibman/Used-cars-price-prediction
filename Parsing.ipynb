{
 "cells": [
  {
   "cell_type": "code",
   "execution_count": 6,
   "id": "52c2ef4e",
   "metadata": {},
   "outputs": [],
   "source": [
    "import requests\n",
    "from bs4 import BeautifulSoup\n",
    "import csv\n",
    "from selenium import webdriver"
   ]
  },
  {
   "cell_type": "code",
   "execution_count": 2,
   "id": "eb7ae84d",
   "metadata": {},
   "outputs": [],
   "source": [
    "url = 'https://www.autoscout24.com/lst?atype=C&desc=0&page=1&search_id=7ka6orz363&sort=standard&source=listpage_pagination&ustate=N%2CU'\n",
    "html = requests.get(url).text\n",
    "soup = BeautifulSoup(html, 'lxml')"
   ]
  },
  {
   "cell_type": "code",
   "execution_count": 7,
   "id": "e402d0b2",
   "metadata": {},
   "outputs": [],
   "source": [
    "url1 = 'https://www.autoscout24.com/offers/mclaren-650s-coupe-lift-vollleder-parksystem-lm-stealth-finish-us-gasoline-black-e5d6e579-c0ca-4fec-8dcd-7f49e0625840?sort=standard&desc=0&lastSeenGuidPresent=true&cldtidx=2&position=2&search_id=mu46oz87ke&source_otp=t50&source=listpage_search-results&order_bucket=6'\n",
    "html1 = requests.get(url1).text\n",
    "soup1 = BeautifulSoup(html1, 'lxml')"
   ]
  },
  {
   "cell_type": "code",
   "execution_count": 8,
   "id": "7562b847",
   "metadata": {},
   "outputs": [
    {
     "data": {
      "text/plain": [
       "<a class=\"scr-link StockList_link___HKPA\" href=\"/lst\" rel=\"noopener noreferrer\" target=\"_blank\">All vehicles from the seller</a>"
      ]
     },
     "execution_count": 8,
     "metadata": {},
     "output_type": "execute_result"
    }
   ],
   "source": [
    "cars1 = soup1.find('a', attrs={'class':'scr-link StockList_link___HKPA'})\n",
    "cars1"
   ]
  },
  {
   "cell_type": "code",
   "execution_count": null,
   "id": "f164c604",
   "metadata": {},
   "outputs": [],
   "source": [
    "urls = []\n",
    "for link in soup.find_all('a'):\n",
    "    print(link.get('href'))"
   ]
  },
  {
   "cell_type": "code",
   "execution_count": null,
   "id": "974662c7",
   "metadata": {},
   "outputs": [],
   "source": [
    "extract_href_with_selenium(url)"
   ]
  },
  {
   "cell_type": "code",
   "execution_count": null,
   "id": "28852abc",
   "metadata": {},
   "outputs": [],
   "source": [
    "#get the number of total pages on the web site\n",
    "def total_pages(soup):\n",
    "    divs = soup.find('div', attrs={'class':'ListPage_pagination__v_4ci'})\n",
    "    pages = divs.find_all('button', attrs={'class':'FilteredListPagination_button__41hHM'})[-2].text\n",
    "    total_pages = int(pages)\n",
    "    return total_pages"
   ]
  },
  {
   "cell_type": "code",
   "execution_count": null,
   "id": "c9a73cea",
   "metadata": {},
   "outputs": [],
   "source": [
    "#get a dictionary of all URLs that lead to a specific page\n",
    "all_pages = {}\n",
    "for i in range(1, total_pages(soup) + 1):\n",
    "    url_parts = url.split('&')\n",
    "    url_parts[2] = f'page={i}'\n",
    "    url = '&'.join(url_parts)\n",
    "    all_pages[i]=url"
   ]
  },
  {
   "cell_type": "code",
   "execution_count": null,
   "id": "dea0d357",
   "metadata": {},
   "outputs": [],
   "source": [
    "page_1 = BeautifulSoup(requests.get(all_pages[1]).text, 'lxml')\n",
    "more_cars = page_1.find('a', attrs={'class':'scr-link SellerInfo_link__Dmh0H'}).get('href')\n",
    "more_cars"
   ]
  },
  {
   "cell_type": "code",
   "execution_count": null,
   "id": "4f095386",
   "metadata": {},
   "outputs": [],
   "source": [
    "more_cars[0]"
   ]
  },
  {
   "cell_type": "code",
   "execution_count": null,
   "id": "41e041df",
   "metadata": {},
   "outputs": [],
   "source": [
    "<a class=\"scr-link SellerInfo_link__Dmh0H\" href=\"/lst?atype=C&amp;cid=15535338\" rel=\"noopener\">+ Show more vehicles</a>"
   ]
  },
  {
   "cell_type": "code",
   "execution_count": null,
   "id": "eb50bc5f",
   "metadata": {},
   "outputs": [],
   "source": [
    "href=\"/lst?atype=C&cid=15535338\""
   ]
  },
  {
   "cell_type": "code",
   "execution_count": null,
   "id": "29fcf0cb",
   "metadata": {},
   "outputs": [],
   "source": [
    "href=\"/lst?atype=C&cid=5791\""
   ]
  },
  {
   "cell_type": "code",
   "execution_count": null,
   "id": "9406f482",
   "metadata": {},
   "outputs": [],
   "source": [
    "#here we get html codes as a soup element about all pages\n",
    "soups_list = []\n",
    "for k in all_pages:\n",
    "    soups_list.append(BeautifulSoup(requests.get(all_pages[k]).text, 'lxml'))"
   ]
  },
  {
   "cell_type": "code",
   "execution_count": null,
   "id": "95bc12c1",
   "metadata": {},
   "outputs": [],
   "source": [
    "#here we get description of mark and model about all cars from all the pages\n",
    "for elem in soups_list:\n",
    "    models = elem.find_all('div', attrs={'class':'ListItem_header__uPzec ListItem_header_new_design__hPPNh'})\n",
    "    for model in models:\n",
    "        model = model.find('h2')\n",
    "        print(model.text)"
   ]
  },
  {
   "cell_type": "code",
   "execution_count": null,
   "id": "43900d95",
   "metadata": {},
   "outputs": [],
   "source": [
    "#here we get info about all models and marks from one page\n",
    "models = soup.find_all('div', attrs={'class':'ListItem_header__uPzec ListItem_header_new_design__hPPNh'})\n",
    "n = 1\n",
    "for model in models:\n",
    "    model = model.find('h2')\n",
    "    print(n, model.text)\n",
    "    n+=1 "
   ]
  },
  {
   "cell_type": "code",
   "execution_count": null,
   "id": "9bfbd7c1",
   "metadata": {},
   "outputs": [],
   "source": [
    "for elem in soups_list:\n",
    "    elem.find_all('div', attrs={'class':'ListItem_header__uPzec ListItem_header_new_design__hPPNh'})\n",
    "    "
   ]
  },
  {
   "cell_type": "code",
   "execution_count": null,
   "id": "c55eea49",
   "metadata": {},
   "outputs": [],
   "source": [
    "#here we get prices of all cars on one page\n",
    "prices = soup.find_all('div', attrs={'class':'ListItem_listing__VjI4F'})\n",
    "n = 1\n",
    "for price in prices:\n",
    "    price = price.find('p')\n",
    "    print(n, price.text)\n",
    "    n+=1 "
   ]
  },
  {
   "cell_type": "code",
   "execution_count": null,
   "id": "0c353ab7",
   "metadata": {},
   "outputs": [],
   "source": []
  }
 ],
 "metadata": {
  "hide_input": false,
  "kernelspec": {
   "display_name": "Python 3",
   "language": "python",
   "name": "python3"
  },
  "language_info": {
   "codemirror_mode": {
    "name": "ipython",
    "version": 3
   },
   "file_extension": ".py",
   "mimetype": "text/x-python",
   "name": "python",
   "nbconvert_exporter": "python",
   "pygments_lexer": "ipython3",
   "version": "3.8.8"
  }
 },
 "nbformat": 4,
 "nbformat_minor": 5
}

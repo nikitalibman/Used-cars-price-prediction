{
 "cells": [
  {
   "cell_type": "code",
   "execution_count": 113,
   "id": "52c2ef4e",
   "metadata": {},
   "outputs": [],
   "source": [
    "import requests\n",
    "from bs4 import BeautifulSoup\n",
    "import csv"
   ]
  },
  {
   "cell_type": "code",
   "execution_count": 114,
   "id": "eb7ae84d",
   "metadata": {},
   "outputs": [],
   "source": [
    "url = 'https://www.autoscout24.com/lst/audi?atype=C&cy=A&desc=0&page=1&search_id=mmo9wqu7i8&sort=standard&source=listpage_pagination&ustate=N%2CU'\n",
    "html = requests.get(url).text"
   ]
  },
  {
   "cell_type": "code",
   "execution_count": 115,
   "id": "6b579adc",
   "metadata": {},
   "outputs": [
    {
     "name": "stdout",
     "output_type": "stream",
     "text": [
      "20\n"
     ]
    }
   ],
   "source": [
    "#get the number of total pages per every mark\n",
    "\n",
    "soup = BeautifulSoup(html, 'lxml')\n",
    "divs = soup.find('div', attrs={'class':'ListPage_pagination__v_4ci'})\n",
    "pages = divs.find_all('button', attrs={'class':'FilteredListPagination_button__41hHM'})[-2].text\n",
    "total_pages = int(pages)\n",
    "print(total_pages)"
   ]
  },
  {
   "cell_type": "code",
   "execution_count": 116,
   "id": "f4fd1b91",
   "metadata": {},
   "outputs": [
    {
     "name": "stdout",
     "output_type": "stream",
     "text": [
      "https://www.autoscout24.com/lst/audi?atype=C&cy=A&desc=0&page=1&search_id=mmo9wqu7i8&sort=standard&source=listpage_pagination&ustate=N%2CU\n",
      "https://www.autoscout24.com/lst/audi?atype=C&cy=A&desc=0&page=2&search_id=mmo9wqu7i8&sort=standard&source=listpage_pagination&ustate=N%2CU\n",
      "https://www.autoscout24.com/lst/audi?atype=C&cy=A&desc=0&page=3&search_id=mmo9wqu7i8&sort=standard&source=listpage_pagination&ustate=N%2CU\n",
      "https://www.autoscout24.com/lst/audi?atype=C&cy=A&desc=0&page=4&search_id=mmo9wqu7i8&sort=standard&source=listpage_pagination&ustate=N%2CU\n",
      "https://www.autoscout24.com/lst/audi?atype=C&cy=A&desc=0&page=5&search_id=mmo9wqu7i8&sort=standard&source=listpage_pagination&ustate=N%2CU\n",
      "https://www.autoscout24.com/lst/audi?atype=C&cy=A&desc=0&page=6&search_id=mmo9wqu7i8&sort=standard&source=listpage_pagination&ustate=N%2CU\n",
      "https://www.autoscout24.com/lst/audi?atype=C&cy=A&desc=0&page=7&search_id=mmo9wqu7i8&sort=standard&source=listpage_pagination&ustate=N%2CU\n",
      "https://www.autoscout24.com/lst/audi?atype=C&cy=A&desc=0&page=8&search_id=mmo9wqu7i8&sort=standard&source=listpage_pagination&ustate=N%2CU\n",
      "https://www.autoscout24.com/lst/audi?atype=C&cy=A&desc=0&page=9&search_id=mmo9wqu7i8&sort=standard&source=listpage_pagination&ustate=N%2CU\n",
      "https://www.autoscout24.com/lst/audi?atype=C&cy=A&desc=0&page=10&search_id=mmo9wqu7i8&sort=standard&source=listpage_pagination&ustate=N%2CU\n",
      "https://www.autoscout24.com/lst/audi?atype=C&cy=A&desc=0&page=11&search_id=mmo9wqu7i8&sort=standard&source=listpage_pagination&ustate=N%2CU\n",
      "https://www.autoscout24.com/lst/audi?atype=C&cy=A&desc=0&page=12&search_id=mmo9wqu7i8&sort=standard&source=listpage_pagination&ustate=N%2CU\n",
      "https://www.autoscout24.com/lst/audi?atype=C&cy=A&desc=0&page=13&search_id=mmo9wqu7i8&sort=standard&source=listpage_pagination&ustate=N%2CU\n",
      "https://www.autoscout24.com/lst/audi?atype=C&cy=A&desc=0&page=14&search_id=mmo9wqu7i8&sort=standard&source=listpage_pagination&ustate=N%2CU\n",
      "https://www.autoscout24.com/lst/audi?atype=C&cy=A&desc=0&page=15&search_id=mmo9wqu7i8&sort=standard&source=listpage_pagination&ustate=N%2CU\n",
      "https://www.autoscout24.com/lst/audi?atype=C&cy=A&desc=0&page=16&search_id=mmo9wqu7i8&sort=standard&source=listpage_pagination&ustate=N%2CU\n",
      "https://www.autoscout24.com/lst/audi?atype=C&cy=A&desc=0&page=17&search_id=mmo9wqu7i8&sort=standard&source=listpage_pagination&ustate=N%2CU\n",
      "https://www.autoscout24.com/lst/audi?atype=C&cy=A&desc=0&page=18&search_id=mmo9wqu7i8&sort=standard&source=listpage_pagination&ustate=N%2CU\n",
      "https://www.autoscout24.com/lst/audi?atype=C&cy=A&desc=0&page=19&search_id=mmo9wqu7i8&sort=standard&source=listpage_pagination&ustate=N%2CU\n",
      "https://www.autoscout24.com/lst/audi?atype=C&cy=A&desc=0&page=20&search_id=mmo9wqu7i8&sort=standard&source=listpage_pagination&ustate=N%2CU\n"
     ]
    }
   ],
   "source": [
    "for i in range(1, total_pages + 1):\n",
    "    url_parts = url.split('&')\n",
    "    url_parts[3] = f'page={i}'\n",
    "    url = '&'.join(url_parts)\n",
    "    print(url)"
   ]
  },
  {
   "cell_type": "code",
   "execution_count": 130,
   "id": "43900d95",
   "metadata": {},
   "outputs": [
    {
     "name": "stdout",
     "output_type": "stream",
     "text": [
      "1 Audi A6 Avant 2.0 TDI\n",
      "2 Audi e-tron GT quattro | € 773 mtl | Laser | Head Up | Dynamik...\n",
      "3 Audi A4 quattro 2,7 RS4 / Original / Sammlerzustand\n",
      "4 Audi S3 2.0 TFSI quattro*Milltek*BOSE*Leder*Xenon*Tempomat\n",
      "5 Audi e-tron 50 quattro Aut LED NACHTSICHT LUFT NAVI\n",
      "6 Audi R8 Coupé 5,2 FSI quattro S-tronic V10 plus\n",
      "7 Audi 100 2,8 V6 E - Topzustand!\n",
      "8 Audi A3 Ambition 2,0 TDI DPF Sport\n",
      "9 Audi e-tron 50 quattro Aut LED LUFT DIGITAL-TACHO\n",
      "10 Audi A6 AV 3.0 TDI XENON*TEMPOMAT*PDC*STANDHEIZUNG*\n",
      "11 Audi RS6 Avant TFSI quattro | € 1669 mtl | Carbon | Lase...\n",
      "12 Audi e-tron Sportback 50 quattro Aut LED LUFT R-CAM\n",
      "13 Audi e-tron Sportback 55 quattro Aut LED NACHTSICHT\n",
      "14 Audi TT Coupe 1.8 TFSI S-Tronic *Virtuel-Cockpit* Kyles-GO\n",
      "15 Audi e-tron 55 quattro advanced Aut MATRIX LUFT SKY\n",
      "16 Audi A4 Avant 2.0 TDI S-Line Aut XENON SYK NAVI TEMP\n",
      "17 Audi A6 3.0 TDI quattro S-Tronic Sport Facelift 1.Besitz!\n",
      "18 Audi e-tron 50 quattro Aut LED LUFT LEDER RADAR NAVI\n",
      "19 Audi e-tron 55 quattro advanced Aut MATRIX LUFT AHK\n",
      "20 Audi RS6 Avant quattro Tiptronic Keramik Bremse\n"
     ]
    }
   ],
   "source": [
    "soup1 = BeautifulSoup(html, 'lxml')\n",
    "models = soup1.find_all('div', attrs={'class':'ListItem_header__uPzec ListItem_header_new_design__hPPNh'})\n",
    "n = 1\n",
    "for model in models:\n",
    "    model = model.find('h2')\n",
    "    print(n, model.text)\n",
    "    n+=1 "
   ]
  }
 ],
 "metadata": {
  "hide_input": false,
  "kernelspec": {
   "display_name": "Python 3",
   "language": "python",
   "name": "python3"
  },
  "language_info": {
   "codemirror_mode": {
    "name": "ipython",
    "version": 3
   },
   "file_extension": ".py",
   "mimetype": "text/x-python",
   "name": "python",
   "nbconvert_exporter": "python",
   "pygments_lexer": "ipython3",
   "version": "3.8.8"
  }
 },
 "nbformat": 4,
 "nbformat_minor": 5
}

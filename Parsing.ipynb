{
 "cells": [
  {
   "cell_type": "markdown",
   "id": "929c58c9",
   "metadata": {},
   "source": [
    "# Scope of work\n",
    "\n",
    "1) Import all necessary libraries and modules.  \n",
    "2) First we need to obtain inforamtion about all available cars from the first main pages.  \n",
    "3) Create a SQL database and export there gathered info about cars from the main pages.  \n",
    "4) Then we will call module dealers_cars to acquire links to every dealer's list of cars from all main pages.  \n",
    "5) Now we will repeat the same procedure as in the 1st step but to the every dealer's cars list.  \n",
    "6) Add extracted data to a created SQL database"
   ]
  },
  {
   "cell_type": "markdown",
   "id": "ecd9134c",
   "metadata": {},
   "source": [
    "## 1. Imort of libraries and modules"
   ]
  },
  {
   "cell_type": "code",
   "execution_count": 1,
   "id": "6c89e1c1",
   "metadata": {},
   "outputs": [],
   "source": [
    "import requests\n",
    "from bs4 import BeautifulSoup\n",
    "import re\n",
    "import pandas as pd\n",
    "from sqlalchemy import create_engine\n",
    "import dealers_cars"
   ]
  },
  {
   "cell_type": "markdown",
   "id": "19db7745",
   "metadata": {},
   "source": [
    "## 2. Acquring cars' information from the first main pages"
   ]
  },
  {
   "cell_type": "code",
   "execution_count": 2,
   "id": "866b7212",
   "metadata": {},
   "outputs": [],
   "source": [
    "# Here we provide URL to the very first main page."
   ]
  },
  {
   "cell_type": "code",
   "execution_count": 3,
   "id": "eb7ae84d",
   "metadata": {},
   "outputs": [],
   "source": [
    "url = 'https://www.autoscout24.com/lst?atype=C&desc=0&sort=standard&source=homepage_search-mask&ustate=N%2CU'\n",
    "html = requests.get(url).text\n",
    "soup = BeautifulSoup(html, 'lxml')"
   ]
  },
  {
   "cell_type": "code",
   "execution_count": 4,
   "id": "4d398e11",
   "metadata": {},
   "outputs": [],
   "source": [
    "#get the number of total pages on the web site\n",
    "def total_pages(soup):\n",
    "    divs = soup.find('div', attrs={'class':'ListPage_pagination__v_4ci'})\n",
    "    pages = divs.find_all('button', attrs={'class':'FilteredListPagination_button__41hHM'})[-2].text\n",
    "    total_pages = int(pages)\n",
    "    return total_pages"
   ]
  },
  {
   "cell_type": "code",
   "execution_count": 5,
   "id": "c9a73cea",
   "metadata": {},
   "outputs": [],
   "source": [
    "#get a dictionary of all URLs from every main page\n",
    "def pages_urls(url):\n",
    "    all_pages = {}\n",
    "    for i in range(1, total_pages(soup) + 1):\n",
    "        url_parts = url.split('&')\n",
    "        url_parts[2] = f'page={i}'\n",
    "        url = '&'.join(url_parts)\n",
    "        all_pages[i]=url\n",
    "    return all_pages\n",
    "\n",
    "all_pages=pages_urls(url)"
   ]
  },
  {
   "cell_type": "code",
   "execution_count": 6,
   "id": "9406f482",
   "metadata": {},
   "outputs": [],
   "source": [
    "#here we create a list of html codes as soup elements about all pages\n",
    "def html_list():\n",
    "    soups_list = []\n",
    "    for k in all_pages:\n",
    "        soups_list.append(BeautifulSoup(requests.get(all_pages[k]).text, 'lxml'))\n",
    "    return soups_list\n",
    "\n",
    "soups_list = html_list()"
   ]
  },
  {
   "cell_type": "code",
   "execution_count": 7,
   "id": "026bd3a7",
   "metadata": {},
   "outputs": [],
   "source": [
    "# here we create blank lists to populate it later with cars' info\n",
    "cars = []\n",
    "characteristics = []\n",
    "prices = []\n",
    "locations = []\n",
    "\n",
    "#this function scraps over the website in order to extract specific information about each car (characteristics, prices etc)\n",
    "def parcing (tag, attr,df):\n",
    "    for element in soups_list:\n",
    "        info = element.find_all(tag, attrs={'class':attr})\n",
    "        for i in info:\n",
    "            df.append(i.get_text())\n",
    "    return df"
   ]
  },
  {
   "cell_type": "code",
   "execution_count": 8,
   "id": "bdb12cfe",
   "metadata": {},
   "outputs": [],
   "source": [
    "#here we call the above mentioned function and populate our previously created lists\n",
    "cars = parcing('a', 'ListItem_title__znV2I ListItem_title_new_design__lYiAv Link_link__pjU1l', cars)\n",
    "characteristics = parcing('div', 'VehicleDetailTable_container__mUUbY', characteristics)\n",
    "prices = parcing('p', 'Price_price__WZayw PriceAndSeals_current_price__XscDn', prices)\n",
    "locations = parcing('span', 'SellerInfo_address__txoNV', locations) "
   ]
  },
  {
   "cell_type": "code",
   "execution_count": 9,
   "id": "5033a4a8",
   "metadata": {},
   "outputs": [],
   "source": [
    "def formating():\n",
    "    #here we extract only car's mark and maodel\n",
    "    for i in range(len(cars)):\n",
    "        cars[i] = cars[i].split('\\xa0')[0]\n",
    "    fuel_types = ['Gasoline','Diesel','Ethanol','Electric','Hydrogen','LPG','CNG','Electric/Gasoline','Others',\n",
    "              'Electric/Diesel']\n",
    "    fuel_pattern = '|'.join(fuel_types)\n",
    "    gear = ['Automatic','Manual','Semi-automatic']\n",
    "    gear_pattern = '|'.join(gear)\n",
    "    #here we extract specific patterns of each car characteristics. The initial text that was extracted from web scraping\n",
    "    #contains too much unrelated data\n",
    "    for i in range(len(characteristics)):\n",
    "        patterns = [r'\\d{1,3}(?:,\\d{3})*\\s?km', f'({gear_pattern})', r'\\d{1,2}/\\d{4}', f'({fuel_pattern})', r'\\d{1,4}\\s?hp']\n",
    "        characteristics[i] = [re.search(pattern, characteristics[i]).group(0).replace(',', '').replace(' km', '')\n",
    "                              .replace(' hp', '').strip() if re.search(pattern, characteristics[i])\n",
    "                              else None for pattern in patterns]\n",
    "    #here we extract integer from price text\n",
    "    for i in range(len(prices)):\n",
    "        prices[i] = int(re.sub(r'\\D', '', prices[i]))\n",
    "        \n",
    "    #here we extract only country abbreveation\n",
    "    for i in range(len(locations)):\n",
    "        try:\n",
    "            locations[i] = locations[i].split('• ')[1].split('-')[0]\n",
    "        except:\n",
    "            locations[i] = locations[i].split('-')[0]\n",
    "            \n",
    "    return cars, characteristics, prices, locations\n",
    "\n",
    "cars, characteristics, prices, locations = formating()"
   ]
  },
  {
   "cell_type": "code",
   "execution_count": 10,
   "id": "f2231995",
   "metadata": {},
   "outputs": [],
   "source": [
    "# This function collects all previously formed lists and form 1 united dataframe in pandas\n",
    "def to_pandas():\n",
    "    #Here we transform our lists into pandas Series\n",
    "    c = pd.Series(cars, name='Car')\n",
    "    ch = pd.Series(characteristics)\n",
    "    p = pd.Series(prices, name='Price [€]')\n",
    "    l = pd.Series(locations, name='Location')\n",
    "    # Create a DataFrame from the Series, which splits the lists into columns\n",
    "    df = pd.DataFrame(ch.tolist(), columns=['Mileage [km]', 'Transmission', 'Registration [m/y]', 'Fuel', 'Power [hp]'])\n",
    "    #Here we change data types of Mileage and Power to integers\n",
    "    try:\n",
    "        df['Mileage [km]'] = df['Mileage [km]'].astype('int')\n",
    "        df['Power [hp]'] = df['Power [hp]'].astype('int')\n",
    "    except:\n",
    "        df['Power [hp]'] = df['Power [hp]'].fillna(0)\n",
    "        df['Power [hp]'] = df['Power [hp]'].astype('int')\n",
    "        df['Mileage [km]'] = df['Mileage [km]'].fillna(0)\n",
    "        df['Mileage [km]'] = df['Mileage [km]'].astype('int')\n",
    "    merged_df = pd.concat([c, df], axis=1)\n",
    "    merged_df2 = pd.concat([merged_df,l], axis=1)\n",
    "    main_pages_info = pd.concat([merged_df2,p], axis=1)\n",
    "    return main_pages_info"
   ]
  },
  {
   "cell_type": "code",
   "execution_count": 11,
   "id": "c1d715db",
   "metadata": {},
   "outputs": [
    {
     "data": {
      "text/html": [
       "<div>\n",
       "<style scoped>\n",
       "    .dataframe tbody tr th:only-of-type {\n",
       "        vertical-align: middle;\n",
       "    }\n",
       "\n",
       "    .dataframe tbody tr th {\n",
       "        vertical-align: top;\n",
       "    }\n",
       "\n",
       "    .dataframe thead th {\n",
       "        text-align: right;\n",
       "    }\n",
       "</style>\n",
       "<table border=\"1\" class=\"dataframe\">\n",
       "  <thead>\n",
       "    <tr style=\"text-align: right;\">\n",
       "      <th></th>\n",
       "      <th>Car</th>\n",
       "      <th>Mileage [km]</th>\n",
       "      <th>Transmission</th>\n",
       "      <th>Registration [m/y]</th>\n",
       "      <th>Fuel</th>\n",
       "      <th>Power [hp]</th>\n",
       "      <th>Location</th>\n",
       "      <th>Price [€]</th>\n",
       "    </tr>\n",
       "  </thead>\n",
       "  <tbody>\n",
       "    <tr>\n",
       "      <th>0</th>\n",
       "      <td>Porsche 911</td>\n",
       "      <td>2480</td>\n",
       "      <td>Automatic</td>\n",
       "      <td>07/2019</td>\n",
       "      <td>Gasoline</td>\n",
       "      <td>700</td>\n",
       "      <td>AT</td>\n",
       "      <td>569990</td>\n",
       "    </tr>\n",
       "    <tr>\n",
       "      <th>1</th>\n",
       "      <td>Audi Q7</td>\n",
       "      <td>260000</td>\n",
       "      <td>Automatic</td>\n",
       "      <td>10/2014</td>\n",
       "      <td>Diesel</td>\n",
       "      <td>245</td>\n",
       "      <td>BE</td>\n",
       "      <td>18950</td>\n",
       "    </tr>\n",
       "    <tr>\n",
       "      <th>2</th>\n",
       "      <td>Audi A3</td>\n",
       "      <td>99000</td>\n",
       "      <td>Manual</td>\n",
       "      <td>08/2018</td>\n",
       "      <td>Gasoline</td>\n",
       "      <td>150</td>\n",
       "      <td>BE</td>\n",
       "      <td>17500</td>\n",
       "    </tr>\n",
       "    <tr>\n",
       "      <th>3</th>\n",
       "      <td>Jaguar F-Pace</td>\n",
       "      <td>150964</td>\n",
       "      <td>Automatic</td>\n",
       "      <td>11/2016</td>\n",
       "      <td>Gasoline</td>\n",
       "      <td>340</td>\n",
       "      <td>BE</td>\n",
       "      <td>22990</td>\n",
       "    </tr>\n",
       "    <tr>\n",
       "      <th>4</th>\n",
       "      <td>Mercedes-Benz ML 250</td>\n",
       "      <td>130000</td>\n",
       "      <td>Automatic</td>\n",
       "      <td>10/2014</td>\n",
       "      <td>Diesel</td>\n",
       "      <td>204</td>\n",
       "      <td>BE</td>\n",
       "      <td>22950</td>\n",
       "    </tr>\n",
       "    <tr>\n",
       "      <th>...</th>\n",
       "      <td>...</td>\n",
       "      <td>...</td>\n",
       "      <td>...</td>\n",
       "      <td>...</td>\n",
       "      <td>...</td>\n",
       "      <td>...</td>\n",
       "      <td>...</td>\n",
       "      <td>...</td>\n",
       "    </tr>\n",
       "    <tr>\n",
       "      <th>395</th>\n",
       "      <td>BMW 2002</td>\n",
       "      <td>150000</td>\n",
       "      <td>Manual</td>\n",
       "      <td>11/1973</td>\n",
       "      <td>Gasoline</td>\n",
       "      <td>131</td>\n",
       "      <td>DE</td>\n",
       "      <td>38800</td>\n",
       "    </tr>\n",
       "    <tr>\n",
       "      <th>396</th>\n",
       "      <td>Cupra Leon</td>\n",
       "      <td>20915</td>\n",
       "      <td>Automatic</td>\n",
       "      <td>07/2021</td>\n",
       "      <td>Electric</td>\n",
       "      <td>245</td>\n",
       "      <td>DE</td>\n",
       "      <td>26430</td>\n",
       "    </tr>\n",
       "    <tr>\n",
       "      <th>397</th>\n",
       "      <td>Mercedes-Benz E 53 AMG</td>\n",
       "      <td>68351</td>\n",
       "      <td>Automatic</td>\n",
       "      <td>03/2020</td>\n",
       "      <td>Gasoline</td>\n",
       "      <td>435</td>\n",
       "      <td>DE</td>\n",
       "      <td>67660</td>\n",
       "    </tr>\n",
       "    <tr>\n",
       "      <th>398</th>\n",
       "      <td>Skoda Fabia</td>\n",
       "      <td>57911</td>\n",
       "      <td>Manual</td>\n",
       "      <td>08/2018</td>\n",
       "      <td>Gasoline</td>\n",
       "      <td>95</td>\n",
       "      <td>BE</td>\n",
       "      <td>10990</td>\n",
       "    </tr>\n",
       "    <tr>\n",
       "      <th>399</th>\n",
       "      <td>BMW i4</td>\n",
       "      <td>24899</td>\n",
       "      <td>Automatic</td>\n",
       "      <td>12/2021</td>\n",
       "      <td>Electric</td>\n",
       "      <td>544</td>\n",
       "      <td>DE</td>\n",
       "      <td>79240</td>\n",
       "    </tr>\n",
       "  </tbody>\n",
       "</table>\n",
       "<p>400 rows × 8 columns</p>\n",
       "</div>"
      ],
      "text/plain": [
       "                        Car  Mileage [km] Transmission Registration [m/y]  \\\n",
       "0               Porsche 911          2480    Automatic            07/2019   \n",
       "1                   Audi Q7        260000    Automatic            10/2014   \n",
       "2                   Audi A3         99000       Manual            08/2018   \n",
       "3             Jaguar F-Pace        150964    Automatic            11/2016   \n",
       "4      Mercedes-Benz ML 250        130000    Automatic            10/2014   \n",
       "..                      ...           ...          ...                ...   \n",
       "395                BMW 2002        150000       Manual            11/1973   \n",
       "396              Cupra Leon         20915    Automatic            07/2021   \n",
       "397  Mercedes-Benz E 53 AMG         68351    Automatic            03/2020   \n",
       "398             Skoda Fabia         57911       Manual            08/2018   \n",
       "399                  BMW i4         24899    Automatic            12/2021   \n",
       "\n",
       "         Fuel  Power [hp] Location  Price [€]  \n",
       "0    Gasoline         700       AT     569990  \n",
       "1      Diesel         245       BE      18950  \n",
       "2    Gasoline         150       BE      17500  \n",
       "3    Gasoline         340       BE      22990  \n",
       "4      Diesel         204       BE      22950  \n",
       "..        ...         ...      ...        ...  \n",
       "395  Gasoline         131       DE      38800  \n",
       "396  Electric         245       DE      26430  \n",
       "397  Gasoline         435       DE      67660  \n",
       "398  Gasoline          95       BE      10990  \n",
       "399  Electric         544       DE      79240  \n",
       "\n",
       "[400 rows x 8 columns]"
      ]
     },
     "execution_count": 11,
     "metadata": {},
     "output_type": "execute_result"
    }
   ],
   "source": [
    "to_pandas()"
   ]
  },
  {
   "cell_type": "markdown",
   "id": "38625587",
   "metadata": {},
   "source": [
    "## 3. Creating a SQL database and exporting parsed data there from the main pages"
   ]
  },
  {
   "cell_type": "code",
   "execution_count": 12,
   "id": "0b3c0b0e",
   "metadata": {},
   "outputs": [],
   "source": [
    "#configurations to connect to a SQL database\n",
    "db_config = {\n",
    "    'user': 'postgres', \n",
    "    'pwd': 'austria011020',\n",
    "    'host': 'localhost',\n",
    "    'port': 5432,\n",
    "    'db': 'cars_small'\n",
    "} "
   ]
  },
  {
   "cell_type": "code",
   "execution_count": 13,
   "id": "5059b90e",
   "metadata": {},
   "outputs": [],
   "source": [
    "connection_string = 'postgresql://{}:{}@{}:{}/{}'.format(\n",
    "    db_config['user'],\n",
    "    db_config['pwd'],\n",
    "    db_config['host'],\n",
    "    db_config['port'],\n",
    "    db_config['db'],\n",
    ")"
   ]
  },
  {
   "cell_type": "code",
   "execution_count": 14,
   "id": "dc1b04ca",
   "metadata": {},
   "outputs": [],
   "source": [
    "engine = create_engine(connection_string)"
   ]
  },
  {
   "cell_type": "code",
   "execution_count": 15,
   "id": "219acafd",
   "metadata": {},
   "outputs": [],
   "source": [
    "with engine.connect() as conn:\n",
    "    conn.execute('CREATE SCHEMA IF NOT EXISTS cars_small;')"
   ]
  },
  {
   "cell_type": "code",
   "execution_count": 16,
   "id": "d0374db8",
   "metadata": {},
   "outputs": [],
   "source": [
    "with engine.connect() as conn:\n",
    "    to_pandas().to_sql(name='cars_info', con=conn, if_exists='replace', index=False)"
   ]
  },
  {
   "cell_type": "markdown",
   "id": "2b54d2b1",
   "metadata": {},
   "source": [
    "## 2. Acquiring links to every dealer's list of cars from all main pages."
   ]
  },
  {
   "cell_type": "code",
   "execution_count": 17,
   "id": "9b4b81fb",
   "metadata": {},
   "outputs": [],
   "source": [
    "# We call the module dealers_cars and assign the URL from the first main page\n",
    "dealers_cars_list = dealers_cars.sel_pars(url)"
   ]
  },
  {
   "cell_type": "code",
   "execution_count": 18,
   "id": "9fd57343",
   "metadata": {},
   "outputs": [
    {
     "data": {
      "text/plain": [
       "['https://www.autoscout24.com/lst?atype=C&cid=36602827',\n",
       " 'https://www.autoscout24.com/lst?atype=C&cid=24872232',\n",
       " 'https://www.autoscout24.com/lst?atype=C&cid=16577394',\n",
       " 'https://www.autoscout24.com/lst?atype=C&cid=11983',\n",
       " 'https://www.autoscout24.com/lst?atype=C&cid=24872232',\n",
       " 'https://www.autoscout24.com/lst?atype=C&cid=2319583',\n",
       " 'https://www.autoscout24.com/lst?atype=C&cid=15535338',\n",
       " 'https://www.autoscout24.com/lst?atype=C&cid=15535338',\n",
       " 'https://www.autoscout24.com/lst?atype=C&cid=15535338',\n",
       " 'https://www.autoscout24.com/lst?atype=C&cid=15535338',\n",
       " 'https://www.autoscout24.com/lst?atype=C&cid=16051270',\n",
       " 'https://www.autoscout24.com/lst?atype=C&cid=23689',\n",
       " 'https://www.autoscout24.com/offers/porsche-911-911-gt3-clubsport-vollschale-matrix-lift-bose-gasoline-grey-33a199b7-3bc8-4ac3-b14c-3ef51681cce8?sort=standard&desc=0&lastSeenGuidPresent=false&cldtidx=13&position=13&search_id=jlhh4q18l4&source_otp=t50&source=listpage_search-results&order_bucket=6',\n",
       " 'https://www.autoscout24.com/lst?atype=C&cid=15535338',\n",
       " 'https://www.autoscout24.com/lst?atype=C&cid=15824211',\n",
       " 'https://www.autoscout24.com/lst?atype=C&cid=5711',\n",
       " 'https://www.autoscout24.com/lst?atype=C&cid=15535338',\n",
       " 'https://www.autoscout24.com/lst?atype=C&cid=33877221',\n",
       " 'https://www.autoscout24.com/lst?atype=C&cid=23689',\n",
       " 'https://www.autoscout24.com/lst?atype=C&cid=37723091']"
      ]
     },
     "execution_count": 18,
     "metadata": {},
     "output_type": "execute_result"
    }
   ],
   "source": [
    "dealers_cars_list"
   ]
  },
  {
   "cell_type": "code",
   "execution_count": 19,
   "id": "2bc388e8",
   "metadata": {},
   "outputs": [
    {
     "data": {
      "text/plain": [
       "'https://www.autoscout24.com/lst?atype=C&cid=36602827'"
      ]
     },
     "execution_count": 19,
     "metadata": {},
     "output_type": "execute_result"
    }
   ],
   "source": [
    "dealers_cars_list[0]"
   ]
  },
  {
   "cell_type": "code",
   "execution_count": 20,
   "id": "0023761b",
   "metadata": {},
   "outputs": [],
   "source": [
    "url0 = dealers_cars_list[0]\n",
    "html0 = requests.get(url0).text\n",
    "soup0 = BeautifulSoup(html0, 'lxml')"
   ]
  },
  {
   "cell_type": "code",
   "execution_count": 21,
   "id": "124dd5d5",
   "metadata": {},
   "outputs": [
    {
     "data": {
      "text/plain": [
       "20"
      ]
     },
     "execution_count": 21,
     "metadata": {},
     "output_type": "execute_result"
    }
   ],
   "source": [
    "total_pages(soup0)"
   ]
  },
  {
   "cell_type": "code",
   "execution_count": null,
   "id": "7d321239",
   "metadata": {},
   "outputs": [],
   "source": []
  }
 ],
 "metadata": {
  "hide_input": false,
  "kernelspec": {
   "display_name": "Python 3",
   "language": "python",
   "name": "python3"
  },
  "language_info": {
   "codemirror_mode": {
    "name": "ipython",
    "version": 3
   },
   "file_extension": ".py",
   "mimetype": "text/x-python",
   "name": "python",
   "nbconvert_exporter": "python",
   "pygments_lexer": "ipython3",
   "version": "3.8.8"
  }
 },
 "nbformat": 4,
 "nbformat_minor": 5
}
